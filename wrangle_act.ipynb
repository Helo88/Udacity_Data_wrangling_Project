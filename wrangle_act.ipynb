{
 "cells": [
  {
   "cell_type": "markdown",
   "metadata": {},
   "source": [
    "## IMPORT PACKAGES "
   ]
  },
  {
   "cell_type": "code",
   "execution_count": 139,
   "metadata": {},
   "outputs": [],
   "source": [
    "import pandas as pd\n",
    "import numpy as np\n",
    "import matplotlib.pyplot as plt\n",
    "%matplotlib inline \n",
    "import seaborn as sns\n",
    "import os\n",
    "import tweepy\n",
    "from tweepy import OAuthHandler\n",
    "import requests\n",
    "import json \n",
    "import re \n",
    "import time \n",
    "pd.set_option('display.max_columns',None)\n",
    "pd.options.display.float_format = '${:,.2f}'.format"
   ]
  },
  {
   "cell_type": "markdown",
   "metadata": {},
   "source": [
    "## GATHERING DATA "
   ]
  },
  {
   "cell_type": "code",
   "execution_count": 140,
   "metadata": {},
   "outputs": [],
   "source": [
    "# Gathering Twitter_Archive_Dataset\n",
    "df1 = pd.read_csv('twitter-archive-enhanced.csv')\n"
   ]
  },
  {
   "cell_type": "code",
   "execution_count": 141,
   "metadata": {},
   "outputs": [],
   "source": [
    "# Gathering the Image Predictions File from a url online\n",
    "url = 'https://d17h27t6h515a5.cloudfront.net/topher/2017/August/599fd2ad_image-predictions/image-predictions.tsv'\n",
    "file_name =url.split(\"/\")[-1]\n",
    "response = requests.get(url)\n",
    "\n",
    "with open(file_name, 'wb') as file:\n",
    "    file.write(response.content)    \n",
    "df2 = pd.read_table(file_name, sep='\\t')"
   ]
  },
  {
   "cell_type": "code",
   "execution_count": 142,
   "metadata": {},
   "outputs": [],
   "source": [
    "# Gathering Api Data\n",
    "consumer_key = ''\n",
    "consumer_secret = ''\n",
    "access_token = ''\n",
    "access_secret = ''\n",
    "\n",
    "auth = OAuthHandler(consumer_key, consumer_secret)\n",
    "auth.set_access_token(access_token, access_secret)\n",
    "\n",
    "api = tweepy.API(auth, wait_on_rate_limit=True)"
   ]
  },
  {
   "cell_type": "code",
   "execution_count": 143,
   "metadata": {},
   "outputs": [
    {
     "data": {
      "text/plain": [
       "2356"
      ]
     },
     "execution_count": 143,
     "metadata": {},
     "output_type": "execute_result"
    }
   ],
   "source": [
    "tweet_ids = df1.tweet_id.values\n",
    "len(tweet_ids)\n"
   ]
  },
  {
   "cell_type": "code",
   "execution_count": 144,
   "metadata": {},
   "outputs": [
    {
     "data": {
      "text/plain": [
       "'\\ncount = 0\\nfails_dict = {}\\nstart = time.time()\\n# Save each tweet\\'s returned JSON as a new line in a .txt file\\nwith open(\\'tweet_json.txt\\', \\'w\\') as outfile:\\n    # This loop will likely take 20-30 minutes to run because of Twitter\\'s rate limit\\n    for tweet_id in tweet_ids:\\n        count += 1\\n        print(str(count) + \": \" + str(tweet_id))\\n        try:\\n            tweet = api.get_status(tweet_id, tweet_mode=\\'extended\\')\\n            print(\"Success\")\\n            json.dump(tweet._json, outfile)\\n            outfile.write(\\'\\n\\')\\n        except tweepy.TweepError as e:\\n            print(\"Fail\")\\n            fails_dict[tweet_id] = e\\n            pass\\nend = time.time()\\nprint(end - start)\\nprint(fails_dict)\\n'"
      ]
     },
     "execution_count": 144,
     "metadata": {},
     "output_type": "execute_result"
    }
   ],
   "source": [
    "'''\n",
    "count = 0\n",
    "fails_dict = {}\n",
    "start = time.time()\n",
    "# Save each tweet's returned JSON as a new line in a .txt file\n",
    "with open('tweet_json.txt', 'w') as outfile:\n",
    "    # This loop will likely take 20-30 minutes to run because of Twitter's rate limit\n",
    "    for tweet_id in tweet_ids:\n",
    "        count += 1\n",
    "        print(str(count) + \": \" + str(tweet_id))\n",
    "        try:\n",
    "            tweet = api.get_status(tweet_id, tweet_mode='extended')\n",
    "            print(\"Success\")\n",
    "            json.dump(tweet._json, outfile)\n",
    "            outfile.write('\\n')\n",
    "        except tweepy.TweepError as e:\n",
    "            print(\"Fail\")\n",
    "            fails_dict[tweet_id] = e\n",
    "            pass\n",
    "end = time.time()\n",
    "print(end - start)\n",
    "print(fails_dict)\n",
    "'''"
   ]
  },
  {
   "cell_type": "code",
   "execution_count": 145,
   "metadata": {},
   "outputs": [],
   "source": [
    "with open('tweet_json.txt') as file:\n",
    "    favs = []\n",
    "    retweets=[]\n",
    "    tweet_id=[]\n",
    "    for line in file:\n",
    "        retweets.append(json.loads(line)[\"retweet_count\"])\n",
    "        favs.append(json.loads(line)[\"favorite_count\"])\n",
    "        tweet_id.append(json.loads(line)[\"id\"])\n",
    "     \n",
    "        \n",
    "        \n",
    "       "
   ]
  },
  {
   "cell_type": "code",
   "execution_count": 146,
   "metadata": {},
   "outputs": [],
   "source": [
    "df3=pd.DataFrame({\"id\":tweet_id,\"retweets_count\":retweets,\"favorite_count\":favs})"
   ]
  },
  {
   "cell_type": "markdown",
   "metadata": {},
   "source": [
    "## Assessing Data"
   ]
  },
  {
   "cell_type": "code",
   "execution_count": 147,
   "metadata": {},
   "outputs": [
    {
     "data": {
      "text/html": [
       "<div>\n",
       "<style scoped>\n",
       "    .dataframe tbody tr th:only-of-type {\n",
       "        vertical-align: middle;\n",
       "    }\n",
       "\n",
       "    .dataframe tbody tr th {\n",
       "        vertical-align: top;\n",
       "    }\n",
       "\n",
       "    .dataframe thead th {\n",
       "        text-align: right;\n",
       "    }\n",
       "</style>\n",
       "<table border=\"1\" class=\"dataframe\">\n",
       "  <thead>\n",
       "    <tr style=\"text-align: right;\">\n",
       "      <th></th>\n",
       "      <th>tweet_id</th>\n",
       "      <th>in_reply_to_status_id</th>\n",
       "      <th>in_reply_to_user_id</th>\n",
       "      <th>timestamp</th>\n",
       "      <th>source</th>\n",
       "      <th>text</th>\n",
       "      <th>retweeted_status_id</th>\n",
       "      <th>retweeted_status_user_id</th>\n",
       "      <th>retweeted_status_timestamp</th>\n",
       "      <th>expanded_urls</th>\n",
       "      <th>rating_numerator</th>\n",
       "      <th>rating_denominator</th>\n",
       "      <th>name</th>\n",
       "      <th>doggo</th>\n",
       "      <th>floofer</th>\n",
       "      <th>pupper</th>\n",
       "      <th>puppo</th>\n",
       "    </tr>\n",
       "  </thead>\n",
       "  <tbody>\n",
       "    <tr>\n",
       "      <th>0</th>\n",
       "      <td>892420643555336193</td>\n",
       "      <td>$nan</td>\n",
       "      <td>$nan</td>\n",
       "      <td>2017-08-01 16:23:56 +0000</td>\n",
       "      <td>&lt;a href=\"http://twitter.com/download/iphone\" r...</td>\n",
       "      <td>This is Phineas. He's a mystical boy. Only eve...</td>\n",
       "      <td>$nan</td>\n",
       "      <td>$nan</td>\n",
       "      <td>NaN</td>\n",
       "      <td>https://twitter.com/dog_rates/status/892420643...</td>\n",
       "      <td>13</td>\n",
       "      <td>10</td>\n",
       "      <td>Phineas</td>\n",
       "      <td>None</td>\n",
       "      <td>None</td>\n",
       "      <td>None</td>\n",
       "      <td>None</td>\n",
       "    </tr>\n",
       "    <tr>\n",
       "      <th>1</th>\n",
       "      <td>892177421306343426</td>\n",
       "      <td>$nan</td>\n",
       "      <td>$nan</td>\n",
       "      <td>2017-08-01 00:17:27 +0000</td>\n",
       "      <td>&lt;a href=\"http://twitter.com/download/iphone\" r...</td>\n",
       "      <td>This is Tilly. She's just checking pup on you....</td>\n",
       "      <td>$nan</td>\n",
       "      <td>$nan</td>\n",
       "      <td>NaN</td>\n",
       "      <td>https://twitter.com/dog_rates/status/892177421...</td>\n",
       "      <td>13</td>\n",
       "      <td>10</td>\n",
       "      <td>Tilly</td>\n",
       "      <td>None</td>\n",
       "      <td>None</td>\n",
       "      <td>None</td>\n",
       "      <td>None</td>\n",
       "    </tr>\n",
       "    <tr>\n",
       "      <th>2</th>\n",
       "      <td>891815181378084864</td>\n",
       "      <td>$nan</td>\n",
       "      <td>$nan</td>\n",
       "      <td>2017-07-31 00:18:03 +0000</td>\n",
       "      <td>&lt;a href=\"http://twitter.com/download/iphone\" r...</td>\n",
       "      <td>This is Archie. He is a rare Norwegian Pouncin...</td>\n",
       "      <td>$nan</td>\n",
       "      <td>$nan</td>\n",
       "      <td>NaN</td>\n",
       "      <td>https://twitter.com/dog_rates/status/891815181...</td>\n",
       "      <td>12</td>\n",
       "      <td>10</td>\n",
       "      <td>Archie</td>\n",
       "      <td>None</td>\n",
       "      <td>None</td>\n",
       "      <td>None</td>\n",
       "      <td>None</td>\n",
       "    </tr>\n",
       "    <tr>\n",
       "      <th>3</th>\n",
       "      <td>891689557279858688</td>\n",
       "      <td>$nan</td>\n",
       "      <td>$nan</td>\n",
       "      <td>2017-07-30 15:58:51 +0000</td>\n",
       "      <td>&lt;a href=\"http://twitter.com/download/iphone\" r...</td>\n",
       "      <td>This is Darla. She commenced a snooze mid meal...</td>\n",
       "      <td>$nan</td>\n",
       "      <td>$nan</td>\n",
       "      <td>NaN</td>\n",
       "      <td>https://twitter.com/dog_rates/status/891689557...</td>\n",
       "      <td>13</td>\n",
       "      <td>10</td>\n",
       "      <td>Darla</td>\n",
       "      <td>None</td>\n",
       "      <td>None</td>\n",
       "      <td>None</td>\n",
       "      <td>None</td>\n",
       "    </tr>\n",
       "    <tr>\n",
       "      <th>4</th>\n",
       "      <td>891327558926688256</td>\n",
       "      <td>$nan</td>\n",
       "      <td>$nan</td>\n",
       "      <td>2017-07-29 16:00:24 +0000</td>\n",
       "      <td>&lt;a href=\"http://twitter.com/download/iphone\" r...</td>\n",
       "      <td>This is Franklin. He would like you to stop ca...</td>\n",
       "      <td>$nan</td>\n",
       "      <td>$nan</td>\n",
       "      <td>NaN</td>\n",
       "      <td>https://twitter.com/dog_rates/status/891327558...</td>\n",
       "      <td>12</td>\n",
       "      <td>10</td>\n",
       "      <td>Franklin</td>\n",
       "      <td>None</td>\n",
       "      <td>None</td>\n",
       "      <td>None</td>\n",
       "      <td>None</td>\n",
       "    </tr>\n",
       "  </tbody>\n",
       "</table>\n",
       "</div>"
      ],
      "text/plain": [
       "             tweet_id  in_reply_to_status_id  in_reply_to_user_id  \\\n",
       "0  892420643555336193                   $nan                 $nan   \n",
       "1  892177421306343426                   $nan                 $nan   \n",
       "2  891815181378084864                   $nan                 $nan   \n",
       "3  891689557279858688                   $nan                 $nan   \n",
       "4  891327558926688256                   $nan                 $nan   \n",
       "\n",
       "                   timestamp  \\\n",
       "0  2017-08-01 16:23:56 +0000   \n",
       "1  2017-08-01 00:17:27 +0000   \n",
       "2  2017-07-31 00:18:03 +0000   \n",
       "3  2017-07-30 15:58:51 +0000   \n",
       "4  2017-07-29 16:00:24 +0000   \n",
       "\n",
       "                                              source  \\\n",
       "0  <a href=\"http://twitter.com/download/iphone\" r...   \n",
       "1  <a href=\"http://twitter.com/download/iphone\" r...   \n",
       "2  <a href=\"http://twitter.com/download/iphone\" r...   \n",
       "3  <a href=\"http://twitter.com/download/iphone\" r...   \n",
       "4  <a href=\"http://twitter.com/download/iphone\" r...   \n",
       "\n",
       "                                                text  retweeted_status_id  \\\n",
       "0  This is Phineas. He's a mystical boy. Only eve...                 $nan   \n",
       "1  This is Tilly. She's just checking pup on you....                 $nan   \n",
       "2  This is Archie. He is a rare Norwegian Pouncin...                 $nan   \n",
       "3  This is Darla. She commenced a snooze mid meal...                 $nan   \n",
       "4  This is Franklin. He would like you to stop ca...                 $nan   \n",
       "\n",
       "   retweeted_status_user_id retweeted_status_timestamp  \\\n",
       "0                      $nan                        NaN   \n",
       "1                      $nan                        NaN   \n",
       "2                      $nan                        NaN   \n",
       "3                      $nan                        NaN   \n",
       "4                      $nan                        NaN   \n",
       "\n",
       "                                       expanded_urls  rating_numerator  \\\n",
       "0  https://twitter.com/dog_rates/status/892420643...                13   \n",
       "1  https://twitter.com/dog_rates/status/892177421...                13   \n",
       "2  https://twitter.com/dog_rates/status/891815181...                12   \n",
       "3  https://twitter.com/dog_rates/status/891689557...                13   \n",
       "4  https://twitter.com/dog_rates/status/891327558...                12   \n",
       "\n",
       "   rating_denominator      name doggo floofer pupper puppo  \n",
       "0                  10   Phineas  None    None   None  None  \n",
       "1                  10     Tilly  None    None   None  None  \n",
       "2                  10    Archie  None    None   None  None  \n",
       "3                  10     Darla  None    None   None  None  \n",
       "4                  10  Franklin  None    None   None  None  "
      ]
     },
     "execution_count": 147,
     "metadata": {},
     "output_type": "execute_result"
    }
   ],
   "source": [
    "#Assessing Twitter_Archive_Dataset\n",
    "df1.head()\n"
   ]
  },
  {
   "cell_type": "code",
   "execution_count": 148,
   "metadata": {},
   "outputs": [
    {
     "data": {
      "text/html": [
       "<div>\n",
       "<style scoped>\n",
       "    .dataframe tbody tr th:only-of-type {\n",
       "        vertical-align: middle;\n",
       "    }\n",
       "\n",
       "    .dataframe tbody tr th {\n",
       "        vertical-align: top;\n",
       "    }\n",
       "\n",
       "    .dataframe thead th {\n",
       "        text-align: right;\n",
       "    }\n",
       "</style>\n",
       "<table border=\"1\" class=\"dataframe\">\n",
       "  <thead>\n",
       "    <tr style=\"text-align: right;\">\n",
       "      <th></th>\n",
       "      <th>tweet_id</th>\n",
       "      <th>in_reply_to_status_id</th>\n",
       "      <th>in_reply_to_user_id</th>\n",
       "      <th>timestamp</th>\n",
       "      <th>source</th>\n",
       "      <th>text</th>\n",
       "      <th>retweeted_status_id</th>\n",
       "      <th>retweeted_status_user_id</th>\n",
       "      <th>retweeted_status_timestamp</th>\n",
       "      <th>expanded_urls</th>\n",
       "      <th>rating_numerator</th>\n",
       "      <th>rating_denominator</th>\n",
       "      <th>name</th>\n",
       "      <th>doggo</th>\n",
       "      <th>floofer</th>\n",
       "      <th>pupper</th>\n",
       "      <th>puppo</th>\n",
       "    </tr>\n",
       "  </thead>\n",
       "  <tbody>\n",
       "    <tr>\n",
       "      <th>2351</th>\n",
       "      <td>666049248165822465</td>\n",
       "      <td>$nan</td>\n",
       "      <td>$nan</td>\n",
       "      <td>2015-11-16 00:24:50 +0000</td>\n",
       "      <td>&lt;a href=\"http://twitter.com/download/iphone\" r...</td>\n",
       "      <td>Here we have a 1949 1st generation vulpix. Enj...</td>\n",
       "      <td>$nan</td>\n",
       "      <td>$nan</td>\n",
       "      <td>NaN</td>\n",
       "      <td>https://twitter.com/dog_rates/status/666049248...</td>\n",
       "      <td>5</td>\n",
       "      <td>10</td>\n",
       "      <td>None</td>\n",
       "      <td>None</td>\n",
       "      <td>None</td>\n",
       "      <td>None</td>\n",
       "      <td>None</td>\n",
       "    </tr>\n",
       "    <tr>\n",
       "      <th>2352</th>\n",
       "      <td>666044226329800704</td>\n",
       "      <td>$nan</td>\n",
       "      <td>$nan</td>\n",
       "      <td>2015-11-16 00:04:52 +0000</td>\n",
       "      <td>&lt;a href=\"http://twitter.com/download/iphone\" r...</td>\n",
       "      <td>This is a purebred Piers Morgan. Loves to Netf...</td>\n",
       "      <td>$nan</td>\n",
       "      <td>$nan</td>\n",
       "      <td>NaN</td>\n",
       "      <td>https://twitter.com/dog_rates/status/666044226...</td>\n",
       "      <td>6</td>\n",
       "      <td>10</td>\n",
       "      <td>a</td>\n",
       "      <td>None</td>\n",
       "      <td>None</td>\n",
       "      <td>None</td>\n",
       "      <td>None</td>\n",
       "    </tr>\n",
       "    <tr>\n",
       "      <th>2353</th>\n",
       "      <td>666033412701032449</td>\n",
       "      <td>$nan</td>\n",
       "      <td>$nan</td>\n",
       "      <td>2015-11-15 23:21:54 +0000</td>\n",
       "      <td>&lt;a href=\"http://twitter.com/download/iphone\" r...</td>\n",
       "      <td>Here is a very happy pup. Big fan of well-main...</td>\n",
       "      <td>$nan</td>\n",
       "      <td>$nan</td>\n",
       "      <td>NaN</td>\n",
       "      <td>https://twitter.com/dog_rates/status/666033412...</td>\n",
       "      <td>9</td>\n",
       "      <td>10</td>\n",
       "      <td>a</td>\n",
       "      <td>None</td>\n",
       "      <td>None</td>\n",
       "      <td>None</td>\n",
       "      <td>None</td>\n",
       "    </tr>\n",
       "    <tr>\n",
       "      <th>2354</th>\n",
       "      <td>666029285002620928</td>\n",
       "      <td>$nan</td>\n",
       "      <td>$nan</td>\n",
       "      <td>2015-11-15 23:05:30 +0000</td>\n",
       "      <td>&lt;a href=\"http://twitter.com/download/iphone\" r...</td>\n",
       "      <td>This is a western brown Mitsubishi terrier. Up...</td>\n",
       "      <td>$nan</td>\n",
       "      <td>$nan</td>\n",
       "      <td>NaN</td>\n",
       "      <td>https://twitter.com/dog_rates/status/666029285...</td>\n",
       "      <td>7</td>\n",
       "      <td>10</td>\n",
       "      <td>a</td>\n",
       "      <td>None</td>\n",
       "      <td>None</td>\n",
       "      <td>None</td>\n",
       "      <td>None</td>\n",
       "    </tr>\n",
       "    <tr>\n",
       "      <th>2355</th>\n",
       "      <td>666020888022790149</td>\n",
       "      <td>$nan</td>\n",
       "      <td>$nan</td>\n",
       "      <td>2015-11-15 22:32:08 +0000</td>\n",
       "      <td>&lt;a href=\"http://twitter.com/download/iphone\" r...</td>\n",
       "      <td>Here we have a Japanese Irish Setter. Lost eye...</td>\n",
       "      <td>$nan</td>\n",
       "      <td>$nan</td>\n",
       "      <td>NaN</td>\n",
       "      <td>https://twitter.com/dog_rates/status/666020888...</td>\n",
       "      <td>8</td>\n",
       "      <td>10</td>\n",
       "      <td>None</td>\n",
       "      <td>None</td>\n",
       "      <td>None</td>\n",
       "      <td>None</td>\n",
       "      <td>None</td>\n",
       "    </tr>\n",
       "  </tbody>\n",
       "</table>\n",
       "</div>"
      ],
      "text/plain": [
       "                tweet_id  in_reply_to_status_id  in_reply_to_user_id  \\\n",
       "2351  666049248165822465                   $nan                 $nan   \n",
       "2352  666044226329800704                   $nan                 $nan   \n",
       "2353  666033412701032449                   $nan                 $nan   \n",
       "2354  666029285002620928                   $nan                 $nan   \n",
       "2355  666020888022790149                   $nan                 $nan   \n",
       "\n",
       "                      timestamp  \\\n",
       "2351  2015-11-16 00:24:50 +0000   \n",
       "2352  2015-11-16 00:04:52 +0000   \n",
       "2353  2015-11-15 23:21:54 +0000   \n",
       "2354  2015-11-15 23:05:30 +0000   \n",
       "2355  2015-11-15 22:32:08 +0000   \n",
       "\n",
       "                                                 source  \\\n",
       "2351  <a href=\"http://twitter.com/download/iphone\" r...   \n",
       "2352  <a href=\"http://twitter.com/download/iphone\" r...   \n",
       "2353  <a href=\"http://twitter.com/download/iphone\" r...   \n",
       "2354  <a href=\"http://twitter.com/download/iphone\" r...   \n",
       "2355  <a href=\"http://twitter.com/download/iphone\" r...   \n",
       "\n",
       "                                                   text  retweeted_status_id  \\\n",
       "2351  Here we have a 1949 1st generation vulpix. Enj...                 $nan   \n",
       "2352  This is a purebred Piers Morgan. Loves to Netf...                 $nan   \n",
       "2353  Here is a very happy pup. Big fan of well-main...                 $nan   \n",
       "2354  This is a western brown Mitsubishi terrier. Up...                 $nan   \n",
       "2355  Here we have a Japanese Irish Setter. Lost eye...                 $nan   \n",
       "\n",
       "      retweeted_status_user_id retweeted_status_timestamp  \\\n",
       "2351                      $nan                        NaN   \n",
       "2352                      $nan                        NaN   \n",
       "2353                      $nan                        NaN   \n",
       "2354                      $nan                        NaN   \n",
       "2355                      $nan                        NaN   \n",
       "\n",
       "                                          expanded_urls  rating_numerator  \\\n",
       "2351  https://twitter.com/dog_rates/status/666049248...                 5   \n",
       "2352  https://twitter.com/dog_rates/status/666044226...                 6   \n",
       "2353  https://twitter.com/dog_rates/status/666033412...                 9   \n",
       "2354  https://twitter.com/dog_rates/status/666029285...                 7   \n",
       "2355  https://twitter.com/dog_rates/status/666020888...                 8   \n",
       "\n",
       "      rating_denominator  name doggo floofer pupper puppo  \n",
       "2351                  10  None  None    None   None  None  \n",
       "2352                  10     a  None    None   None  None  \n",
       "2353                  10     a  None    None   None  None  \n",
       "2354                  10     a  None    None   None  None  \n",
       "2355                  10  None  None    None   None  None  "
      ]
     },
     "execution_count": 148,
     "metadata": {},
     "output_type": "execute_result"
    }
   ],
   "source": [
    "df1.tail()"
   ]
  },
  {
   "cell_type": "code",
   "execution_count": 149,
   "metadata": {},
   "outputs": [
    {
     "name": "stdout",
     "output_type": "stream",
     "text": [
      "<class 'pandas.core.frame.DataFrame'>\n",
      "RangeIndex: 2356 entries, 0 to 2355\n",
      "Data columns (total 17 columns):\n",
      " #   Column                      Non-Null Count  Dtype  \n",
      "---  ------                      --------------  -----  \n",
      " 0   tweet_id                    2356 non-null   int64  \n",
      " 1   in_reply_to_status_id       78 non-null     float64\n",
      " 2   in_reply_to_user_id         78 non-null     float64\n",
      " 3   timestamp                   2356 non-null   object \n",
      " 4   source                      2356 non-null   object \n",
      " 5   text                        2356 non-null   object \n",
      " 6   retweeted_status_id         181 non-null    float64\n",
      " 7   retweeted_status_user_id    181 non-null    float64\n",
      " 8   retweeted_status_timestamp  181 non-null    object \n",
      " 9   expanded_urls               2297 non-null   object \n",
      " 10  rating_numerator            2356 non-null   int64  \n",
      " 11  rating_denominator          2356 non-null   int64  \n",
      " 12  name                        2356 non-null   object \n",
      " 13  doggo                       2356 non-null   object \n",
      " 14  floofer                     2356 non-null   object \n",
      " 15  pupper                      2356 non-null   object \n",
      " 16  puppo                       2356 non-null   object \n",
      "dtypes: float64(4), int64(3), object(10)\n",
      "memory usage: 313.0+ KB\n"
     ]
    }
   ],
   "source": [
    "df1.info()"
   ]
  },
  {
   "cell_type": "code",
   "execution_count": 150,
   "metadata": {},
   "outputs": [
    {
     "data": {
      "text/plain": [
       "array([ 10,   0,  15,  70,   7,  11, 150, 170,  20,  50,  90,  80,  40,\n",
       "       130, 110,  16, 120,   2], dtype=int64)"
      ]
     },
     "execution_count": 150,
     "metadata": {},
     "output_type": "execute_result"
    }
   ],
   "source": [
    "df1[\"rating_denominator\"].unique()"
   ]
  },
  {
   "cell_type": "code",
   "execution_count": 151,
   "metadata": {},
   "outputs": [
    {
     "data": {
      "text/plain": [
       "array([  13,   12,   14,    5,   17,   11,   10,  420,  666,    6,   15,\n",
       "        182,  960,    0,   75,    7,   84,    9,   24,    8,    1,   27,\n",
       "          3,    4,  165, 1776,  204,   50,   99,   80,   45,   60,   44,\n",
       "        143,  121,   20,   26,    2,  144,   88], dtype=int64)"
      ]
     },
     "execution_count": 151,
     "metadata": {},
     "output_type": "execute_result"
    }
   ],
   "source": [
    "df1[\"rating_numerator\"].unique()"
   ]
  },
  {
   "cell_type": "code",
   "execution_count": 152,
   "metadata": {},
   "outputs": [
    {
     "data": {
      "text/plain": [
       "0"
      ]
     },
     "execution_count": 152,
     "metadata": {},
     "output_type": "execute_result"
    }
   ],
   "source": [
    "sum(df1[\"tweet_id\"].duplicated())"
   ]
  },
  {
   "cell_type": "code",
   "execution_count": 153,
   "metadata": {},
   "outputs": [
    {
     "data": {
      "text/plain": [
       "array(['<a href=\"http://twitter.com/download/iphone\" rel=\"nofollow\">Twitter for iPhone</a>',\n",
       "       '<a href=\"http://twitter.com\" rel=\"nofollow\">Twitter Web Client</a>',\n",
       "       '<a href=\"http://vine.co\" rel=\"nofollow\">Vine - Make a Scene</a>',\n",
       "       '<a href=\"https://about.twitter.com/products/tweetdeck\" rel=\"nofollow\">TweetDeck</a>'],\n",
       "      dtype=object)"
      ]
     },
     "execution_count": 153,
     "metadata": {},
     "output_type": "execute_result"
    }
   ],
   "source": [
    "df1[\"source\"].unique()"
   ]
  },
  {
   "cell_type": "code",
   "execution_count": 154,
   "metadata": {},
   "outputs": [
    {
     "data": {
      "text/plain": [
       "None       745\n",
       "a           55\n",
       "Charlie     12\n",
       "Lucy        11\n",
       "Cooper      11\n",
       "          ... \n",
       "Arnold       1\n",
       "Nimbus       1\n",
       "Barry        1\n",
       "Peanut       1\n",
       "Chuq         1\n",
       "Name: name, Length: 957, dtype: int64"
      ]
     },
     "execution_count": 154,
     "metadata": {},
     "output_type": "execute_result"
    }
   ],
   "source": [
    "df1[\"name\"].value_counts()"
   ]
  },
  {
   "cell_type": "code",
   "execution_count": 155,
   "metadata": {},
   "outputs": [
    {
     "data": {
      "text/plain": [
       "array([           nan, 8.87473957e+17, 8.86053734e+17, 8.30583321e+17,\n",
       "       8.78057613e+17, 8.78281511e+17, 6.69000397e+17, 8.76850772e+17,\n",
       "       8.66334965e+17, 8.68880398e+17, 8.73213776e+17, 8.72657584e+17,\n",
       "       8.41077006e+17, 8.59196979e+17, 8.68552279e+17, 8.65013420e+17,\n",
       "       8.66450706e+17, 8.37820168e+17, 8.63062472e+17, 8.06629075e+17,\n",
       "       8.60563773e+17, 8.60914485e+17, 7.61672994e+17, 8.39549326e+17,\n",
       "       8.57061112e+17, 8.44704788e+17, 8.56330159e+17, 8.42163533e+17,\n",
       "       8.55122533e+17, 8.31650052e+17, 8.29374342e+17, 8.48289382e+17,\n",
       "       8.33124695e+17, 8.32369877e+17, 8.47971000e+17, 7.56288534e+17,\n",
       "       7.73308824e+17, 8.07106841e+17, 8.17423860e+17, 8.40632337e+17,\n",
       "       6.67152164e+17, 8.39289919e+17, 8.38905981e+17, 7.83839966e+17,\n",
       "       8.20749717e+17, 8.37011345e+17, 8.36648149e+17, 8.17827839e+17,\n",
       "       7.86963064e+17, 8.35264099e+17, 7.53039831e+17, 8.29501995e+17,\n",
       "       8.32434358e+17, 8.32766382e+17, 7.86709083e+17, 7.93286476e+17,\n",
       "       7.69940426e+17, 8.09220051e+17, 8.26958653e+17, 8.10254108e+17,\n",
       "       6.94669722e+17, 8.09920764e+17, 8.25026591e+17, 7.95076730e+17,\n",
       "       7.84057940e+17, 8.22244817e+17, 8.22489057e+17, 7.86233965e+17,\n",
       "       7.80601304e+17, 7.82305868e+17, 8.19227688e+17, 8.20314634e+17,\n",
       "       8.00141422e+17, 8.19952236e+17, 8.19004803e+17, 8.19006401e+17,\n",
       "       8.08344866e+17, 7.73547597e+17, 8.16450571e+17, 6.92417313e+17,\n",
       "       8.15966073e+17, 7.90946056e+17, 8.15990721e+17, 7.32005617e+17,\n",
       "       7.91406956e+17, 6.98195409e+17, 7.90277117e+17, 6.80055456e+17,\n",
       "       7.93962222e+17, 8.01167903e+17, 7.82969140e+17, 7.81524693e+17,\n",
       "       7.83334640e+17, 7.82722599e+17, 7.84183166e+17, 7.84826020e+17,\n",
       "       6.91416866e+17, 7.67754930e+17, 7.77684234e+17, 7.79056096e+17,\n",
       "       8.00065028e+17, 7.75733305e+17, 8.00854023e+17, 7.76113306e+17,\n",
       "       6.81694086e+17, 7.75085133e+17, 7.74314404e+17, 7.40676976e+17,\n",
       "       7.18631498e+17, 7.12809026e+17, 7.01214701e+17, 6.83391853e+17,\n",
       "       6.76936542e+17, 6.75501076e+17, 6.71896809e+17, 6.70444956e+17,\n",
       "       6.67509364e+17, 6.67182792e+17, 6.66104133e+17, 7.71770457e+17,\n",
       "       6.87317306e+17, 7.80931614e+17, 7.96149749e+17, 7.89530877e+17,\n",
       "       7.88765915e+17, 7.91672323e+17, 6.84830983e+17, 6.82088079e+17,\n",
       "       7.46757706e+17, 7.63837566e+17, 7.89986466e+17, 7.62699858e+17,\n",
       "       7.62464539e+17, 7.50719633e+17, 7.36392552e+17, 7.61004548e+17,\n",
       "       7.52932433e+17, 7.59447682e+17, 7.79834333e+17, 6.74291837e+17,\n",
       "       7.07610949e+17, 7.42423170e+17, 7.80465709e+17, 7.53375669e+17,\n",
       "       6.79462823e+17, 7.58099636e+17, 7.03041950e+17, 7.68193405e+17,\n",
       "       7.50429298e+17, 6.79828447e+17, 7.00747789e+17, 7.33109485e+17,\n",
       "       7.40373189e+17, 7.71380798e+17, 7.65222099e+17, 6.73320133e+17,\n",
       "       7.71002130e+17, 7.39238158e+17, 7.41067307e+17, 7.06904524e+17,\n",
       "       7.00143752e+17, 7.39979192e+17, 7.59923799e+17, 7.25842289e+17,\n",
       "       6.73295269e+17, 6.85325113e+17, 7.11694788e+17, 7.60153833e+17,\n",
       "       7.39544079e+17, 6.70319131e+17, 6.79062614e+17, 7.57597141e+17,\n",
       "       6.79158374e+17, 6.81523178e+17, 6.83515932e+17, 6.75354436e+17,\n",
       "       7.04761121e+17, 6.67866724e+17, 6.67138270e+17, 7.11998280e+17,\n",
       "       6.67548696e+17, 6.67548415e+17])"
      ]
     },
     "execution_count": 155,
     "metadata": {},
     "output_type": "execute_result"
    }
   ],
   "source": [
    "df1[\"retweeted_status_id\"].unique()"
   ]
  },
  {
   "cell_type": "code",
   "execution_count": 156,
   "metadata": {},
   "outputs": [
    {
     "data": {
      "text/plain": [
       "array(['Phineas', 'Tilly', 'Archie', 'Darla', 'Franklin', 'None', 'Jax',\n",
       "       'Zoey', 'Cassie', 'Koda', 'Bruno', 'Ted', 'Stuart', 'Oliver',\n",
       "       'Jim', 'Zeke', 'Ralphus', 'Canela', 'Gerald', 'Jeffrey', 'such',\n",
       "       'Maya', 'Mingus', 'Derek', 'Roscoe', 'Waffles', 'Jimbo', 'Maisey',\n",
       "       'Lilly', 'Earl', 'Lola', 'Kevin', 'Yogi', 'Noah', 'Bella',\n",
       "       'Grizzwald', 'Rusty', 'Gus', 'Stanley', 'Alfy', 'Koko', 'Rey',\n",
       "       'Gary', 'a', 'Elliot', 'Louis', 'Jesse', 'Romeo', 'Bailey',\n",
       "       'Duddles', 'Jack', 'Emmy', 'Steven', 'Beau', 'Snoopy', 'Shadow',\n",
       "       'Terrance', 'Aja', 'Penny', 'Dante', 'Nelly', 'Ginger', 'Benedict',\n",
       "       'Venti', 'Goose', 'Nugget', 'Cash', 'Coco', 'Jed', 'Sebastian',\n",
       "       'Walter', 'Sierra', 'Monkey', 'Harry', 'Kody', 'Lassie', 'Rover',\n",
       "       'Napolean', 'Dawn', 'Boomer', 'Cody', 'Rumble', 'Clifford',\n",
       "       'quite', 'Dewey', 'Scout', 'Gizmo', 'Cooper', 'Harold', 'Shikha',\n",
       "       'Jamesy', 'Lili', 'Sammy', 'Meatball', 'Paisley', 'Albus',\n",
       "       'Neptune', 'Quinn', 'Belle', 'Zooey', 'Dave', 'Jersey', 'Hobbes',\n",
       "       'Burt', 'Lorenzo', 'Carl', 'Jordy', 'Milky', 'Trooper', 'Winston',\n",
       "       'Sophie', 'Wyatt', 'Rosie', 'Thor', 'Oscar', 'Luna', 'Callie',\n",
       "       'Cermet', 'George', 'Marlee', 'Arya', 'Einstein', 'Alice',\n",
       "       'Rumpole', 'Benny', 'Aspen', 'Jarod', 'Wiggles', 'General',\n",
       "       'Sailor', 'Astrid', 'Iggy', 'Snoop', 'Kyle', 'Leo', 'Riley',\n",
       "       'Gidget', 'Noosh', 'Odin', 'Jerry', 'Charlie', 'Georgie', 'Rontu',\n",
       "       'Cannon', 'Furzey', 'Daisy', 'Tuck', 'Barney', 'Vixen', 'Jarvis',\n",
       "       'Mimosa', 'Pickles', 'Bungalo', 'Brady', 'Margo', 'Sadie', 'Hank',\n",
       "       'Tycho', 'Stephan', 'Indie', 'Winnie', 'Bentley', 'Ken', 'Max',\n",
       "       'Maddie', 'Pipsy', 'Monty', 'Sojourner', 'Odie', 'Arlo', 'Sunny',\n",
       "       'Vincent', 'Lucy', 'Clark', 'Mookie', 'Meera', 'Buddy', 'Ava',\n",
       "       'Rory', 'Eli', 'Ash', 'Tucker', 'Tobi', 'Chester', 'Wilson',\n",
       "       'Sunshine', 'Lipton', 'Gabby', 'Bronte', 'Poppy', 'Rhino',\n",
       "       'Willow', 'not', 'Orion', 'Eevee', 'Smiley', 'Logan', 'Moreton',\n",
       "       'Klein', 'Miguel', 'Emanuel', 'Kuyu', 'Dutch', 'Pete', 'Scooter',\n",
       "       'Reggie', 'Kyro', 'Samson', 'Loki', 'Mia', 'Malcolm', 'Dexter',\n",
       "       'Alfie', 'Fiona', 'one', 'Mutt', 'Bear', 'Doobert', 'Beebop',\n",
       "       'Alexander', 'Sailer', 'Brutus', 'Kona', 'Boots', 'Ralphie',\n",
       "       'Phil', 'Cupid', 'Pawnd', 'Pilot', 'Ike', 'Mo', 'Toby', 'Sweet',\n",
       "       'Pablo', 'Nala', 'Balto', 'Crawford', 'Gabe', 'Mattie', 'Jimison',\n",
       "       'Hercules', 'Duchess', 'Harlso', 'Sampson', 'Sundance', 'Luca',\n",
       "       'Flash', 'Finn', 'Peaches', 'Howie', 'Jazzy', 'Anna', 'Bo',\n",
       "       'Seamus', 'Wafer', 'Chelsea', 'Tom', 'Moose', 'Florence', 'Autumn',\n",
       "       'Dido', 'Eugene', 'Herschel', 'Strudel', 'Tebow', 'Chloe', 'Betty',\n",
       "       'Timber', 'Binky', 'Dudley', 'Comet', 'Larry', 'Levi', 'Akumi',\n",
       "       'Titan', 'Olivia', 'Alf', 'Oshie', 'Bruce', 'Chubbs', 'Sky',\n",
       "       'Atlas', 'Eleanor', 'Layla', 'Rocky', 'Baron', 'Tyr', 'Bauer',\n",
       "       'Swagger', 'Brandi', 'Mary', 'Moe', 'Halo', 'Augie', 'Craig',\n",
       "       'Sam', 'Hunter', 'Pavlov', 'Maximus', 'Wallace', 'Ito', 'Milo',\n",
       "       'Ollie', 'Cali', 'Lennon', 'incredibly', 'Major', 'Duke',\n",
       "       'Reginald', 'Sansa', 'Shooter', 'Django', 'Diogi', 'Sonny',\n",
       "       'Philbert', 'Marley', 'Severus', 'Ronnie', 'Anakin', 'Bones',\n",
       "       'Mauve', 'Chef', 'Doc', 'Sobe', 'Longfellow', 'Mister', 'Iroh',\n",
       "       'Baloo', 'Stubert', 'Paull', 'Timison', 'Davey', 'Pancake',\n",
       "       'Tyrone', 'Snicku', 'Ruby', 'Brody', 'Rizzy', 'Mack', 'Butter',\n",
       "       'Nimbus', 'Laika', 'Dobby', 'Juno', 'Maude', 'Lily', 'Newt',\n",
       "       'Benji', 'Nida', 'Robin', 'Monster', 'BeBe', 'Remus', 'Mabel',\n",
       "       'Misty', 'Happy', 'Mosby', 'Maggie', 'Leela', 'Ralphy', 'Brownie',\n",
       "       'Meyer', 'Stella', 'mad', 'Frank', 'Tonks', 'Lincoln', 'Oakley',\n",
       "       'Dale', 'Rizzo', 'Arnie', 'Pinot', 'Dallas', 'Hero', 'Frankie',\n",
       "       'Stormy', 'Mairi', 'Loomis', 'Godi', 'Kenny', 'Deacon', 'Timmy',\n",
       "       'Harper', 'Chipson', 'Combo', 'Dash', 'Bell', 'Hurley', 'Jay',\n",
       "       'Mya', 'Strider', 'an', 'Wesley', 'Solomon', 'Huck', 'very', 'O',\n",
       "       'Blue', 'Finley', 'Sprinkles', 'Heinrich', 'Shakespeare', 'Fizz',\n",
       "       'Chip', 'Grey', 'Roosevelt', 'Gromit', 'Willem', 'Dakota', 'Dixie',\n",
       "       'Al', 'Jackson', 'just', 'Carbon', 'DonDon', 'Kirby', 'Lou',\n",
       "       'Nollie', 'Chevy', 'Tito', 'Louie', 'Rupert', 'Rufus', 'Brudge',\n",
       "       'Shadoe', 'Colby', 'Angel', 'Brat', 'Tove', 'my', 'Aubie', 'Kota',\n",
       "       'Eve', 'Glenn', 'Shelby', 'Sephie', 'Bonaparte', 'Albert',\n",
       "       'Wishes', 'Rose', 'Theo', 'Rocco', 'Fido', 'Emma', 'Spencer',\n",
       "       'Lilli', 'Boston', 'Brandonald', 'Corey', 'Leonard', 'Chompsky',\n",
       "       'Beckham', 'Devón', 'Gert', 'Watson', 'Rubio', 'Keith', 'Dex',\n",
       "       'Carly', 'Ace', 'Tayzie', 'Grizzie', 'Fred', 'Gilbert', 'Zoe',\n",
       "       'Stewie', 'Calvin', 'Lilah', 'Spanky', 'Jameson', 'Piper',\n",
       "       'Atticus', 'Blu', 'Dietrich', 'Divine', 'Tripp', 'his', 'Cora',\n",
       "       'Huxley', 'Keurig', 'Bookstore', 'Linus', 'Abby', 'Shaggy',\n",
       "       'Shiloh', 'Gustav', 'Arlen', 'Percy', 'Lenox', 'Sugar', 'Harvey',\n",
       "       'Blanket', 'actually', 'Geno', 'Stark', 'Beya', 'Kilo', 'Kayla',\n",
       "       'Maxaroni', 'Doug', 'Edmund', 'Aqua', 'Theodore', 'Chase',\n",
       "       'getting', 'Rorie', 'Simba', 'Charles', 'Bayley', 'Axel',\n",
       "       'Storkson', 'Remy', 'Chadrick', 'Kellogg', 'Buckley', 'Livvie',\n",
       "       'Terry', 'Hermione', 'Ralpher', 'Aldrick', 'this', 'unacceptable',\n",
       "       'Rooney', 'Crystal', 'Ziva', 'Stefan', 'Pupcasso', 'Puff',\n",
       "       'Flurpson', 'Coleman', 'Enchilada', 'Raymond', 'all', 'Rueben',\n",
       "       'Cilantro', 'Karll', 'Sprout', 'Blitz', 'Bloop', 'Lillie',\n",
       "       'Ashleigh', 'Kreggory', 'Sarge', 'Luther', 'Ivar', 'Jangle',\n",
       "       'Schnitzel', 'Panda', 'Berkeley', 'Ralphé', 'Charleson', 'Clyde',\n",
       "       'Harnold', 'Sid', 'Pippa', 'Otis', 'Carper', 'Bowie',\n",
       "       'Alexanderson', 'Suki', 'Barclay', 'Skittle', 'Ebby', 'Flávio',\n",
       "       'Smokey', 'Link', 'Jennifur', 'Ozzy', 'Bluebert', 'Stephanus',\n",
       "       'Bubbles', 'old', 'Zeus', 'Bertson', 'Nico', 'Michelangelope',\n",
       "       'Siba', 'Calbert', 'Curtis', 'Travis', 'Thumas', 'Kanu', 'Lance',\n",
       "       'Opie', 'Kane', 'Olive', 'Chuckles', 'Staniel', 'Sora', 'Beemo',\n",
       "       'Gunner', 'infuriating', 'Lacy', 'Tater', 'Olaf', 'Cecil', 'Vince',\n",
       "       'Karma', 'Billy', 'Walker', 'Rodney', 'Klevin', 'Malikai',\n",
       "       'Bobble', 'River', 'Jebberson', 'Remington', 'Farfle', 'Jiminus',\n",
       "       'Clarkus', 'Finnegus', 'Cupcake', 'Kathmandu', 'Ellie', 'Katie',\n",
       "       'Kara', 'Adele', 'Zara', 'Ambrose', 'Jimothy', 'Bode', 'Terrenth',\n",
       "       'Reese', 'Chesterson', 'Lucia', 'Bisquick', 'Ralphson', 'Socks',\n",
       "       'Rambo', 'Rudy', 'Fiji', 'Rilo', 'Bilbo', 'Coopson', 'Yoda',\n",
       "       'Millie', 'Chet', 'Crouton', 'Daniel', 'Kaia', 'Murphy', 'Dotsy',\n",
       "       'Eazy', 'Coops', 'Fillup', 'Miley', 'Charl', 'Reagan', 'Yukon',\n",
       "       'CeCe', 'Cuddles', 'Claude', 'Jessiga', 'Carter', 'Ole', 'Pherb',\n",
       "       'Blipson', 'Reptar', 'Trevith', 'Berb', 'Bob', 'Colin', 'Brian',\n",
       "       'Oliviér', 'Grady', 'Kobe', 'Freddery', 'Bodie', 'Dunkin', 'Wally',\n",
       "       'Tupawc', 'Amber', 'Edgar', 'Teddy', 'Kingsley', 'Brockly',\n",
       "       'Richie', 'Molly', 'Vinscent', 'Cedrick', 'Hazel', 'Lolo', 'Eriq',\n",
       "       'Phred', 'the', 'Oddie', 'Maxwell', 'Geoff', 'Covach', 'Durg',\n",
       "       'Fynn', 'Ricky', 'Herald', 'Lucky', 'Ferg', 'Trip', 'Clarence',\n",
       "       'Hamrick', 'Brad', 'Pubert', 'Frönq', 'Derby', 'Lizzie', 'Ember',\n",
       "       'Blakely', 'Opal', 'Marq', 'Kramer', 'Barry', 'Gordon', 'Baxter',\n",
       "       'Mona', 'Horace', 'Crimson', 'Birf', 'Hammond', 'Lorelei', 'Marty',\n",
       "       'Brooks', 'Petrick', 'Hubertson', 'Gerbald', 'Oreo', 'Bruiser',\n",
       "       'Perry', 'Bobby', 'Jeph', 'Obi', 'Tino', 'Kulet', 'Sweets', 'Lupe',\n",
       "       'Tiger', 'Jiminy', 'Griffin', 'Banjo', 'Brandy', 'Lulu', 'Darrel',\n",
       "       'Taco', 'Joey', 'Patrick', 'Kreg', 'Todo', 'Tess', 'Ulysses',\n",
       "       'Toffee', 'Apollo', 'Asher', 'Glacier', 'Chuck', 'Champ', 'Ozzie',\n",
       "       'Griswold', 'Cheesy', 'Moofasa', 'Hector', 'Goliath', 'Kawhi',\n",
       "       'by', 'Emmie', 'Penelope', 'Willie', 'Rinna', 'Mike', 'William',\n",
       "       'Dwight', 'Evy', 'officially', 'Rascal', 'Linda', 'Tug', 'Tango',\n",
       "       'Grizz', 'Jerome', 'Crumpet', 'Jessifer', 'Izzy', 'Ralph', 'Sandy',\n",
       "       'Humphrey', 'Tassy', 'Juckson', 'Chuq', 'Tyrus', 'Karl',\n",
       "       'Godzilla', 'Vinnie', 'Kenneth', 'Herm', 'Bert', 'Striker',\n",
       "       'Donny', 'Pepper', 'Bernie', 'Buddah', 'Lenny', 'Arnold', 'Zuzu',\n",
       "       'Mollie', 'Laela', 'Tedders', 'Superpup', 'Rufio', 'Jeb', 'Rodman',\n",
       "       'Jonah', 'Chesney', 'life', 'Henry', 'Bobbay', 'Mitch', 'Kaiya',\n",
       "       'Acro', 'Aiden', 'Obie', 'Dot', 'Shnuggles', 'Kendall', 'Jeffri',\n",
       "       'Steve', 'Mac', 'Fletcher', 'Kenzie', 'Pumpkin', 'Schnozz',\n",
       "       'Gustaf', 'Cheryl', 'Ed', 'Leonidas', 'Norman', 'Caryl', 'Scott',\n",
       "       'Taz', 'Darby', 'Jackie', 'light', 'Jazz', 'Franq', 'Pippin',\n",
       "       'Rolf', 'Snickers', 'Ridley', 'Cal', 'Bradley', 'Bubba', 'Tuco',\n",
       "       'Patch', 'Mojo', 'Batdog', 'Dylan', 'space', 'Mark', 'JD',\n",
       "       'Alejandro', 'Scruffers', 'Pip', 'Julius', 'Tanner', 'Sparky',\n",
       "       'Anthony', 'Holly', 'Jett', 'Amy', 'Sage', 'Andy', 'Mason',\n",
       "       'Trigger', 'Antony', 'Creg', 'Traviss', 'Gin', 'Jeffrie', 'Danny',\n",
       "       'Ester', 'Pluto', 'Bloo', 'Edd', 'Willy', 'Herb', 'Damon',\n",
       "       'Peanut', 'Nigel', 'Butters', 'Sandra', 'Fabio', 'Randall', 'Liam',\n",
       "       'Tommy', 'Ben', 'Raphael', 'Julio', 'Andru', 'Kloey', 'Shawwn',\n",
       "       'Skye', 'Kollin', 'Ronduh', 'Billl', 'Saydee', 'Dug', 'Tessa',\n",
       "       'Sully', 'Kirk', 'Ralf', 'Clarq', 'Jaspers', 'Samsom', 'Harrison',\n",
       "       'Chaz', 'Jeremy', 'Jaycob', 'Lambeau', 'Ruffles', 'Amélie', 'Bobb',\n",
       "       'Banditt', 'Kevon', 'Winifred', 'Hanz', 'Churlie', 'Zeek',\n",
       "       'Timofy', 'Maks', 'Jomathan', 'Kallie', 'Marvin', 'Spark',\n",
       "       'Gòrdón', 'Jo', 'DayZ', 'Jareld', 'Torque', 'Ron', 'Skittles',\n",
       "       'Cleopatricia', 'Erik', 'Stu', 'Tedrick', 'Filup', 'Kial',\n",
       "       'Naphaniel', 'Dook', 'Hall', 'Philippe', 'Biden', 'Fwed',\n",
       "       'Genevieve', 'Joshwa', 'Bradlay', 'Clybe', 'Keet', 'Carll',\n",
       "       'Jockson', 'Josep', 'Lugan', 'Christoper'], dtype=object)"
      ]
     },
     "execution_count": 156,
     "metadata": {},
     "output_type": "execute_result"
    }
   ],
   "source": [
    "df1.name.unique()"
   ]
  },
  {
   "cell_type": "code",
   "execution_count": 157,
   "metadata": {},
   "outputs": [
    {
     "data": {
      "text/plain": [
       "0"
      ]
     },
     "execution_count": 157,
     "metadata": {},
     "output_type": "execute_result"
    }
   ],
   "source": [
    "sum(df1.duplicated())"
   ]
  },
  {
   "cell_type": "code",
   "execution_count": 158,
   "metadata": {},
   "outputs": [
    {
     "data": {
      "text/html": [
       "<div>\n",
       "<style scoped>\n",
       "    .dataframe tbody tr th:only-of-type {\n",
       "        vertical-align: middle;\n",
       "    }\n",
       "\n",
       "    .dataframe tbody tr th {\n",
       "        vertical-align: top;\n",
       "    }\n",
       "\n",
       "    .dataframe thead th {\n",
       "        text-align: right;\n",
       "    }\n",
       "</style>\n",
       "<table border=\"1\" class=\"dataframe\">\n",
       "  <thead>\n",
       "    <tr style=\"text-align: right;\">\n",
       "      <th></th>\n",
       "      <th>tweet_id</th>\n",
       "      <th>jpg_url</th>\n",
       "      <th>img_num</th>\n",
       "      <th>p1</th>\n",
       "      <th>p1_conf</th>\n",
       "      <th>p1_dog</th>\n",
       "      <th>p2</th>\n",
       "      <th>p2_conf</th>\n",
       "      <th>p2_dog</th>\n",
       "      <th>p3</th>\n",
       "      <th>p3_conf</th>\n",
       "      <th>p3_dog</th>\n",
       "    </tr>\n",
       "  </thead>\n",
       "  <tbody>\n",
       "    <tr>\n",
       "      <th>0</th>\n",
       "      <td>666020888022790149</td>\n",
       "      <td>https://pbs.twimg.com/media/CT4udn0WwAA0aMy.jpg</td>\n",
       "      <td>1</td>\n",
       "      <td>Welsh_springer_spaniel</td>\n",
       "      <td>$0.47</td>\n",
       "      <td>True</td>\n",
       "      <td>collie</td>\n",
       "      <td>$0.16</td>\n",
       "      <td>True</td>\n",
       "      <td>Shetland_sheepdog</td>\n",
       "      <td>$0.06</td>\n",
       "      <td>True</td>\n",
       "    </tr>\n",
       "    <tr>\n",
       "      <th>1</th>\n",
       "      <td>666029285002620928</td>\n",
       "      <td>https://pbs.twimg.com/media/CT42GRgUYAA5iDo.jpg</td>\n",
       "      <td>1</td>\n",
       "      <td>redbone</td>\n",
       "      <td>$0.51</td>\n",
       "      <td>True</td>\n",
       "      <td>miniature_pinscher</td>\n",
       "      <td>$0.07</td>\n",
       "      <td>True</td>\n",
       "      <td>Rhodesian_ridgeback</td>\n",
       "      <td>$0.07</td>\n",
       "      <td>True</td>\n",
       "    </tr>\n",
       "    <tr>\n",
       "      <th>2</th>\n",
       "      <td>666033412701032449</td>\n",
       "      <td>https://pbs.twimg.com/media/CT4521TWwAEvMyu.jpg</td>\n",
       "      <td>1</td>\n",
       "      <td>German_shepherd</td>\n",
       "      <td>$0.60</td>\n",
       "      <td>True</td>\n",
       "      <td>malinois</td>\n",
       "      <td>$0.14</td>\n",
       "      <td>True</td>\n",
       "      <td>bloodhound</td>\n",
       "      <td>$0.12</td>\n",
       "      <td>True</td>\n",
       "    </tr>\n",
       "    <tr>\n",
       "      <th>3</th>\n",
       "      <td>666044226329800704</td>\n",
       "      <td>https://pbs.twimg.com/media/CT5Dr8HUEAA-lEu.jpg</td>\n",
       "      <td>1</td>\n",
       "      <td>Rhodesian_ridgeback</td>\n",
       "      <td>$0.41</td>\n",
       "      <td>True</td>\n",
       "      <td>redbone</td>\n",
       "      <td>$0.36</td>\n",
       "      <td>True</td>\n",
       "      <td>miniature_pinscher</td>\n",
       "      <td>$0.22</td>\n",
       "      <td>True</td>\n",
       "    </tr>\n",
       "    <tr>\n",
       "      <th>4</th>\n",
       "      <td>666049248165822465</td>\n",
       "      <td>https://pbs.twimg.com/media/CT5IQmsXIAAKY4A.jpg</td>\n",
       "      <td>1</td>\n",
       "      <td>miniature_pinscher</td>\n",
       "      <td>$0.56</td>\n",
       "      <td>True</td>\n",
       "      <td>Rottweiler</td>\n",
       "      <td>$0.24</td>\n",
       "      <td>True</td>\n",
       "      <td>Doberman</td>\n",
       "      <td>$0.15</td>\n",
       "      <td>True</td>\n",
       "    </tr>\n",
       "  </tbody>\n",
       "</table>\n",
       "</div>"
      ],
      "text/plain": [
       "             tweet_id                                          jpg_url  \\\n",
       "0  666020888022790149  https://pbs.twimg.com/media/CT4udn0WwAA0aMy.jpg   \n",
       "1  666029285002620928  https://pbs.twimg.com/media/CT42GRgUYAA5iDo.jpg   \n",
       "2  666033412701032449  https://pbs.twimg.com/media/CT4521TWwAEvMyu.jpg   \n",
       "3  666044226329800704  https://pbs.twimg.com/media/CT5Dr8HUEAA-lEu.jpg   \n",
       "4  666049248165822465  https://pbs.twimg.com/media/CT5IQmsXIAAKY4A.jpg   \n",
       "\n",
       "   img_num                      p1  p1_conf  p1_dog                  p2  \\\n",
       "0        1  Welsh_springer_spaniel    $0.47    True              collie   \n",
       "1        1                 redbone    $0.51    True  miniature_pinscher   \n",
       "2        1         German_shepherd    $0.60    True            malinois   \n",
       "3        1     Rhodesian_ridgeback    $0.41    True             redbone   \n",
       "4        1      miniature_pinscher    $0.56    True          Rottweiler   \n",
       "\n",
       "   p2_conf  p2_dog                   p3  p3_conf  p3_dog  \n",
       "0    $0.16    True    Shetland_sheepdog    $0.06    True  \n",
       "1    $0.07    True  Rhodesian_ridgeback    $0.07    True  \n",
       "2    $0.14    True           bloodhound    $0.12    True  \n",
       "3    $0.36    True   miniature_pinscher    $0.22    True  \n",
       "4    $0.24    True             Doberman    $0.15    True  "
      ]
     },
     "execution_count": 158,
     "metadata": {},
     "output_type": "execute_result"
    }
   ],
   "source": [
    "##Assessing Image_Prediction_Dataset\n",
    "df2.head()"
   ]
  },
  {
   "cell_type": "code",
   "execution_count": 159,
   "metadata": {},
   "outputs": [
    {
     "name": "stdout",
     "output_type": "stream",
     "text": [
      "<class 'pandas.core.frame.DataFrame'>\n",
      "RangeIndex: 2075 entries, 0 to 2074\n",
      "Data columns (total 12 columns):\n",
      " #   Column    Non-Null Count  Dtype  \n",
      "---  ------    --------------  -----  \n",
      " 0   tweet_id  2075 non-null   int64  \n",
      " 1   jpg_url   2075 non-null   object \n",
      " 2   img_num   2075 non-null   int64  \n",
      " 3   p1        2075 non-null   object \n",
      " 4   p1_conf   2075 non-null   float64\n",
      " 5   p1_dog    2075 non-null   bool   \n",
      " 6   p2        2075 non-null   object \n",
      " 7   p2_conf   2075 non-null   float64\n",
      " 8   p2_dog    2075 non-null   bool   \n",
      " 9   p3        2075 non-null   object \n",
      " 10  p3_conf   2075 non-null   float64\n",
      " 11  p3_dog    2075 non-null   bool   \n",
      "dtypes: bool(3), float64(3), int64(2), object(4)\n",
      "memory usage: 152.1+ KB\n"
     ]
    }
   ],
   "source": [
    "df2.info()"
   ]
  },
  {
   "cell_type": "code",
   "execution_count": 160,
   "metadata": {},
   "outputs": [
    {
     "data": {
      "text/plain": [
       "0"
      ]
     },
     "execution_count": 160,
     "metadata": {},
     "output_type": "execute_result"
    }
   ],
   "source": [
    "sum(df2.duplicated())"
   ]
  },
  {
   "cell_type": "code",
   "execution_count": 161,
   "metadata": {},
   "outputs": [
    {
     "data": {
      "text/plain": [
       "0"
      ]
     },
     "execution_count": 161,
     "metadata": {},
     "output_type": "execute_result"
    }
   ],
   "source": [
    "sum(df2[\"tweet_id\"].duplicated())"
   ]
  },
  {
   "cell_type": "code",
   "execution_count": 162,
   "metadata": {},
   "outputs": [
    {
     "data": {
      "text/plain": [
       "0"
      ]
     },
     "execution_count": 162,
     "metadata": {},
     "output_type": "execute_result"
    }
   ],
   "source": [
    "sum((df2.loc[:,lambda df :[\"tweet_id\",\"jpg_url\"]]).duplicated())"
   ]
  },
  {
   "cell_type": "code",
   "execution_count": 163,
   "metadata": {},
   "outputs": [
    {
     "data": {
      "text/plain": [
       "66"
      ]
     },
     "execution_count": 163,
     "metadata": {},
     "output_type": "execute_result"
    }
   ],
   "source": [
    "sum((df2.loc[:,lambda df :[\"jpg_url\",\"p1\",\"p2\",\"p3\"]]).duplicated())"
   ]
  },
  {
   "cell_type": "code",
   "execution_count": 164,
   "metadata": {},
   "outputs": [
    {
     "data": {
      "text/plain": [
       "True"
      ]
     },
     "execution_count": 164,
     "metadata": {},
     "output_type": "execute_result"
    }
   ],
   "source": [
    "list(df2[df2[\"jpg_url\"].duplicated(keep=\"first\")].index)==list(df2[(df2.loc[:,lambda df :[\"jpg_url\",\"p1\",\"p2\",\"p3\"]]).duplicated()].index)\n",
    "\n",
    "    \n",
    "   "
   ]
  },
  {
   "cell_type": "code",
   "execution_count": 165,
   "metadata": {},
   "outputs": [
    {
     "data": {
      "text/plain": [
       "array(['Welsh_springer_spaniel', 'redbone', 'German_shepherd',\n",
       "       'Rhodesian_ridgeback', 'miniature_pinscher',\n",
       "       'Bernese_mountain_dog', 'box_turtle', 'chow', 'shopping_cart',\n",
       "       'miniature_poodle', 'golden_retriever', 'Gordon_setter',\n",
       "       'Walker_hound', 'pug', 'bloodhound', 'Lhasa', 'English_setter',\n",
       "       'hen', 'desktop_computer', 'Italian_greyhound', 'Maltese_dog',\n",
       "       'three-toed_sloth', 'ox', 'malamute', 'guinea_pig',\n",
       "       'soft-coated_wheaten_terrier', 'Chihuahua',\n",
       "       'black-and-tan_coonhound', 'coho', 'toy_terrier',\n",
       "       'Blenheim_spaniel', 'Pembroke', 'llama',\n",
       "       'Chesapeake_Bay_retriever', 'curly-coated_retriever', 'dalmatian',\n",
       "       'Ibizan_hound', 'Border_collie', 'Labrador_retriever', 'seat_belt',\n",
       "       'snail', 'miniature_schnauzer', 'Airedale', 'triceratops', 'swab',\n",
       "       'hay', 'hyena', 'jigsaw_puzzle', 'West_Highland_white_terrier',\n",
       "       'toy_poodle', 'giant_schnauzer', 'vizsla', 'vacuum', 'Rottweiler',\n",
       "       'Siberian_husky', 'teddy', 'papillon', 'Saint_Bernard',\n",
       "       'porcupine', 'goose', 'Tibetan_terrier', 'borzoi', 'beagle',\n",
       "       'hare', 'Yorkshire_terrier', 'Pomeranian', 'electric_fan',\n",
       "       'web_site', 'ibex', 'kuvasz', 'fire_engine', 'lorikeet',\n",
       "       'flat-coated_retriever', 'toyshop', 'common_iguana',\n",
       "       'Norwegian_elkhound', 'frilled_lizard', 'leatherback_turtle',\n",
       "       'hamster', 'Angora', 'Arctic_fox', 'trombone', 'canoe',\n",
       "       'king_penguin', 'shopping_basket', 'standard_poodle',\n",
       "       'Staffordshire_bullterrier', 'basenji', 'Lakeland_terrier',\n",
       "       'American_Staffordshire_terrier', 'bearskin', 'Shih-Tzu',\n",
       "       'bustard', 'crash_helmet', 'French_bulldog', 'Pekinese',\n",
       "       'komondor', 'ski_mask', 'malinois', 'kelpie', 'Brittany_spaniel',\n",
       "       'cocker_spaniel', 'shower_curtain', 'basset', 'jellyfish',\n",
       "       'doormat', 'Arabian_camel', 'lynx', 'hog', 'comic_book', 'minivan',\n",
       "       'seashore', 'cuirass', 'Brabancon_griffon', 'candle', 'Eskimo_dog',\n",
       "       'weasel', 'Christmas_stocking', 'washbasin', 'car_mirror',\n",
       "       'piggy_bank', 'pot', 'boathouse', 'mud_turtle',\n",
       "       'German_short-haired_pointer', 'Shetland_sheepdog',\n",
       "       'Irish_terrier', 'cairn', 'platypus', 'English_springer',\n",
       "       'whippet', 'ping-pong_ball', 'sea_urchin', 'bow_tie',\n",
       "       'window_shade', \"jack-o'-lantern\", 'sorrel', 'Sussex_spaniel',\n",
       "       'peacock', 'axolotl', 'wool', 'banana', 'Dandie_Dinmont',\n",
       "       'Norwich_terrier', 'wood_rabbit', 'dhole', 'keeshond',\n",
       "       'Norfolk_terrier', 'lacewing', 'dingo', 'brown_bear',\n",
       "       'Old_English_sheepdog', 'scorpion', 'flamingo', 'microphone',\n",
       "       'Samoyed', 'pitcher', 'African_hunting_dog', 'refrigerator',\n",
       "       'picket_fence', 'tub', 'zebra', 'hermit_crab', 'swing', 'Doberman',\n",
       "       'park_bench', 'feather_boa', 'Loafer', 'stone_wall', 'ice_bear',\n",
       "       'prayer_rug', 'chimpanzee', 'china_cabinet', 'bee_eater',\n",
       "       'tennis_ball', 'carton', 'killer_whale', 'ostrich', 'terrapin',\n",
       "       'Siamese_cat', 'gondola', 'Great_Pyrenees', 'microwave',\n",
       "       'starfish', 'sandbar', 'tusker', 'motor_scooter', 'ram',\n",
       "       'leaf_beetle', 'wombat', 'schipperke', 'Newfoundland',\n",
       "       'bull_mastiff', 'water_bottle', 'suit', 'toilet_seat', 'collie',\n",
       "       'robin', 'Cardigan', 'Greater_Swiss_Mountain_dog', 'slug',\n",
       "       'toilet_tissue', 'acorn_squash', 'soccer_ball',\n",
       "       'African_crocodile', 'tick', 'ocarina', 'boxer', 'street_sign',\n",
       "       'bow', 'stove', 'paper_towel', 'upright', 'dough',\n",
       "       'Scottish_deerhound', 'bath_towel', 'standard_schnauzer',\n",
       "       'walking_stick', 'Irish_water_spaniel', 'bubble', 'Boston_bull',\n",
       "       'book_jacket', 'rain_barrel', 'black-footed_ferret', 'guenon',\n",
       "       'Japanese_spaniel', 'water_buffalo', 'patio', 'cowboy_hat',\n",
       "       'dogsled', 'maze', 'harp', 'panpipe', 'cash_machine', 'mailbox',\n",
       "       'wallaby', 'EntleBucher', 'earthstar', 'pillow', 'bluetick',\n",
       "       'space_heater', 'carousel', 'Irish_setter', 'birdhouse', 'snorkel',\n",
       "       'bald_eagle', 'koala', 'Leonberg', 'cheetah', 'minibus',\n",
       "       'Weimaraner', 'clog', 'dishwasher', 'white_wolf', 'sliding_door',\n",
       "       'damselfly', 'Great_Dane', 'Tibetan_mastiff', 'cheeseburger',\n",
       "       'fiddler_crab', 'bannister', 'crane', 'Scotch_terrier',\n",
       "       'snowmobile', 'badger', 'bighorn', 'geyser', 'barrow', 'bison',\n",
       "       'Mexican_hairless', 'ice_lolly', 'sea_lion', 'dining_table',\n",
       "       'groenendael', 'Australian_terrier', 'beaver', 'briard',\n",
       "       'Appenzeller', 'grey_fox', 'mousetrap', 'hippopotamus',\n",
       "       'Border_terrier', 'hummingbird', 'tailed_frog', 'otter',\n",
       "       'Egyptian_cat', 'four-poster', 'wild_boar', 'bathtub', 'agama',\n",
       "       'muzzle', 'hotdog', 'bib', 'espresso', 'timber_wolf', 'meerkat',\n",
       "       'nail', 'hammer', 'home_theater', 'alp', 'bonnet', 'handkerchief',\n",
       "       'hand_blower', 'polecat', 'lakeside', 'studio_couch', 'cup',\n",
       "       'cliff', 'Bedlington_terrier', 'lawn_mower', 'balloon',\n",
       "       'sunglasses', 'rapeseed', 'traffic_light', 'coil', 'binoculars',\n",
       "       'paddle', 'tiger_shark', 'sulphur-crested_cockatoo',\n",
       "       'wire-haired_fox_terrier', 'Saluki', 'American_black_bear',\n",
       "       'rotisserie', 'conch', 'skunk', 'bookshop', 'radio_telescope',\n",
       "       'cougar', 'African_grey', 'coral_reef', 'lion', 'maillot',\n",
       "       'Madagascar_cat', 'tabby', 'silky_terrier', 'giant_panda',\n",
       "       'long-horned_beetle', 'Afghan_hound', 'clumber', 'sundial',\n",
       "       'padlock', 'pool_table', 'quilt', 'beach_wagon', 'remote_control',\n",
       "       'bakery', 'pedestal', 'gas_pump', 'bookcase', 'shield', 'loupe',\n",
       "       'restaurant', 'prison', 'school_bus', 'cowboy_boot', 'jersey',\n",
       "       'wooden_spoon', 'leopard', 'mortarboard', 'teapot',\n",
       "       'military_uniform', 'washer', 'coffee_mug', 'fountain',\n",
       "       'pencil_box', 'barbell', 'grille', 'revolver', 'envelope',\n",
       "       'syringe', 'marmot', 'pole', 'laptop', 'basketball', 'tricycle',\n",
       "       'convertible', 'limousine', 'orange'], dtype=object)"
      ]
     },
     "execution_count": 165,
     "metadata": {},
     "output_type": "execute_result"
    }
   ],
   "source": [
    "df2.p1.unique()"
   ]
  },
  {
   "cell_type": "code",
   "execution_count": 166,
   "metadata": {},
   "outputs": [
    {
     "data": {
      "text/plain": [
       "array(['collie', 'miniature_pinscher', 'malinois', 'redbone',\n",
       "       'Rottweiler', 'English_springer', 'mud_turtle', 'Tibetan_mastiff',\n",
       "       'shopping_basket', 'komondor', 'Yorkshire_terrier',\n",
       "       'English_foxhound', 'bull_mastiff', 'German_shepherd', 'Shih-Tzu',\n",
       "       'Newfoundland', 'cock', 'desk', 'toy_terrier', 'toy_poodle',\n",
       "       'otter', 'Chesapeake_Bay_retriever', 'Siberian_husky', 'skunk',\n",
       "       'Afghan_hound', 'bloodhound', 'barracouta', 'papillon',\n",
       "       'cocker_spaniel', 'chow', 'Irish_terrier', 'chain_saw', 'beagle',\n",
       "       'giant_schnauzer', 'Labrador_retriever', 'Pembroke', 'Chihuahua',\n",
       "       'Weimaraner', 'slug', 'Brittany_spaniel', 'standard_schnauzer',\n",
       "       'teddy', 'armadillo', 'African_hunting_dog', 'vizsla', 'doormat',\n",
       "       'pug', 'Italian_greyhound', 'Samoyed', 'Pomeranian',\n",
       "       'miniature_poodle', 'Lakeland_terrier', 'Irish_setter', 'swab',\n",
       "       'malamute', 'bath_towel', 'Border_collie', 'Leonberg', 'drake',\n",
       "       'French_bulldog', 'ice_bear', 'Christmas_stocking',\n",
       "       'golden_retriever', 'standard_poodle', 'dhole', 'kuvasz',\n",
       "       'Cardigan', 'silky_terrier', 'spotlight', 'dishwasher', 'bighorn',\n",
       "       'tow_truck', 'hummingbird', 'English_setter', 'prayer_rug',\n",
       "       'frilled_lizard', 'Pekinese', 'ox', 'boxer', 'hog', 'guinea_pig',\n",
       "       'hen', 'wallaby', 'cowboy_boot', 'cornet', 'minivan', 'paddle',\n",
       "       'basset', 'hamper', 'Bedlington_terrier', 'Shetland_sheepdog',\n",
       "       'bow', 'Lhasa', 'pelican', 'toaster', 'groenendael',\n",
       "       'Australian_terrier', 'llama', 'knee_pad', 'pillow',\n",
       "       'Ibizan_hound', 'Old_English_sheepdog', 'Welsh_springer_spaniel',\n",
       "       'coral_reef', 'bison', 'waffle_iron', 'tabby', 'bib', 'police_van',\n",
       "       'Eskimo_dog', 'breastplate', 'German_short-haired_pointer',\n",
       "       'Norfolk_terrier', 'Blenheim_spaniel', 'pickup',\n",
       "       'miniature_schnauzer', 'lampshade', 'Tibetan_terrier',\n",
       "       'Siamese_cat', 'borzoi', 'studio_couch', 'toilet_seat', 'hamster',\n",
       "       'seat_belt', 'keeshond', 'koala', 'hair_spray', 'Saint_Bernard',\n",
       "       'tray', 'American_Staffordshire_terrier', 'birdhouse', 'terrapin',\n",
       "       'Staffordshire_bullterrier', 'briard',\n",
       "       'West_Highland_white_terrier', 'spotted_salamander', 'tennis_ball',\n",
       "       'porcupine', 'cardigan', 'corn', 'basenji', 'otterhound',\n",
       "       'European_gallinule', 'indri', 'tailed_frog', 'beach_wagon',\n",
       "       'siamang', 'orange', 'home_theater', 'cairn', 'hare',\n",
       "       'Norwegian_elkhound', 'Brabancon_griffon', 'American_black_bear',\n",
       "       'sulphur_butterfly', 'Sealyham_terrier', 'Walker_hound',\n",
       "       'tarantula', 'Persian_cat', 'coral_fungus', 'accordion', 'kelpie',\n",
       "       'Great_Pyrenees', 'wood_rabbit', 'black-and-tan_coonhound',\n",
       "       'sunglasses', 'plow', 'whippet', 'rain_barrel', 'bathtub', 'tiger',\n",
       "       'snail', 'tick', 'wire-haired_fox_terrier', 'water_bottle', 'wig',\n",
       "       'platypus', 'Irish_wolfhound', 'ram', 'gorilla',\n",
       "       'entertainment_center', 'toucan', 'mask', 'shopping_cart',\n",
       "       'Sussex_spaniel', 'crate', 'grey_whale', 'badger', 'Airedale',\n",
       "       'Arabian_camel', 'cockroach', 'lifeboat', 'rotisserie', 'goldfish',\n",
       "       'stingray', 'warthog', 'bobsled', 'rhinoceros_beetle', 'beaver',\n",
       "       'brown_bear', 'Maltese_dog', 'weasel', 'quill',\n",
       "       'Rhodesian_ridgeback', 'Arctic_fox', 'ashcan', 'bow_tie',\n",
       "       'soft-coated_wheaten_terrier', 'schipperke', 'bearskin',\n",
       "       'Kerry_blue_terrier', 'ice_lolly', 'American_alligator',\n",
       "       'mosquito_net', 'sea_lion', 'Boston_bull', 'nail',\n",
       "       'black-footed_ferret', 'promontory', 'sarong', 'Doberman',\n",
       "       'space_heater', 'Great_Dane', 'mailbox', 'Saluki', 'bakery',\n",
       "       'sandal', 'leafhopper', 'barrel', 'water_buffalo', 'polecat',\n",
       "       'macaque', 'Japanese_spaniel', 'folding_chair', 'trench_coat',\n",
       "       'Angora', 'junco', 'crib', 'dalmatian', 'snowmobile',\n",
       "       'flat-coated_retriever', 'streetcar', 'window_screen', 'bannister',\n",
       "       'hair_slide', 'meerkat', 'cannon', 'jaguar', 'Border_terrier',\n",
       "       'Greater_Swiss_Mountain_dog', 'hay', 'apron', 'cloak', 'radiator',\n",
       "       'muzzle', 'feather_boa', 'rifle', 'chimpanzee', 'loggerhead',\n",
       "       'torch', 'Mexican_hairless', 'spindle', 'triceratops',\n",
       "       'Appenzeller', 'stove', 'dingo', 'oscilloscope', 'common_newt',\n",
       "       'hotdog', 'medicine_chest', 'quail', 'horse_cart', 'four-poster',\n",
       "       'pier', 'red_fox', 'affenpinscher', 'assault_rifle',\n",
       "       'mashed_potato', 'moped', 'hyena', 'seashore', 'tub', 'sports_car',\n",
       "       'swing', 'mink', 'bluetick', 'neck_brace', 'grey_fox', 'mongoose',\n",
       "       'fur_coat', 'Scotch_terrier', 'spatula', 'paper_towel', 'shoji',\n",
       "       'toyshop', 'banded_gecko', 'peacock', 'crossword_puzzle',\n",
       "       'tree_frog', 'wombat', 'turnstile', 'sleeping_bag', 'quilt',\n",
       "       'Gila_monster', 'giant_panda', 'Dandie_Dinmont', 'handkerchief',\n",
       "       'sombrero', 'Indian_elephant', 'coffee_mug', 'gibbon', 'carton',\n",
       "       'screw', 'minibus', 'hatchet', 'window_shade', 'lawn_mower',\n",
       "       'washbasin', 'sock', 'prison', 'patio', 'china_cabinet',\n",
       "       'chain_mail', 'breakwater', 'computer_keyboard', 'goose',\n",
       "       'lakeside', 'solar_dish', 'table_lamp', 'Windsor_tie',\n",
       "       'punching_bag', 'comic_book', 'sunglass', 'great_white_shark',\n",
       "       'timber_wolf', 'fountain', 'dugong', 'marmot', 'barbershop',\n",
       "       'shovel', 'curly-coated_retriever', 'lesser_panda', 'monitor',\n",
       "       'crutch', 'cash_machine', 'printer', 'volcano', 'wallet', 'laptop',\n",
       "       'bathing_cap', 'confectionery', 'dam', 'killer_whale', 'canoe',\n",
       "       'Madagascar_cat', 'jean', 'boathouse', 'cliff', 'maillot', 'iPod',\n",
       "       'hand-held_computer', 'black_widow', 'Norwich_terrier', 'necklace',\n",
       "       'dining_table', 'binoculars', 'cradle', 'sea_urchin', 'cougar',\n",
       "       'EntleBucher', 'basketball', 'lighter', 'saltshaker', 'harvester',\n",
       "       'television', 'envelope', 'house_finch', 'web_site', 'palace',\n",
       "       'shower_curtain', 'cab', 'snorkel', 'jigsaw_puzzle', 'sweatshirt',\n",
       "       'white_wolf', 'sliding_door', 'academic_gown', 'cowboy_hat',\n",
       "       'can_opener', 'cup', 'rule', 'soccer_ball', 'bucket', 'racket',\n",
       "       'menu', 'purse', 'Bernese_mountain_dog', 'dumbbell', 'projectile',\n",
       "       'dock', 'oxygen_mask', 'sandbar', 'umbrella', 'shower_cap',\n",
       "       'bagel'], dtype=object)"
      ]
     },
     "execution_count": 166,
     "metadata": {},
     "output_type": "execute_result"
    }
   ],
   "source": [
    "df2.p2.unique()"
   ]
  },
  {
   "cell_type": "code",
   "execution_count": 167,
   "metadata": {},
   "outputs": [
    {
     "data": {
      "text/plain": [
       "array(['Shetland_sheepdog', 'Rhodesian_ridgeback', 'bloodhound',\n",
       "       'miniature_pinscher', 'Doberman', 'Greater_Swiss_Mountain_dog',\n",
       "       'terrapin', 'fur_coat', 'golden_retriever',\n",
       "       'soft-coated_wheaten_terrier', 'Labrador_retriever', 'Pekinese',\n",
       "       'Ibizan_hound', 'French_bulldog', 'malinois', 'Dandie_Dinmont',\n",
       "       'borzoi', 'partridge', 'bookcase', 'basenji', 'miniature_poodle',\n",
       "       'great_grey_owl', 'groenendael', 'Eskimo_dog', 'hamster', 'briard',\n",
       "       'papillon', 'flat-coated_retriever', 'gar', 'Chihuahua',\n",
       "       'Shih-Tzu', 'Pomeranian', 'dingo', 'power_drill', 'Saluki',\n",
       "       'Great_Pyrenees', 'West_Highland_white_terrier', 'collie',\n",
       "       'toy_poodle', 'vizsla', 'acorn', 'giant_schnauzer', 'teddy',\n",
       "       'common_iguana', 'wig', 'water_buffalo', 'coyote', 'seat_belt',\n",
       "       'kelpie', 'space_heater', 'Brabancon_griffon', 'standard_poodle',\n",
       "       'beagle', 'Irish_water_spaniel', 'bluetick', 'Weimaraner',\n",
       "       'Chesapeake_Bay_retriever', 'toilet_tissue',\n",
       "       'black-and-tan_coonhound', 'kuvasz', 'Christmas_stocking',\n",
       "       'badger', 'hen', 'Staffordshire_bullterrier', 'Yorkshire_terrier',\n",
       "       'Lakeland_terrier', 'weasel', 'ski_mask', 'cocker_spaniel',\n",
       "       'Australian_terrier', 'lampshade', 'oscilloscope', 'ram', 'jeep',\n",
       "       'ice_bear', 'African_grey', 'Great_Dane', 'curly-coated_retriever',\n",
       "       'doormat', 'African_chameleon', 'schipperke', 'muzzle',\n",
       "       'triceratops', 'Newfoundland', 'Band_Aid', 'wood_rabbit',\n",
       "       'white_wolf', 'giant_panda', 'Welsh_springer_spaniel',\n",
       "       'French_horn', 'toy_terrier', 'Pembroke', 'Cardigan', 'bassinet',\n",
       "       'pug', 'Afghan_hound', 'American_Staffordshire_terrier', 'whippet',\n",
       "       'English_setter', 'panpipe', 'crane', 'mouse', 'titi', 'Angora',\n",
       "       'Boston_bull', 'silky_terrier', 'Japanese_spaniel', 'sandbar',\n",
       "       'balance_beam', 'black-footed_ferret', 'miniature_schnauzer',\n",
       "       'Blenheim_spaniel', 'bathtub', 'Saint_Bernard', 'redbone',\n",
       "       'goldfish', 'Norfolk_terrier', 'llama', 'koala', 'pillow',\n",
       "       'jersey', 'chow', 'minibus', 'malamute', 'bulletproof_vest',\n",
       "       'beach_wagon', 'cairn', 'plunger', 'paper_towel', 'wing',\n",
       "       'English_foxhound', 'Brittany_spaniel', 'bolete', 'ashcan',\n",
       "       'box_turtle', 'guinea_pig', 'bison', 'bull_mastiff', 'racket',\n",
       "       'cardoon', 'Tibetan_mastiff', 'window_screen', 'Irish_terrier',\n",
       "       'agama', 'common_newt', 'car_wheel', 'gorilla', 'bagel', 'clumber',\n",
       "       'Egyptian_cat', 'television', 'boxer', 'brown_bear', 'leafhopper',\n",
       "       'German_shepherd', 'Border_collie', 'menu', 'wolf_spider',\n",
       "       'bathing_cap', 'stinkhorn', 'drumstick', 'mask',\n",
       "       'Scottish_deerhound', 'shower_curtain', 'Appenzeller',\n",
       "       'plastic_bag', 'swimming_trunks', 'prairie_chicken', 'red_wolf',\n",
       "       'Maltese_dog', 'snail', 'gibbon', 'Gordon_setter', 'black_swan',\n",
       "       'beacon', 'wool', 'cowboy_boot', 'Rottweiler', 'poncho', 'swing',\n",
       "       'Arctic_fox', 'bib', 'Italian_greyhound', 'steam_locomotive',\n",
       "       'fountain', 'chickadee', 'abaya', 'Border_terrier', 'bubble',\n",
       "       'chimpanzee', 'hammerhead', 'Norwegian_elkhound',\n",
       "       'Norwich_terrier', 'Airedale', 'Siamese_cat', 'sea_cucumber',\n",
       "       'seashore', 'nipple', 'moped', 'Arabian_camel', 'crayfish',\n",
       "       'wallaby', 'wire-haired_fox_terrier', 'toilet_seat',\n",
       "       'Old_English_sheepdog', 'pajama', 'Walker_hound', 'shovel',\n",
       "       'bucket', 'Sealyham_terrier', 'Windsor_tie', 'Siberian_husky',\n",
       "       'quill', 'Persian_cat', 'European_fire_salamander',\n",
       "       'three-toed_sloth', 'swab', 'echidna', 'tennis_ball', 'Lhasa',\n",
       "       'coral_reef', 'keeshond', 'mink', 'screw', 'basset', 'wreck',\n",
       "       'kimono', 'German_short-haired_pointer', 'joystick', 'microwave',\n",
       "       'Tibetan_terrier', 'Irish_wolfhound', 'Samoyed', 'loggerhead',\n",
       "       'French_loaf', 'Irish_setter', 'komondor', 'purse', 'greenhouse',\n",
       "       'broccoli', 'shopping_basket', 'macaque', 'squirrel_monkey',\n",
       "       'green_lizard', 'parallel_bars', 'cloak', 'chest', 'sundial',\n",
       "       'mosquito_net', 'bath_towel', 'cuirass', 'zebra', 'lumbermill',\n",
       "       'wallet', 'feather_boa', 'English_springer', 'electric_fan',\n",
       "       'hippopotamus', 'ox', 'quilt', 'assault_rifle', 'axolotl', 'pot',\n",
       "       'toyshop', 'pizza', 'scuba_diver', 'beaver', 'Mexican_hairless',\n",
       "       'cliff', 'loupe', 'wild_boar', 'jaguar', 'hog', 'polecat', 'lion',\n",
       "       'EntleBucher', 'hand-held_computer', 'washbasin', 'whiptail',\n",
       "       'rock_crab', 'hare', 'shoji', 'sombrero', 'bell_cote', 'rifle',\n",
       "       'goose', 'pickup', 'sunglasses', 'limousine', 'bow_tie', 'pretzel',\n",
       "       'marmot', 'ice_lolly', 'vacuum', 'dalmatian', 'prison',\n",
       "       'shower_cap', 'sliding_door', 'dugong', 'otterhound', 'eel',\n",
       "       'binder', 'bullfrog', 'soap_dispenser', 'sea_lion', 'carton',\n",
       "       'brass', 'mitten', 'golfcart', 'cougar', 'warthog', 'umbrella',\n",
       "       'neck_brace', 'cup', 'book_jacket', 'padlock', 'cab', 'chime',\n",
       "       'Leonberg', 'viaduct', 'American_black_bear', 'tub', 'hand_blower',\n",
       "       'king_penguin', 'rotisserie', 'bannister', 'passenger_car',\n",
       "       'mongoose', 'dhole', 'consomme', 'valley', 'park_bench',\n",
       "       'mushroom', 'barrow', 'parachute', 'desktop_computer', 'snorkel',\n",
       "       'wok', 'affenpinscher', 'space_shuttle', 'rain_barrel',\n",
       "       'ballplayer', 'mountain_tent', 'oxcart', 'buckeye', 'sunglass',\n",
       "       'croquet_ball', 'refrigerator', 'snow_leopard', 'tripod',\n",
       "       'rapeseed', 'tiger_cat', 'Bernese_mountain_dog', 'notebook',\n",
       "       'maraca', 'pool_table', 'lakeside', 'theater_curtain', 'pier',\n",
       "       'cheetah', 'mousetrap', 'pop_bottle', 'soccer_ball', 'wombat',\n",
       "       'rhinoceros_beetle', 'paddlewheel', 'paintbrush', 'maze',\n",
       "       'hatchet', 'chain', 'jigsaw_puzzle', 'switch',\n",
       "       'Kerry_blue_terrier', 'barbell', 'convertible',\n",
       "       'entertainment_center', 'file', 'guillotine', 'nail',\n",
       "       'standard_schnauzer', 'bow', 'grocery_store', 'boathouse', 'conch',\n",
       "       'Bouvier_des_Flandres', 'grey_fox', 'shopping_cart', 'meerkat',\n",
       "       'grand_piano', 'envelope', 'screen', 'coffeepot', 'printer',\n",
       "       'otter', 'restaurant', 'bonnet', 'crossword_puzzle', 'go-kart',\n",
       "       'Sussex_spaniel', 'orangutan', 'canoe', 'barber_chair',\n",
       "       'traffic_light', 'ibex', 'can_opener', 'Indian_elephant',\n",
       "       'spatula', 'banana'], dtype=object)"
      ]
     },
     "execution_count": 167,
     "metadata": {},
     "output_type": "execute_result"
    }
   ],
   "source": [
    "df2.p3.unique()"
   ]
  },
  {
   "cell_type": "code",
   "execution_count": 168,
   "metadata": {},
   "outputs": [
    {
     "data": {
      "text/plain": [
       "array([ True, False])"
      ]
     },
     "execution_count": 168,
     "metadata": {},
     "output_type": "execute_result"
    }
   ],
   "source": [
    "df2.p1_dog.unique()"
   ]
  },
  {
   "cell_type": "code",
   "execution_count": 169,
   "metadata": {},
   "outputs": [
    {
     "name": "stdout",
     "output_type": "stream",
     "text": [
      "<class 'pandas.core.frame.DataFrame'>\n",
      "RangeIndex: 2075 entries, 0 to 2074\n",
      "Data columns (total 12 columns):\n",
      " #   Column    Non-Null Count  Dtype  \n",
      "---  ------    --------------  -----  \n",
      " 0   tweet_id  2075 non-null   int64  \n",
      " 1   jpg_url   2075 non-null   object \n",
      " 2   img_num   2075 non-null   int64  \n",
      " 3   p1        2075 non-null   object \n",
      " 4   p1_conf   2075 non-null   float64\n",
      " 5   p1_dog    2075 non-null   bool   \n",
      " 6   p2        2075 non-null   object \n",
      " 7   p2_conf   2075 non-null   float64\n",
      " 8   p2_dog    2075 non-null   bool   \n",
      " 9   p3        2075 non-null   object \n",
      " 10  p3_conf   2075 non-null   float64\n",
      " 11  p3_dog    2075 non-null   bool   \n",
      "dtypes: bool(3), float64(3), int64(2), object(4)\n",
      "memory usage: 152.1+ KB\n"
     ]
    }
   ],
   "source": [
    "df2.info()"
   ]
  },
  {
   "cell_type": "code",
   "execution_count": 170,
   "metadata": {},
   "outputs": [
    {
     "data": {
      "text/plain": [
       "array([ True, False])"
      ]
     },
     "execution_count": 170,
     "metadata": {},
     "output_type": "execute_result"
    }
   ],
   "source": [
    "df2.p2_dog.unique()"
   ]
  },
  {
   "cell_type": "code",
   "execution_count": 171,
   "metadata": {},
   "outputs": [
    {
     "data": {
      "text/plain": [
       "array([ True, False])"
      ]
     },
     "execution_count": 171,
     "metadata": {},
     "output_type": "execute_result"
    }
   ],
   "source": [
    "df2.p3_dog.unique()"
   ]
  },
  {
   "cell_type": "code",
   "execution_count": 172,
   "metadata": {},
   "outputs": [],
   "source": [
    "for i in df2.p2_conf:\n",
    "    if i > 1:\n",
    "        print(i)\n",
    "   \n",
    "    "
   ]
  },
  {
   "cell_type": "code",
   "execution_count": 173,
   "metadata": {},
   "outputs": [],
   "source": [
    "for i in df2.p1_conf:\n",
    "    if i > 1:\n",
    "        print(i)"
   ]
  },
  {
   "cell_type": "code",
   "execution_count": 174,
   "metadata": {},
   "outputs": [],
   "source": [
    "for i in df2.p3_conf:\n",
    "    if i > 1:\n",
    "        print(i)\n"
   ]
  },
  {
   "cell_type": "code",
   "execution_count": 175,
   "metadata": {},
   "outputs": [
    {
     "data": {
      "text/html": [
       "<div>\n",
       "<style scoped>\n",
       "    .dataframe tbody tr th:only-of-type {\n",
       "        vertical-align: middle;\n",
       "    }\n",
       "\n",
       "    .dataframe tbody tr th {\n",
       "        vertical-align: top;\n",
       "    }\n",
       "\n",
       "    .dataframe thead th {\n",
       "        text-align: right;\n",
       "    }\n",
       "</style>\n",
       "<table border=\"1\" class=\"dataframe\">\n",
       "  <thead>\n",
       "    <tr style=\"text-align: right;\">\n",
       "      <th></th>\n",
       "      <th>tweet_id</th>\n",
       "      <th>jpg_url</th>\n",
       "      <th>img_num</th>\n",
       "      <th>p1</th>\n",
       "      <th>p1_conf</th>\n",
       "      <th>p1_dog</th>\n",
       "      <th>p2</th>\n",
       "      <th>p2_conf</th>\n",
       "      <th>p2_dog</th>\n",
       "      <th>p3</th>\n",
       "      <th>p3_conf</th>\n",
       "      <th>p3_dog</th>\n",
       "    </tr>\n",
       "  </thead>\n",
       "  <tbody>\n",
       "    <tr>\n",
       "      <th>2074</th>\n",
       "      <td>892420643555336193</td>\n",
       "      <td>https://pbs.twimg.com/media/DGKD1-bXoAAIAUK.jpg</td>\n",
       "      <td>1</td>\n",
       "      <td>orange</td>\n",
       "      <td>$0.10</td>\n",
       "      <td>False</td>\n",
       "      <td>bagel</td>\n",
       "      <td>$0.09</td>\n",
       "      <td>False</td>\n",
       "      <td>banana</td>\n",
       "      <td>$0.08</td>\n",
       "      <td>False</td>\n",
       "    </tr>\n",
       "  </tbody>\n",
       "</table>\n",
       "</div>"
      ],
      "text/plain": [
       "                tweet_id                                          jpg_url  \\\n",
       "2074  892420643555336193  https://pbs.twimg.com/media/DGKD1-bXoAAIAUK.jpg   \n",
       "\n",
       "      img_num      p1  p1_conf  p1_dog     p2  p2_conf  p2_dog      p3  \\\n",
       "2074        1  orange    $0.10   False  bagel    $0.09   False  banana   \n",
       "\n",
       "      p3_conf  p3_dog  \n",
       "2074    $0.08   False  "
      ]
     },
     "execution_count": 175,
     "metadata": {},
     "output_type": "execute_result"
    }
   ],
   "source": [
    "df2[df2.tweet_id==892420643555336193]"
   ]
  },
  {
   "cell_type": "code",
   "execution_count": 176,
   "metadata": {},
   "outputs": [
    {
     "data": {
      "text/html": [
       "<div>\n",
       "<style scoped>\n",
       "    .dataframe tbody tr th:only-of-type {\n",
       "        vertical-align: middle;\n",
       "    }\n",
       "\n",
       "    .dataframe tbody tr th {\n",
       "        vertical-align: top;\n",
       "    }\n",
       "\n",
       "    .dataframe thead th {\n",
       "        text-align: right;\n",
       "    }\n",
       "</style>\n",
       "<table border=\"1\" class=\"dataframe\">\n",
       "  <thead>\n",
       "    <tr style=\"text-align: right;\">\n",
       "      <th></th>\n",
       "      <th>id</th>\n",
       "      <th>retweets_count</th>\n",
       "      <th>favorite_count</th>\n",
       "    </tr>\n",
       "  </thead>\n",
       "  <tbody>\n",
       "    <tr>\n",
       "      <th>0</th>\n",
       "      <td>892420643555336193</td>\n",
       "      <td>7425</td>\n",
       "      <td>35194</td>\n",
       "    </tr>\n",
       "    <tr>\n",
       "      <th>1</th>\n",
       "      <td>892177421306343426</td>\n",
       "      <td>5522</td>\n",
       "      <td>30461</td>\n",
       "    </tr>\n",
       "    <tr>\n",
       "      <th>2</th>\n",
       "      <td>891815181378084864</td>\n",
       "      <td>3645</td>\n",
       "      <td>22905</td>\n",
       "    </tr>\n",
       "    <tr>\n",
       "      <th>3</th>\n",
       "      <td>891689557279858688</td>\n",
       "      <td>7601</td>\n",
       "      <td>38482</td>\n",
       "    </tr>\n",
       "    <tr>\n",
       "      <th>4</th>\n",
       "      <td>891327558926688256</td>\n",
       "      <td>8185</td>\n",
       "      <td>36751</td>\n",
       "    </tr>\n",
       "  </tbody>\n",
       "</table>\n",
       "</div>"
      ],
      "text/plain": [
       "                   id  retweets_count  favorite_count\n",
       "0  892420643555336193            7425           35194\n",
       "1  892177421306343426            5522           30461\n",
       "2  891815181378084864            3645           22905\n",
       "3  891689557279858688            7601           38482\n",
       "4  891327558926688256            8185           36751"
      ]
     },
     "execution_count": 176,
     "metadata": {},
     "output_type": "execute_result"
    }
   ],
   "source": [
    "##Assesing Api_Data\n",
    "df3.head()"
   ]
  },
  {
   "cell_type": "code",
   "execution_count": 177,
   "metadata": {
    "scrolled": true
   },
   "outputs": [
    {
     "name": "stdout",
     "output_type": "stream",
     "text": [
      "<class 'pandas.core.frame.DataFrame'>\n",
      "RangeIndex: 2331 entries, 0 to 2330\n",
      "Data columns (total 3 columns):\n",
      " #   Column          Non-Null Count  Dtype\n",
      "---  ------          --------------  -----\n",
      " 0   id              2331 non-null   int64\n",
      " 1   retweets_count  2331 non-null   int64\n",
      " 2   favorite_count  2331 non-null   int64\n",
      "dtypes: int64(3)\n",
      "memory usage: 54.8 KB\n"
     ]
    }
   ],
   "source": [
    "df3.info()"
   ]
  },
  {
   "cell_type": "code",
   "execution_count": 178,
   "metadata": {},
   "outputs": [
    {
     "data": {
      "text/plain": [
       "0"
      ]
     },
     "execution_count": 178,
     "metadata": {},
     "output_type": "execute_result"
    }
   ],
   "source": [
    "sum(df3[\"id\"].duplicated())"
   ]
  },
  {
   "cell_type": "code",
   "execution_count": 179,
   "metadata": {},
   "outputs": [
    {
     "data": {
      "text/plain": [
       "0"
      ]
     },
     "execution_count": 179,
     "metadata": {},
     "output_type": "execute_result"
    }
   ],
   "source": [
    "sum(df3.duplicated())"
   ]
  },
  {
   "cell_type": "markdown",
   "metadata": {},
   "source": [
    "# Assessment ISSUES"
   ]
  },
  {
   "cell_type": "markdown",
   "metadata": {},
   "source": [
    "<h2> Twitter_Archive_dataset </h2>\n",
    "\n",
    "<h3> Quality </h3>\n",
    "<ul>\n",
    "<li>We only wan tweets\" that have images in Image Predictions dataset .  </li>\n",
    "<li>We only want original ratings no retweets nor replies  </li>\n",
    "<li>There are columns that won't be used for analysis.  </li>\n",
    "<li>Consistency issue nan is written sometime as None or $nan. </li>\n",
    "<li>Weird values in name column like ('this', 'unacceptable','all',\"such\") .</li>\n",
    "<li>Timestamp column data_type is string (object) instead of DataTime.</li>\n",
    "<li>Some denominators values are  > or < than 10 or =0.  </li>\n",
    "<li>Some numerators values seem outliers.</li>\n",
    "<li>Missing data in multiple columns.  </li>\n",
    "</ul>\n",
    "\n",
    "<h3> Tidiness </h3>\n",
    "<uL>\n",
    " <li> The dog stage has 4 stages (values in headers).</li>\n",
    "</ul>\n",
    "\n",
    "<h2> Image Predictions </h2>\n",
    "<uL>\n",
    "  <li> Undescriptive columns names (p1,p2,p2,p1_conf,p2_conf,p3_conf,P1_dof,p2_dog,p3_dog).</li>\n",
    "  <li> Duplicates.</li>\n",
    "  <li> There are columns that won't be used for analysis.</li>\n",
    " \n",
    "</ul>\n",
    "<h3> Tidiness </h3>\n",
    "<ul>\n",
    "  <li>There is 3 columns for classifications algos and another three for algos confidentiality (values in headers).</li>\n",
    "</ul>\n",
    "\n",
    "#### for merging the3 data sets ,df3.id  columns should be changed to \"twitter_id\""
   ]
  },
  {
   "cell_type": "markdown",
   "metadata": {},
   "source": [
    "# Cleaning\n"
   ]
  },
  {
   "cell_type": "markdown",
   "metadata": {},
   "source": [
    "<h2> Clean Data_archive_enhanced </h2>"
   ]
  },
  {
   "cell_type": "code",
   "execution_count": 180,
   "metadata": {},
   "outputs": [],
   "source": [
    "df1_cleaned=df1.copy().sort_values('tweet_id')\n",
    "df2_cleaned=df2.copy().sort_values('tweet_id')\n",
    "df3_cleaned=df3.copy().sort_values('id')"
   ]
  },
  {
   "cell_type": "code",
   "execution_count": 181,
   "metadata": {},
   "outputs": [],
   "source": [
    "## clean the twitter archive dataset\n"
   ]
  },
  {
   "cell_type": "code",
   "execution_count": 182,
   "metadata": {},
   "outputs": [
    {
     "data": {
      "text/plain": [
       "array([ 10,   2,  80, 120,  16,  11, 110, 130,  20,  40,  50,  90, 170,\n",
       "       150,   7,  70,  15,   0], dtype=int64)"
      ]
     },
     "execution_count": 182,
     "metadata": {},
     "output_type": "execute_result"
    }
   ],
   "source": [
    "df1_cleaned[\"rating_denominator\"].unique()"
   ]
  },
  {
   "cell_type": "code",
   "execution_count": 183,
   "metadata": {},
   "outputs": [],
   "source": [
    "#tweets with pics\n",
    "tweets_with_image = list(df2_cleaned.tweet_id.unique())\n",
    "len(tweets_with_image) == df1_cleaned.tweet_id.isin(tweets_with_image).sum()\n",
    "df1_cleaned=df1_cleaned[df1_cleaned.tweet_id.isin(tweets_with_image)]"
   ]
  },
  {
   "cell_type": "code",
   "execution_count": 184,
   "metadata": {},
   "outputs": [
    {
     "data": {
      "text/plain": [
       "(2075, 17)"
      ]
     },
     "execution_count": 184,
     "metadata": {},
     "output_type": "execute_result"
    }
   ],
   "source": [
    "df1_cleaned.shape"
   ]
  },
  {
   "cell_type": "code",
   "execution_count": 185,
   "metadata": {},
   "outputs": [],
   "source": [
    "#no replies or retweets\n",
    "df1_cleaned=df1_cleaned[pd.isnull(df1_cleaned.retweeted_status_id)]\n",
    "df1_cleaned=df1_cleaned[pd.isnull(df1_cleaned.in_reply_to_status_id)]"
   ]
  },
  {
   "cell_type": "code",
   "execution_count": 186,
   "metadata": {},
   "outputs": [
    {
     "data": {
      "text/plain": [
       "(1971, 17)"
      ]
     },
     "execution_count": 186,
     "metadata": {},
     "output_type": "execute_result"
    }
   ],
   "source": [
    "df1_cleaned.shape"
   ]
  },
  {
   "cell_type": "code",
   "execution_count": 187,
   "metadata": {},
   "outputs": [],
   "source": [
    "#drop unimportant cols\n",
    "df1_cleaned.drop([\"in_reply_to_user_id\",\"in_reply_to_status_id\",\"retweeted_status_id\",\"retweeted_status_user_id\",\"retweeted_status_timestamp\",\"source\",\"expanded_urls\"],axis=1,inplace=True)\n"
   ]
  },
  {
   "cell_type": "code",
   "execution_count": 188,
   "metadata": {},
   "outputs": [
    {
     "data": {
      "text/plain": [
       "(1971, 10)"
      ]
     },
     "execution_count": 188,
     "metadata": {},
     "output_type": "execute_result"
    }
   ],
   "source": [
    "df1_cleaned.shape"
   ]
  },
  {
   "cell_type": "code",
   "execution_count": 189,
   "metadata": {},
   "outputs": [],
   "source": [
    "#replace None with nan\n",
    "df1_cleaned=df1_cleaned.loc[:,:].replace('None',np.nan)"
   ]
  },
  {
   "cell_type": "code",
   "execution_count": 190,
   "metadata": {},
   "outputs": [
    {
     "data": {
      "text/html": [
       "<div>\n",
       "<style scoped>\n",
       "    .dataframe tbody tr th:only-of-type {\n",
       "        vertical-align: middle;\n",
       "    }\n",
       "\n",
       "    .dataframe tbody tr th {\n",
       "        vertical-align: top;\n",
       "    }\n",
       "\n",
       "    .dataframe thead th {\n",
       "        text-align: right;\n",
       "    }\n",
       "</style>\n",
       "<table border=\"1\" class=\"dataframe\">\n",
       "  <thead>\n",
       "    <tr style=\"text-align: right;\">\n",
       "      <th></th>\n",
       "      <th>tweet_id</th>\n",
       "      <th>timestamp</th>\n",
       "      <th>text</th>\n",
       "      <th>rating_numerator</th>\n",
       "      <th>rating_denominator</th>\n",
       "      <th>name</th>\n",
       "      <th>doggo</th>\n",
       "      <th>floofer</th>\n",
       "      <th>pupper</th>\n",
       "      <th>puppo</th>\n",
       "    </tr>\n",
       "  </thead>\n",
       "  <tbody>\n",
       "    <tr>\n",
       "      <th>2355</th>\n",
       "      <td>666020888022790149</td>\n",
       "      <td>2015-11-15 22:32:08 +0000</td>\n",
       "      <td>Here we have a Japanese Irish Setter. Lost eye...</td>\n",
       "      <td>8</td>\n",
       "      <td>10</td>\n",
       "      <td>NaN</td>\n",
       "      <td>NaN</td>\n",
       "      <td>NaN</td>\n",
       "      <td>NaN</td>\n",
       "      <td>NaN</td>\n",
       "    </tr>\n",
       "    <tr>\n",
       "      <th>2354</th>\n",
       "      <td>666029285002620928</td>\n",
       "      <td>2015-11-15 23:05:30 +0000</td>\n",
       "      <td>This is a western brown Mitsubishi terrier. Up...</td>\n",
       "      <td>7</td>\n",
       "      <td>10</td>\n",
       "      <td>a</td>\n",
       "      <td>NaN</td>\n",
       "      <td>NaN</td>\n",
       "      <td>NaN</td>\n",
       "      <td>NaN</td>\n",
       "    </tr>\n",
       "    <tr>\n",
       "      <th>2353</th>\n",
       "      <td>666033412701032449</td>\n",
       "      <td>2015-11-15 23:21:54 +0000</td>\n",
       "      <td>Here is a very happy pup. Big fan of well-main...</td>\n",
       "      <td>9</td>\n",
       "      <td>10</td>\n",
       "      <td>a</td>\n",
       "      <td>NaN</td>\n",
       "      <td>NaN</td>\n",
       "      <td>NaN</td>\n",
       "      <td>NaN</td>\n",
       "    </tr>\n",
       "    <tr>\n",
       "      <th>2352</th>\n",
       "      <td>666044226329800704</td>\n",
       "      <td>2015-11-16 00:04:52 +0000</td>\n",
       "      <td>This is a purebred Piers Morgan. Loves to Netf...</td>\n",
       "      <td>6</td>\n",
       "      <td>10</td>\n",
       "      <td>a</td>\n",
       "      <td>NaN</td>\n",
       "      <td>NaN</td>\n",
       "      <td>NaN</td>\n",
       "      <td>NaN</td>\n",
       "    </tr>\n",
       "    <tr>\n",
       "      <th>2351</th>\n",
       "      <td>666049248165822465</td>\n",
       "      <td>2015-11-16 00:24:50 +0000</td>\n",
       "      <td>Here we have a 1949 1st generation vulpix. Enj...</td>\n",
       "      <td>5</td>\n",
       "      <td>10</td>\n",
       "      <td>NaN</td>\n",
       "      <td>NaN</td>\n",
       "      <td>NaN</td>\n",
       "      <td>NaN</td>\n",
       "      <td>NaN</td>\n",
       "    </tr>\n",
       "  </tbody>\n",
       "</table>\n",
       "</div>"
      ],
      "text/plain": [
       "                tweet_id                  timestamp  \\\n",
       "2355  666020888022790149  2015-11-15 22:32:08 +0000   \n",
       "2354  666029285002620928  2015-11-15 23:05:30 +0000   \n",
       "2353  666033412701032449  2015-11-15 23:21:54 +0000   \n",
       "2352  666044226329800704  2015-11-16 00:04:52 +0000   \n",
       "2351  666049248165822465  2015-11-16 00:24:50 +0000   \n",
       "\n",
       "                                                   text  rating_numerator  \\\n",
       "2355  Here we have a Japanese Irish Setter. Lost eye...                 8   \n",
       "2354  This is a western brown Mitsubishi terrier. Up...                 7   \n",
       "2353  Here is a very happy pup. Big fan of well-main...                 9   \n",
       "2352  This is a purebred Piers Morgan. Loves to Netf...                 6   \n",
       "2351  Here we have a 1949 1st generation vulpix. Enj...                 5   \n",
       "\n",
       "      rating_denominator name doggo floofer pupper puppo  \n",
       "2355                  10  NaN   NaN     NaN    NaN   NaN  \n",
       "2354                  10    a   NaN     NaN    NaN   NaN  \n",
       "2353                  10    a   NaN     NaN    NaN   NaN  \n",
       "2352                  10    a   NaN     NaN    NaN   NaN  \n",
       "2351                  10  NaN   NaN     NaN    NaN   NaN  "
      ]
     },
     "execution_count": 190,
     "metadata": {},
     "output_type": "execute_result"
    }
   ],
   "source": [
    "df1_cleaned.head()"
   ]
  },
  {
   "cell_type": "code",
   "execution_count": 191,
   "metadata": {},
   "outputs": [
    {
     "name": "stdout",
     "output_type": "stream",
     "text": [
      "<class 'pandas.core.frame.DataFrame'>\n",
      "Int64Index: 1971 entries, 2355 to 0\n",
      "Data columns (total 10 columns):\n",
      " #   Column              Non-Null Count  Dtype \n",
      "---  ------              --------------  ----- \n",
      " 0   tweet_id            1971 non-null   int64 \n",
      " 1   timestamp           1971 non-null   object\n",
      " 2   text                1971 non-null   object\n",
      " 3   rating_numerator    1971 non-null   int64 \n",
      " 4   rating_denominator  1971 non-null   int64 \n",
      " 5   name                1447 non-null   object\n",
      " 6   doggo               73 non-null     object\n",
      " 7   floofer             8 non-null      object\n",
      " 8   pupper              209 non-null    object\n",
      " 9   puppo               23 non-null     object\n",
      "dtypes: int64(3), object(7)\n",
      "memory usage: 169.4+ KB\n"
     ]
    }
   ],
   "source": [
    "df1_cleaned.info()"
   ]
  },
  {
   "cell_type": "code",
   "execution_count": 192,
   "metadata": {},
   "outputs": [
    {
     "name": "stdout",
     "output_type": "stream",
     "text": [
      "['a', 'a', 'a', 'a', 'an', 'a', 'a', 'the', 'the', 'an', 'a', 'an', 'a', 'a', 'a', 'a', 'a', 'a', 'a', 'a', 'a', 'a', 'a', 'a', 'a', 'an', 'a', 'a', 'a', 'a', 'a', 'a', 'a', 'a', 'a', 'the', 'a', 'a', 'a', 'a', 'one', 'a', 'a', 'a', 'a', 'a', 'the', 'the', 'a', 'a', 'by', 'the', 'the', 'a', 'a', 'a', 'an', 'a', 'a', 'a', 'a', 'a', 'all', 'a', 'an', 'a', 'a', 'a', 'one', 'his', 'not', 'one', 'my', 'a', 'a', 'one', 'a']\n"
     ]
    }
   ],
   "source": [
    "#clean names\n",
    "unvalid_names=[]\n",
    "#(df1_cleaned[df1_cleaned['name'].str.len() < 3])\n",
    "for index,row in df1_cleaned.iterrows(): \n",
    "    if type(row[\"name\"])==str and len(row[\"name\"])<=3 and row[\"name\"][0].islower():\n",
    "        unvalid_names.append(row[\"name\"])\n",
    "     \n",
    "        \n",
    "         \n",
    "print(unvalid_names)       \n",
    "df1_cleaned.loc[df1_cleaned[\"name\"].isin(unvalid_names), \"name\"] = np.nan                                                         "
   ]
  },
  {
   "cell_type": "code",
   "execution_count": 193,
   "metadata": {},
   "outputs": [
    {
     "data": {
      "text/plain": [
       "False"
      ]
     },
     "execution_count": 193,
     "metadata": {},
     "output_type": "execute_result"
    }
   ],
   "source": [
    "df1_cleaned[df1_cleaned['name']==\"a\"].sum().any()\n"
   ]
  },
  {
   "cell_type": "code",
   "execution_count": 194,
   "metadata": {},
   "outputs": [
    {
     "data": {
      "text/plain": [
       "array([nan, 'quite', 'Walter', 'Scout', 'Kreggory', 'Jimothy',\n",
       "       'Christoper', 'Lugan', 'Josep', 'Jockson', 'Jeph', 'Carll',\n",
       "       'Klevin', 'Keet', 'Dave', 'Clybe', 'Gabe', 'Pipsy', 'Bradlay',\n",
       "       'Churlie', 'Kenneth', 'Clarence', 'Timison', 'Joshwa', 'Genevieve',\n",
       "       'Fwed', 'Biden', 'Cupcake', 'Reese', 'Philippe', 'Hall', 'Dook',\n",
       "       'Naphaniel', 'Frank', 'Kial', 'George', 'Olive', 'Calvin', 'Filup',\n",
       "       'Shaggy', 'Tedrick', 'Stu', 'Erik', 'Cleopatricia', 'Otis',\n",
       "       'Jiminy', 'Alfie', 'Skittles', 'Ron', 'Torque', 'Bisquick',\n",
       "       'Jareld', 'Sophie', 'Rusty', 'DayZ', 'Jo', 'Gòrdón', 'Spark',\n",
       "       'Marvin', 'Kallie', 'Jomathan', 'Maks', 'Timofy', 'Zeek', 'Hanz',\n",
       "       'Winifred', 'Kevon', 'Banditt', 'Bobb', 'Amélie', 'Ruffles',\n",
       "       'Lambeau', 'Herald', 'Jaycob', 'Jeremy', 'Chaz', 'Ruby', 'Bernie',\n",
       "       'Harrison', 'Terrance', 'Tucker', 'Samsom', 'Jaspers', 'Clarq',\n",
       "       'Ralf', 'Kirk', 'Sully', 'Dug', 'Saydee', 'Chip', 'Oliviér',\n",
       "       'Billl', 'Ronduh', 'Kollin', 'Keith', 'Linda', 'Skye', 'Penny',\n",
       "       'Shawwn', 'Louie', 'Kloey', 'Chester', 'Andru', 'Julio', 'Zoey',\n",
       "       'Raphael', 'Ben', 'Tommy', 'Liam', 'Randall', 'Winston', 'Fabio',\n",
       "       'Wally', 'Sandra', 'Butters', 'Daisy', 'Larry', 'Nigel', 'Peanut',\n",
       "       'Scooter', 'Damon', 'Herb', 'Willy', 'Sam', 'Hank', 'Koda',\n",
       "       'Paull', 'Edd', 'Phineas', 'Bloo', 'Pluto', 'Ester', 'Danny',\n",
       "       'Jeffrie', 'Jerry', 'Gin', 'Vincent', 'Traviss', 'Creg', 'Antony',\n",
       "       'Trigger', 'Mason', 'Andy', 'Maggie', 'Sage', 'Remington', 'Amy',\n",
       "       'Jett', 'Colby', 'Toby', 'Phred', 'Holly', 'Anthony', 'Herm',\n",
       "       'Sparky', 'Lola', 'Lou', 'Tanner', 'Penelope', 'Malcolm', 'Julius',\n",
       "       'Pip', 'Charlie', 'Hammond', 'Scruffers', 'Alejandro', 'Jax',\n",
       "       'Reginald', 'Baxter', 'JD', 'Marley', 'Oscar', 'Mark', 'space',\n",
       "       'Dylan', 'Mia', 'Brad', 'Batdog', 'Mojo', 'Gizmo', 'Patch', 'Tuco',\n",
       "       'just', 'Bubba', 'Bradley', 'Opal', 'Cal', 'Ridley', 'Snickers',\n",
       "       'Rolf', 'Kreg', 'Pippin', 'Franq', 'Buddy', 'Jazz', 'light',\n",
       "       'Jackie', 'Darby', 'Taz', 'Scott', 'Caryl', 'Norman', 'Leonidas',\n",
       "       'Ed', 'Cheryl', 'Jimison', 'Terry', 'Gustaf', 'Chet', 'Chuckles',\n",
       "       'Schnozz', 'Pumpkin', 'Kenzie', 'Fletcher', 'Dexter', 'Mac', 'Eve',\n",
       "       'Frankie', 'Django', 'Gerald', 'Bella', 'Steve', 'Sandy', 'Jeffri',\n",
       "       'Albert', 'Kendall', 'Shnuggles', 'Pickles', 'Dot', 'Raymond',\n",
       "       'Riley', 'Obie', 'Aiden', 'Acro', 'Kaiya', 'Lucy', 'Stanley',\n",
       "       'Earl', 'Mitch', 'Bobbay', 'Gus', 'Henry', 'Bob', 'Kenny',\n",
       "       'Lennon', 'Chesney', 'Gary', 'Lenny', 'Jonah', 'Ava', 'Bailey',\n",
       "       'Louis', 'Rodman', 'Jeb', 'Patrick', 'Rufio', 'Superpup',\n",
       "       'Tedders', 'Laela', 'Mollie', 'Moe', 'Oliver', 'Zuzu', 'Steven',\n",
       "       'Coops', 'Arnold', 'Reggie', 'Sammy', 'Ellie', 'Buddah', 'Pepper',\n",
       "       'Donny', 'Striker', 'Bert', 'Duke', 'Griffin', 'Vinnie', 'Bubbles',\n",
       "       'Godzilla', 'Ash', 'Karl', 'Tyrus', 'Cooper', 'Chuq', 'Juckson',\n",
       "       'Tassy', 'Derek', 'Humphrey', 'Axel', 'Sadie', 'Ralph', 'Jessifer',\n",
       "       'Rosie', 'Crumpet', 'Jerome', 'Crystal', 'Grizz', 'Tango', 'Dash',\n",
       "       'Wilson', 'Tug', 'Chompsky', 'officially', 'Rubio', 'Hurley',\n",
       "       'Evy', 'Dwight', 'William', 'Mike', 'Hunter', 'Rinna', 'Willie',\n",
       "       'Bruce', 'Emmie', 'Ozzy', 'Kawhi', 'Goliath', 'CeCe', 'Hector',\n",
       "       'Percy', 'Brody', 'Moofasa', 'Cheesy', 'Griswold', 'Alice',\n",
       "       'Ozzie', 'Aspen', 'Champ', 'Panda', 'Sarge', 'actually', 'Chuck',\n",
       "       'Glacier', 'Asher', 'Carly', 'Apollo', 'Toffee', 'Bo', 'Ulysses',\n",
       "       'Tess', 'Samson', 'Todo', 'Joey', 'Taco', 'Darrel', 'Lulu',\n",
       "       'Brandy', 'Jack', 'Banjo', 'Sebastian', 'Tiger', 'Lupe', 'Kulet',\n",
       "       'Tino', 'Obi', 'Pippa', 'Bobby', 'Theodore', 'Perry', 'Bruiser',\n",
       "       'Oreo', 'Gerbald', 'Hubertson', 'Petrick', 'Rocky', 'Brooks',\n",
       "       'Marty', 'Lorelei', 'Flávio', 'Birf', 'Crimson', 'Horace',\n",
       "       'Olivia', 'Mona', 'Jackson', 'Gordon', 'Tyrone', 'Kramer',\n",
       "       'Curtis', 'Marq', 'Blakely', 'Trooper', 'Kilo', 'Lizzie', 'Derby',\n",
       "       'Frönq', 'Pubert', 'Hamrick', 'Trip', 'Lucky', 'Chipson', 'Carl',\n",
       "       'Ricky', 'Luca', 'Fynn', 'Durg', 'Covach', 'Geoff', 'Maxwell',\n",
       "       'Eriq', 'Lolo', 'Hazel', 'Cedrick', 'Vinscent', 'Peaches', 'Molly',\n",
       "       'Leo', 'Richie', 'Brockly', 'Kingsley', 'Edgar', 'Herschel',\n",
       "       'Cody', 'Amber', 'Tupawc', 'Milo', 'Dunkin', 'Bodie', 'Lincoln',\n",
       "       'Phil', 'Freddery', 'Kobe', 'Grady', 'Archie', 'Brian', 'Lorenzo',\n",
       "       'Colin', 'Wyatt', 'Berb', 'Trevith', 'Reptar', 'Misty', 'Oakley',\n",
       "       'getting', 'Bentley', 'Blipson', 'Ole', 'Carter', 'Cassie', 'Doug',\n",
       "       'Lily', 'Beau', 'Franklin', 'Maximus', 'Jessiga', 'Claude',\n",
       "       'Cuddles', 'Reagan', 'Charl', 'Calbert', 'Miley', 'Fillup', 'Nala',\n",
       "       'Thumas', 'Eazy', 'Dotsy', 'Murphy', 'Kaia', 'very', 'Daniel',\n",
       "       'Crouton', 'Millie', 'Yoda', 'Coopson', 'Bilbo', 'Rilo', 'Fiji',\n",
       "       'Sansa', 'Rambo', 'Socks', 'Ralphson', 'Lucia', 'Chesterson',\n",
       "       'Terrenth', 'Bode', 'Ambrose', 'Zara', 'Max', 'Adele', 'Kara',\n",
       "       'Shadow', 'Katie', 'Elliot', 'Kathmandu', 'Finnegus', 'Clarkus',\n",
       "       'Keurig', 'Harper', 'Jiminus', 'Rufus', 'Farfle', 'Jebberson',\n",
       "       'River', 'Bobble', 'Bear', 'Smokey', 'Coco', 'Mister', 'Malikai',\n",
       "       'Rodney', 'Walker', 'Billy', 'Karma', 'Vince', 'Cecil', 'Olaf',\n",
       "       'Watson', 'Tater', 'Lacy', 'infuriating', 'Gunner', 'Beemo',\n",
       "       'Sora', 'Staniel', 'Roosevelt', 'Kane', 'Sunny', 'Stubert', 'Opie',\n",
       "       'Lance', 'Piper', 'Kanu', 'Travis', 'Benedict', 'Siba',\n",
       "       'Michelangelope', 'Nico', 'Bertson', 'Zeus', 'Stephanus',\n",
       "       'Bluebert', 'Jennifur', 'Link', 'Ebby', 'Barclay', 'Suki',\n",
       "       'Alexanderson', 'Bowie', 'Carper', 'Sid', 'Harnold', 'Clyde',\n",
       "       'Neptune', 'Charleson', 'Ralphé', 'Berkeley', 'Schnitzel',\n",
       "       'Jangle', 'Ivar', 'Sugar', 'Luther', 'Ashleigh', 'Fred', 'Lillie',\n",
       "       'Bloop', 'Blitz', 'Sprout', 'Karll', 'Cilantro', 'Rueben',\n",
       "       'Enchilada', 'Wallace', 'Coleman', 'Flurpson', 'Puff', 'Pupcasso',\n",
       "       'Stefan', 'Ollie', 'Charles', 'Ziva', 'Rooney', 'unacceptable',\n",
       "       'this', 'Solomon', 'Kyle', 'Aldrick', 'Ralpher', 'Hermione',\n",
       "       'Moose', 'Livvie', 'Buckley', 'Kellogg', 'Dakota', 'Maxaroni',\n",
       "       'Rory', 'Chadrick', 'Remy', 'Storkson', 'Bayley', 'Benji', 'Simba',\n",
       "       'Rorie', 'Nollie', 'Chase', 'Baloo', 'Aqua', 'Edmund', 'Bell',\n",
       "       'Kayla', 'Beya', 'Harold', 'Stark', 'Geno', 'Blanket', 'Harvey',\n",
       "       'Indie', 'Abby', 'Lenox', 'Arlen', 'Gustav', 'Shiloh', 'Clark',\n",
       "       'Atticus', 'Bookstore', 'Huxley', 'Cora', 'Tripp', 'Divine',\n",
       "       'Dietrich', 'Blu', 'Finn', 'Jameson', 'Spanky', 'Lilah', 'Stewie',\n",
       "       'Zoe', 'Arnie', 'Meyer', 'Gilbert', 'Grizzie', 'Tayzie', 'Ace',\n",
       "       'Dex', 'Winnie', 'Gert', 'Devón', 'Beckham', 'Leonard', 'Corey',\n",
       "       'Odie', 'Brandonald', 'Boston', 'Lilli', 'Spencer', 'Luna', 'Emma',\n",
       "       'Kirby', 'Fido', 'Rocco', 'Atlas', 'Theo', 'Rose', 'Wishes',\n",
       "       'Bonaparte', 'Sephie', 'Shelby', 'Glenn', 'Leela', 'Belle', 'Kota',\n",
       "       'Aubie', 'Gromit', 'Tove', 'Brat', 'Angel', 'Juno', 'Shadoe',\n",
       "       'Brudge', 'Rupert', 'Philbert', 'Tito', 'Chevy', 'Jesse', 'DonDon',\n",
       "       'Titan', 'Klein', 'Carbon', 'Al', 'Dixie', 'Fizz', 'Davey',\n",
       "       'Willem', 'Grey', 'Bungalo', 'Chelsea', 'Shakespeare', 'Loki',\n",
       "       'Heinrich', 'Sprinkles', 'Finley', 'Anakin', 'Blue', 'Sampson',\n",
       "       'O', 'Huck', 'Jeffrey', 'Wesley', 'Strider', 'Mya', 'Jay',\n",
       "       'Hercules', 'Timmy', 'Deacon', 'Cali', 'Godi', 'Loomis', 'Mairi',\n",
       "       'Stormy', 'Hero', 'Doc', 'Dallas', 'Pinot', 'Mattie', 'Rizzo',\n",
       "       'Dale', 'Logan', 'Tonks', 'Butter', 'Stella', 'Rizzy', 'Brownie',\n",
       "       'Eli', 'Happy', 'Mosby', 'Betty', 'Mabel', 'Levi', 'Remus', 'BeBe',\n",
       "       'Monster', 'Robin', 'Nida', 'Newt', 'Maude', 'Moreton', 'Fiona',\n",
       "       'Dobby', 'Laika', 'Nimbus', 'Mack', 'Yogi', 'Snicku', 'Romeo',\n",
       "       'Tyr', 'Pancake', 'Iroh', 'Longfellow', 'Sobe', 'Chef', 'Mauve',\n",
       "       'Bones', 'Ronnie', 'Severus', 'Sonny', 'Diogi', 'Shooter', 'Zeke',\n",
       "       'Major', 'incredibly', 'Waffles', 'Stephan', 'Ito', 'Kyro',\n",
       "       'Pavlov', 'Craig', 'Augie', 'Halo', 'Ted', 'Mary', 'Brandi',\n",
       "       'Swagger', 'Bauer', 'Baron', 'Layla', 'Eleanor', 'Sky', 'Chubbs',\n",
       "       'Oshie', 'Alf', 'Akumi', 'Comet', 'Dudley', 'Binky', 'Timber',\n",
       "       'Chloe', 'Tebow', 'Strudel', 'Ken', 'Eugene', 'Dido', 'Autumn',\n",
       "       'Florence', 'Tom', 'Wafer', 'Anna', 'Jazzy', 'Howie', 'Flash',\n",
       "       'Sundance', 'Harlso', 'Duchess', 'Paisley', 'Hobbes', 'Albus',\n",
       "       'Crawford', 'Cash', 'Pablo', 'Sweet', 'Mo', 'Ike', 'Pilot',\n",
       "       'Pawnd', 'Cupid', 'Ralphie', 'Boots', 'Kona', 'Brutus', 'Sailer',\n",
       "       'Alexander', 'Beebop', 'Doobert', 'Mutt', 'Astrid', 'Lilly',\n",
       "       'Pete', 'Dutch', 'Kuyu', 'Emanuel', 'Miguel', 'Smiley', 'Eevee',\n",
       "       'Orion', 'Willow', 'Rhino', 'Gidget', 'Poppy', 'Bronte', 'Lipton',\n",
       "       'Sunshine', 'Tobi', 'Meera', 'Mookie', 'Arlo', 'Sojourner',\n",
       "       'Monty', 'Maddie', 'Dawn', 'Tycho', 'Margo', 'Brady', 'Mimosa',\n",
       "       'Jarvis', 'Vixen', 'Barney', 'Tuck', 'Furzey', 'Cannon', 'Rontu',\n",
       "       'Georgie', 'Odin', 'Kevin', 'Noosh', 'Boomer', 'Snoop', 'Iggy',\n",
       "       'Sailor', 'General', 'Wiggles', 'Jarod', 'Benny', 'Rumpole',\n",
       "       'Einstein', 'Arya', 'Marlee', 'Cermet', 'Callie', 'Thor', 'Milky',\n",
       "       'Jordy', 'Burt', 'Jersey', 'Zooey', 'Quinn', 'Meatball', 'Nelly',\n",
       "       'Jamesy', 'Lili', 'Shikha', 'Dewey', 'Clifford', 'Rumble',\n",
       "       'Napolean', 'Rover', 'Lassie', 'Kody', 'Harry', 'Monkey', 'Sierra',\n",
       "       'Jed', 'Nugget', 'Goose', 'Venti', 'Ginger', 'Dante', 'Aja',\n",
       "       'Emmy', 'Snoopy', 'Duddles', 'Rey', 'Koko', 'Alfy', 'Grizzwald',\n",
       "       'Noah', 'Maisey', 'Jimbo', 'Roscoe', 'Mingus', 'Maya', 'Canela',\n",
       "       'such', 'Ralphus', 'Jim', 'Stuart', 'Bruno', 'Darla', 'Tilly'],\n",
       "      dtype=object)"
      ]
     },
     "execution_count": 194,
     "metadata": {},
     "output_type": "execute_result"
    }
   ],
   "source": [
    "df1_cleaned.name.unique()"
   ]
  },
  {
   "cell_type": "code",
   "execution_count": 195,
   "metadata": {},
   "outputs": [
    {
     "name": "stdout",
     "output_type": "stream",
     "text": [
      "quite\n",
      "space\n",
      "just\n",
      "light\n",
      "officially\n",
      "actually\n",
      "just\n",
      "getting\n",
      "very\n",
      "infuriating\n",
      "unacceptable\n",
      "this\n",
      "very\n",
      "getting\n",
      "just\n",
      "very\n",
      "very\n",
      "incredibly\n",
      "quite\n",
      "quite\n",
      "such\n"
     ]
    }
   ],
   "source": [
    "extra_invalid_names=[]\n",
    "for index,row in df1_cleaned.iterrows(): \n",
    "    if type(row[\"name\"])==str and row[\"name\"][0].islower():\n",
    "        print(row[\"name\"])\n",
    "        extra_invalid_names.append(row[\"name\"])"
   ]
  },
  {
   "cell_type": "code",
   "execution_count": 196,
   "metadata": {},
   "outputs": [],
   "source": [
    "df1_cleaned.loc[df1_cleaned[\"name\"].isin(extra_invalid_names), \"name\"] = np.nan    "
   ]
  },
  {
   "cell_type": "code",
   "execution_count": 197,
   "metadata": {},
   "outputs": [
    {
     "data": {
      "text/plain": [
       "array([nan, 'Walter', 'Scout', 'Kreggory', 'Jimothy', 'Christoper',\n",
       "       'Lugan', 'Josep', 'Jockson', 'Jeph', 'Carll', 'Klevin', 'Keet',\n",
       "       'Dave', 'Clybe', 'Gabe', 'Pipsy', 'Bradlay', 'Churlie', 'Kenneth',\n",
       "       'Clarence', 'Timison', 'Joshwa', 'Genevieve', 'Fwed', 'Biden',\n",
       "       'Cupcake', 'Reese', 'Philippe', 'Hall', 'Dook', 'Naphaniel',\n",
       "       'Frank', 'Kial', 'George', 'Olive', 'Calvin', 'Filup', 'Shaggy',\n",
       "       'Tedrick', 'Stu', 'Erik', 'Cleopatricia', 'Otis', 'Jiminy',\n",
       "       'Alfie', 'Skittles', 'Ron', 'Torque', 'Bisquick', 'Jareld',\n",
       "       'Sophie', 'Rusty', 'DayZ', 'Jo', 'Gòrdón', 'Spark', 'Marvin',\n",
       "       'Kallie', 'Jomathan', 'Maks', 'Timofy', 'Zeek', 'Hanz', 'Winifred',\n",
       "       'Kevon', 'Banditt', 'Bobb', 'Amélie', 'Ruffles', 'Lambeau',\n",
       "       'Herald', 'Jaycob', 'Jeremy', 'Chaz', 'Ruby', 'Bernie', 'Harrison',\n",
       "       'Terrance', 'Tucker', 'Samsom', 'Jaspers', 'Clarq', 'Ralf', 'Kirk',\n",
       "       'Sully', 'Dug', 'Saydee', 'Chip', 'Oliviér', 'Billl', 'Ronduh',\n",
       "       'Kollin', 'Keith', 'Linda', 'Skye', 'Penny', 'Shawwn', 'Louie',\n",
       "       'Kloey', 'Chester', 'Andru', 'Julio', 'Zoey', 'Raphael', 'Ben',\n",
       "       'Tommy', 'Liam', 'Randall', 'Winston', 'Fabio', 'Wally', 'Sandra',\n",
       "       'Butters', 'Daisy', 'Larry', 'Nigel', 'Peanut', 'Scooter', 'Damon',\n",
       "       'Herb', 'Willy', 'Sam', 'Hank', 'Koda', 'Paull', 'Edd', 'Phineas',\n",
       "       'Bloo', 'Pluto', 'Ester', 'Danny', 'Jeffrie', 'Jerry', 'Gin',\n",
       "       'Vincent', 'Traviss', 'Creg', 'Antony', 'Trigger', 'Mason', 'Andy',\n",
       "       'Maggie', 'Sage', 'Remington', 'Amy', 'Jett', 'Colby', 'Toby',\n",
       "       'Phred', 'Holly', 'Anthony', 'Herm', 'Sparky', 'Lola', 'Lou',\n",
       "       'Tanner', 'Penelope', 'Malcolm', 'Julius', 'Pip', 'Charlie',\n",
       "       'Hammond', 'Scruffers', 'Alejandro', 'Jax', 'Reginald', 'Baxter',\n",
       "       'JD', 'Marley', 'Oscar', 'Mark', 'Dylan', 'Mia', 'Brad', 'Batdog',\n",
       "       'Mojo', 'Gizmo', 'Patch', 'Tuco', 'Bubba', 'Bradley', 'Opal',\n",
       "       'Cal', 'Ridley', 'Snickers', 'Rolf', 'Kreg', 'Pippin', 'Franq',\n",
       "       'Buddy', 'Jazz', 'Jackie', 'Darby', 'Taz', 'Scott', 'Caryl',\n",
       "       'Norman', 'Leonidas', 'Ed', 'Cheryl', 'Jimison', 'Terry', 'Gustaf',\n",
       "       'Chet', 'Chuckles', 'Schnozz', 'Pumpkin', 'Kenzie', 'Fletcher',\n",
       "       'Dexter', 'Mac', 'Eve', 'Frankie', 'Django', 'Gerald', 'Bella',\n",
       "       'Steve', 'Sandy', 'Jeffri', 'Albert', 'Kendall', 'Shnuggles',\n",
       "       'Pickles', 'Dot', 'Raymond', 'Riley', 'Obie', 'Aiden', 'Acro',\n",
       "       'Kaiya', 'Lucy', 'Stanley', 'Earl', 'Mitch', 'Bobbay', 'Gus',\n",
       "       'Henry', 'Bob', 'Kenny', 'Lennon', 'Chesney', 'Gary', 'Lenny',\n",
       "       'Jonah', 'Ava', 'Bailey', 'Louis', 'Rodman', 'Jeb', 'Patrick',\n",
       "       'Rufio', 'Superpup', 'Tedders', 'Laela', 'Mollie', 'Moe', 'Oliver',\n",
       "       'Zuzu', 'Steven', 'Coops', 'Arnold', 'Reggie', 'Sammy', 'Ellie',\n",
       "       'Buddah', 'Pepper', 'Donny', 'Striker', 'Bert', 'Duke', 'Griffin',\n",
       "       'Vinnie', 'Bubbles', 'Godzilla', 'Ash', 'Karl', 'Tyrus', 'Cooper',\n",
       "       'Chuq', 'Juckson', 'Tassy', 'Derek', 'Humphrey', 'Axel', 'Sadie',\n",
       "       'Ralph', 'Jessifer', 'Rosie', 'Crumpet', 'Jerome', 'Crystal',\n",
       "       'Grizz', 'Tango', 'Dash', 'Wilson', 'Tug', 'Chompsky', 'Rubio',\n",
       "       'Hurley', 'Evy', 'Dwight', 'William', 'Mike', 'Hunter', 'Rinna',\n",
       "       'Willie', 'Bruce', 'Emmie', 'Ozzy', 'Kawhi', 'Goliath', 'CeCe',\n",
       "       'Hector', 'Percy', 'Brody', 'Moofasa', 'Cheesy', 'Griswold',\n",
       "       'Alice', 'Ozzie', 'Aspen', 'Champ', 'Panda', 'Sarge', 'Chuck',\n",
       "       'Glacier', 'Asher', 'Carly', 'Apollo', 'Toffee', 'Bo', 'Ulysses',\n",
       "       'Tess', 'Samson', 'Todo', 'Joey', 'Taco', 'Darrel', 'Lulu',\n",
       "       'Brandy', 'Jack', 'Banjo', 'Sebastian', 'Tiger', 'Lupe', 'Kulet',\n",
       "       'Tino', 'Obi', 'Pippa', 'Bobby', 'Theodore', 'Perry', 'Bruiser',\n",
       "       'Oreo', 'Gerbald', 'Hubertson', 'Petrick', 'Rocky', 'Brooks',\n",
       "       'Marty', 'Lorelei', 'Flávio', 'Birf', 'Crimson', 'Horace',\n",
       "       'Olivia', 'Mona', 'Jackson', 'Gordon', 'Tyrone', 'Kramer',\n",
       "       'Curtis', 'Marq', 'Blakely', 'Trooper', 'Kilo', 'Lizzie', 'Derby',\n",
       "       'Frönq', 'Pubert', 'Hamrick', 'Trip', 'Lucky', 'Chipson', 'Carl',\n",
       "       'Ricky', 'Luca', 'Fynn', 'Durg', 'Covach', 'Geoff', 'Maxwell',\n",
       "       'Eriq', 'Lolo', 'Hazel', 'Cedrick', 'Vinscent', 'Peaches', 'Molly',\n",
       "       'Leo', 'Richie', 'Brockly', 'Kingsley', 'Edgar', 'Herschel',\n",
       "       'Cody', 'Amber', 'Tupawc', 'Milo', 'Dunkin', 'Bodie', 'Lincoln',\n",
       "       'Phil', 'Freddery', 'Kobe', 'Grady', 'Archie', 'Brian', 'Lorenzo',\n",
       "       'Colin', 'Wyatt', 'Berb', 'Trevith', 'Reptar', 'Misty', 'Oakley',\n",
       "       'Bentley', 'Blipson', 'Ole', 'Carter', 'Cassie', 'Doug', 'Lily',\n",
       "       'Beau', 'Franklin', 'Maximus', 'Jessiga', 'Claude', 'Cuddles',\n",
       "       'Reagan', 'Charl', 'Calbert', 'Miley', 'Fillup', 'Nala', 'Thumas',\n",
       "       'Eazy', 'Dotsy', 'Murphy', 'Kaia', 'Daniel', 'Crouton', 'Millie',\n",
       "       'Yoda', 'Coopson', 'Bilbo', 'Rilo', 'Fiji', 'Sansa', 'Rambo',\n",
       "       'Socks', 'Ralphson', 'Lucia', 'Chesterson', 'Terrenth', 'Bode',\n",
       "       'Ambrose', 'Zara', 'Max', 'Adele', 'Kara', 'Shadow', 'Katie',\n",
       "       'Elliot', 'Kathmandu', 'Finnegus', 'Clarkus', 'Keurig', 'Harper',\n",
       "       'Jiminus', 'Rufus', 'Farfle', 'Jebberson', 'River', 'Bobble',\n",
       "       'Bear', 'Smokey', 'Coco', 'Mister', 'Malikai', 'Rodney', 'Walker',\n",
       "       'Billy', 'Karma', 'Vince', 'Cecil', 'Olaf', 'Watson', 'Tater',\n",
       "       'Lacy', 'Gunner', 'Beemo', 'Sora', 'Staniel', 'Roosevelt', 'Kane',\n",
       "       'Sunny', 'Stubert', 'Opie', 'Lance', 'Piper', 'Kanu', 'Travis',\n",
       "       'Benedict', 'Siba', 'Michelangelope', 'Nico', 'Bertson', 'Zeus',\n",
       "       'Stephanus', 'Bluebert', 'Jennifur', 'Link', 'Ebby', 'Barclay',\n",
       "       'Suki', 'Alexanderson', 'Bowie', 'Carper', 'Sid', 'Harnold',\n",
       "       'Clyde', 'Neptune', 'Charleson', 'Ralphé', 'Berkeley', 'Schnitzel',\n",
       "       'Jangle', 'Ivar', 'Sugar', 'Luther', 'Ashleigh', 'Fred', 'Lillie',\n",
       "       'Bloop', 'Blitz', 'Sprout', 'Karll', 'Cilantro', 'Rueben',\n",
       "       'Enchilada', 'Wallace', 'Coleman', 'Flurpson', 'Puff', 'Pupcasso',\n",
       "       'Stefan', 'Ollie', 'Charles', 'Ziva', 'Rooney', 'Solomon', 'Kyle',\n",
       "       'Aldrick', 'Ralpher', 'Hermione', 'Moose', 'Livvie', 'Buckley',\n",
       "       'Kellogg', 'Dakota', 'Maxaroni', 'Rory', 'Chadrick', 'Remy',\n",
       "       'Storkson', 'Bayley', 'Benji', 'Simba', 'Rorie', 'Nollie', 'Chase',\n",
       "       'Baloo', 'Aqua', 'Edmund', 'Bell', 'Kayla', 'Beya', 'Harold',\n",
       "       'Stark', 'Geno', 'Blanket', 'Harvey', 'Indie', 'Abby', 'Lenox',\n",
       "       'Arlen', 'Gustav', 'Shiloh', 'Clark', 'Atticus', 'Bookstore',\n",
       "       'Huxley', 'Cora', 'Tripp', 'Divine', 'Dietrich', 'Blu', 'Finn',\n",
       "       'Jameson', 'Spanky', 'Lilah', 'Stewie', 'Zoe', 'Arnie', 'Meyer',\n",
       "       'Gilbert', 'Grizzie', 'Tayzie', 'Ace', 'Dex', 'Winnie', 'Gert',\n",
       "       'Devón', 'Beckham', 'Leonard', 'Corey', 'Odie', 'Brandonald',\n",
       "       'Boston', 'Lilli', 'Spencer', 'Luna', 'Emma', 'Kirby', 'Fido',\n",
       "       'Rocco', 'Atlas', 'Theo', 'Rose', 'Wishes', 'Bonaparte', 'Sephie',\n",
       "       'Shelby', 'Glenn', 'Leela', 'Belle', 'Kota', 'Aubie', 'Gromit',\n",
       "       'Tove', 'Brat', 'Angel', 'Juno', 'Shadoe', 'Brudge', 'Rupert',\n",
       "       'Philbert', 'Tito', 'Chevy', 'Jesse', 'DonDon', 'Titan', 'Klein',\n",
       "       'Carbon', 'Al', 'Dixie', 'Fizz', 'Davey', 'Willem', 'Grey',\n",
       "       'Bungalo', 'Chelsea', 'Shakespeare', 'Loki', 'Heinrich',\n",
       "       'Sprinkles', 'Finley', 'Anakin', 'Blue', 'Sampson', 'O', 'Huck',\n",
       "       'Jeffrey', 'Wesley', 'Strider', 'Mya', 'Jay', 'Hercules', 'Timmy',\n",
       "       'Deacon', 'Cali', 'Godi', 'Loomis', 'Mairi', 'Stormy', 'Hero',\n",
       "       'Doc', 'Dallas', 'Pinot', 'Mattie', 'Rizzo', 'Dale', 'Logan',\n",
       "       'Tonks', 'Butter', 'Stella', 'Rizzy', 'Brownie', 'Eli', 'Happy',\n",
       "       'Mosby', 'Betty', 'Mabel', 'Levi', 'Remus', 'BeBe', 'Monster',\n",
       "       'Robin', 'Nida', 'Newt', 'Maude', 'Moreton', 'Fiona', 'Dobby',\n",
       "       'Laika', 'Nimbus', 'Mack', 'Yogi', 'Snicku', 'Romeo', 'Tyr',\n",
       "       'Pancake', 'Iroh', 'Longfellow', 'Sobe', 'Chef', 'Mauve', 'Bones',\n",
       "       'Ronnie', 'Severus', 'Sonny', 'Diogi', 'Shooter', 'Zeke', 'Major',\n",
       "       'Waffles', 'Stephan', 'Ito', 'Kyro', 'Pavlov', 'Craig', 'Augie',\n",
       "       'Halo', 'Ted', 'Mary', 'Brandi', 'Swagger', 'Bauer', 'Baron',\n",
       "       'Layla', 'Eleanor', 'Sky', 'Chubbs', 'Oshie', 'Alf', 'Akumi',\n",
       "       'Comet', 'Dudley', 'Binky', 'Timber', 'Chloe', 'Tebow', 'Strudel',\n",
       "       'Ken', 'Eugene', 'Dido', 'Autumn', 'Florence', 'Tom', 'Wafer',\n",
       "       'Anna', 'Jazzy', 'Howie', 'Flash', 'Sundance', 'Harlso', 'Duchess',\n",
       "       'Paisley', 'Hobbes', 'Albus', 'Crawford', 'Cash', 'Pablo', 'Sweet',\n",
       "       'Mo', 'Ike', 'Pilot', 'Pawnd', 'Cupid', 'Ralphie', 'Boots', 'Kona',\n",
       "       'Brutus', 'Sailer', 'Alexander', 'Beebop', 'Doobert', 'Mutt',\n",
       "       'Astrid', 'Lilly', 'Pete', 'Dutch', 'Kuyu', 'Emanuel', 'Miguel',\n",
       "       'Smiley', 'Eevee', 'Orion', 'Willow', 'Rhino', 'Gidget', 'Poppy',\n",
       "       'Bronte', 'Lipton', 'Sunshine', 'Tobi', 'Meera', 'Mookie', 'Arlo',\n",
       "       'Sojourner', 'Monty', 'Maddie', 'Dawn', 'Tycho', 'Margo', 'Brady',\n",
       "       'Mimosa', 'Jarvis', 'Vixen', 'Barney', 'Tuck', 'Furzey', 'Cannon',\n",
       "       'Rontu', 'Georgie', 'Odin', 'Kevin', 'Noosh', 'Boomer', 'Snoop',\n",
       "       'Iggy', 'Sailor', 'General', 'Wiggles', 'Jarod', 'Benny',\n",
       "       'Rumpole', 'Einstein', 'Arya', 'Marlee', 'Cermet', 'Callie',\n",
       "       'Thor', 'Milky', 'Jordy', 'Burt', 'Jersey', 'Zooey', 'Quinn',\n",
       "       'Meatball', 'Nelly', 'Jamesy', 'Lili', 'Shikha', 'Dewey',\n",
       "       'Clifford', 'Rumble', 'Napolean', 'Rover', 'Lassie', 'Kody',\n",
       "       'Harry', 'Monkey', 'Sierra', 'Jed', 'Nugget', 'Goose', 'Venti',\n",
       "       'Ginger', 'Dante', 'Aja', 'Emmy', 'Snoopy', 'Duddles', 'Rey',\n",
       "       'Koko', 'Alfy', 'Grizzwald', 'Noah', 'Maisey', 'Jimbo', 'Roscoe',\n",
       "       'Mingus', 'Maya', 'Canela', 'Ralphus', 'Jim', 'Stuart', 'Bruno',\n",
       "       'Darla', 'Tilly'], dtype=object)"
      ]
     },
     "execution_count": 197,
     "metadata": {},
     "output_type": "execute_result"
    }
   ],
   "source": [
    "df1_cleaned.name.unique()"
   ]
  },
  {
   "cell_type": "code",
   "execution_count": 198,
   "metadata": {},
   "outputs": [
    {
     "data": {
      "text/plain": [
       "622"
      ]
     },
     "execution_count": 198,
     "metadata": {},
     "output_type": "execute_result"
    }
   ],
   "source": [
    "df1_cleaned.name.isnull().sum()"
   ]
  },
  {
   "cell_type": "code",
   "execution_count": 199,
   "metadata": {},
   "outputs": [
    {
     "data": {
      "text/html": [
       "<div>\n",
       "<style scoped>\n",
       "    .dataframe tbody tr th:only-of-type {\n",
       "        vertical-align: middle;\n",
       "    }\n",
       "\n",
       "    .dataframe tbody tr th {\n",
       "        vertical-align: top;\n",
       "    }\n",
       "\n",
       "    .dataframe thead th {\n",
       "        text-align: right;\n",
       "    }\n",
       "</style>\n",
       "<table border=\"1\" class=\"dataframe\">\n",
       "  <thead>\n",
       "    <tr style=\"text-align: right;\">\n",
       "      <th></th>\n",
       "      <th>tweet_id</th>\n",
       "      <th>timestamp</th>\n",
       "      <th>text</th>\n",
       "      <th>rating_numerator</th>\n",
       "      <th>rating_denominator</th>\n",
       "      <th>name</th>\n",
       "      <th>doggo</th>\n",
       "      <th>floofer</th>\n",
       "      <th>pupper</th>\n",
       "      <th>puppo</th>\n",
       "    </tr>\n",
       "  </thead>\n",
       "  <tbody>\n",
       "    <tr>\n",
       "      <th>2355</th>\n",
       "      <td>666020888022790149</td>\n",
       "      <td>2015-11-15 22:32:08 +0000</td>\n",
       "      <td>Here we have a Japanese Irish Setter. Lost eye...</td>\n",
       "      <td>8</td>\n",
       "      <td>10</td>\n",
       "      <td>NaN</td>\n",
       "      <td>NaN</td>\n",
       "      <td>NaN</td>\n",
       "      <td>NaN</td>\n",
       "      <td>NaN</td>\n",
       "    </tr>\n",
       "    <tr>\n",
       "      <th>2354</th>\n",
       "      <td>666029285002620928</td>\n",
       "      <td>2015-11-15 23:05:30 +0000</td>\n",
       "      <td>This is a western brown Mitsubishi terrier. Up...</td>\n",
       "      <td>7</td>\n",
       "      <td>10</td>\n",
       "      <td>NaN</td>\n",
       "      <td>NaN</td>\n",
       "      <td>NaN</td>\n",
       "      <td>NaN</td>\n",
       "      <td>NaN</td>\n",
       "    </tr>\n",
       "    <tr>\n",
       "      <th>2353</th>\n",
       "      <td>666033412701032449</td>\n",
       "      <td>2015-11-15 23:21:54 +0000</td>\n",
       "      <td>Here is a very happy pup. Big fan of well-main...</td>\n",
       "      <td>9</td>\n",
       "      <td>10</td>\n",
       "      <td>NaN</td>\n",
       "      <td>NaN</td>\n",
       "      <td>NaN</td>\n",
       "      <td>NaN</td>\n",
       "      <td>NaN</td>\n",
       "    </tr>\n",
       "    <tr>\n",
       "      <th>2352</th>\n",
       "      <td>666044226329800704</td>\n",
       "      <td>2015-11-16 00:04:52 +0000</td>\n",
       "      <td>This is a purebred Piers Morgan. Loves to Netf...</td>\n",
       "      <td>6</td>\n",
       "      <td>10</td>\n",
       "      <td>NaN</td>\n",
       "      <td>NaN</td>\n",
       "      <td>NaN</td>\n",
       "      <td>NaN</td>\n",
       "      <td>NaN</td>\n",
       "    </tr>\n",
       "    <tr>\n",
       "      <th>2351</th>\n",
       "      <td>666049248165822465</td>\n",
       "      <td>2015-11-16 00:24:50 +0000</td>\n",
       "      <td>Here we have a 1949 1st generation vulpix. Enj...</td>\n",
       "      <td>5</td>\n",
       "      <td>10</td>\n",
       "      <td>NaN</td>\n",
       "      <td>NaN</td>\n",
       "      <td>NaN</td>\n",
       "      <td>NaN</td>\n",
       "      <td>NaN</td>\n",
       "    </tr>\n",
       "  </tbody>\n",
       "</table>\n",
       "</div>"
      ],
      "text/plain": [
       "                tweet_id                  timestamp  \\\n",
       "2355  666020888022790149  2015-11-15 22:32:08 +0000   \n",
       "2354  666029285002620928  2015-11-15 23:05:30 +0000   \n",
       "2353  666033412701032449  2015-11-15 23:21:54 +0000   \n",
       "2352  666044226329800704  2015-11-16 00:04:52 +0000   \n",
       "2351  666049248165822465  2015-11-16 00:24:50 +0000   \n",
       "\n",
       "                                                   text  rating_numerator  \\\n",
       "2355  Here we have a Japanese Irish Setter. Lost eye...                 8   \n",
       "2354  This is a western brown Mitsubishi terrier. Up...                 7   \n",
       "2353  Here is a very happy pup. Big fan of well-main...                 9   \n",
       "2352  This is a purebred Piers Morgan. Loves to Netf...                 6   \n",
       "2351  Here we have a 1949 1st generation vulpix. Enj...                 5   \n",
       "\n",
       "      rating_denominator name doggo floofer pupper puppo  \n",
       "2355                  10  NaN   NaN     NaN    NaN   NaN  \n",
       "2354                  10  NaN   NaN     NaN    NaN   NaN  \n",
       "2353                  10  NaN   NaN     NaN    NaN   NaN  \n",
       "2352                  10  NaN   NaN     NaN    NaN   NaN  \n",
       "2351                  10  NaN   NaN     NaN    NaN   NaN  "
      ]
     },
     "execution_count": 199,
     "metadata": {},
     "output_type": "execute_result"
    }
   ],
   "source": [
    "df1_cleaned.head()"
   ]
  },
  {
   "cell_type": "code",
   "execution_count": 200,
   "metadata": {},
   "outputs": [
    {
     "data": {
      "text/plain": [
       "array([nan, 'floofer'], dtype=object)"
      ]
     },
     "execution_count": 200,
     "metadata": {},
     "output_type": "execute_result"
    }
   ],
   "source": [
    "df1_cleaned[\"floofer\"].unique()"
   ]
  },
  {
   "cell_type": "code",
   "execution_count": 201,
   "metadata": {},
   "outputs": [
    {
     "data": {
      "text/plain": [
       "doggo    73\n",
       "Name: doggo, dtype: int64"
      ]
     },
     "execution_count": 201,
     "metadata": {},
     "output_type": "execute_result"
    }
   ],
   "source": [
    "df1_cleaned[\"doggo\"].value_counts()"
   ]
  },
  {
   "cell_type": "code",
   "execution_count": 202,
   "metadata": {},
   "outputs": [],
   "source": [
    "#clean dog stages\n",
    "df1_cleaned[\"dog_breed\"]=df1_cleaned.loc[:,[\"doggo\",\"floofer\",\"pupper\",\"puppo\"]].fillna('').agg(''.join, axis=1)"
   ]
  },
  {
   "cell_type": "code",
   "execution_count": 203,
   "metadata": {},
   "outputs": [
    {
     "data": {
      "text/plain": [
       "array(['', 'pupper', 'floofer', 'doggo', 'doggopupper', 'puppo',\n",
       "       'doggofloofer', 'doggopuppo'], dtype=object)"
      ]
     },
     "execution_count": 203,
     "metadata": {},
     "output_type": "execute_result"
    }
   ],
   "source": [
    "df1_cleaned[\"dog_breed\"].unique()"
   ]
  },
  {
   "cell_type": "code",
   "execution_count": 204,
   "metadata": {},
   "outputs": [
    {
     "data": {
      "text/plain": [
       "doggo    73\n",
       "Name: doggo, dtype: int64"
      ]
     },
     "execution_count": 204,
     "metadata": {},
     "output_type": "execute_result"
    }
   ],
   "source": [
    "df1_cleaned[\"doggo\"].value_counts()"
   ]
  },
  {
   "cell_type": "code",
   "execution_count": 205,
   "metadata": {},
   "outputs": [],
   "source": [
    "df1_cleaned[\"dog_breed\"]=df1_cleaned[\"dog_breed\"].replace('',np.nan)"
   ]
  },
  {
   "cell_type": "code",
   "execution_count": 206,
   "metadata": {},
   "outputs": [
    {
     "data": {
      "text/plain": [
       "array([nan, 'pupper', 'floofer', 'doggo', 'doggopupper', 'puppo',\n",
       "       'doggofloofer', 'doggopuppo'], dtype=object)"
      ]
     },
     "execution_count": 206,
     "metadata": {},
     "output_type": "execute_result"
    }
   ],
   "source": [
    "df1_cleaned[\"dog_breed\"].unique()"
   ]
  },
  {
   "cell_type": "code",
   "execution_count": 207,
   "metadata": {},
   "outputs": [],
   "source": [
    "breed=[]\n",
    "for i in df1_cleaned[\"dog_breed\"]:\n",
    "    if type(i)==str and len(i) > 8 :\n",
    "        breed.append(i[0:5]+\"_\"+i[5: ])\n",
    "    else :\n",
    "        breed.append(i)\n",
    "           \n",
    "df1_cleaned[\"dog_breed\"]=breed\n"
   ]
  },
  {
   "cell_type": "code",
   "execution_count": 208,
   "metadata": {},
   "outputs": [
    {
     "data": {
      "text/plain": [
       "array([nan, 'pupper', 'floofer', 'doggo', 'doggo_pupper', 'puppo',\n",
       "       'doggo_floofer', 'doggo_puppo'], dtype=object)"
      ]
     },
     "execution_count": 208,
     "metadata": {},
     "output_type": "execute_result"
    }
   ],
   "source": [
    "df1_cleaned[\"dog_breed\"].unique()"
   ]
  },
  {
   "cell_type": "code",
   "execution_count": 209,
   "metadata": {},
   "outputs": [],
   "source": [
    "df1_cleaned.drop([\"doggo\",\"floofer\",\"pupper\",\"puppo\"],axis=1,inplace=True)\n"
   ]
  },
  {
   "cell_type": "code",
   "execution_count": 210,
   "metadata": {},
   "outputs": [
    {
     "data": {
      "text/html": [
       "<div>\n",
       "<style scoped>\n",
       "    .dataframe tbody tr th:only-of-type {\n",
       "        vertical-align: middle;\n",
       "    }\n",
       "\n",
       "    .dataframe tbody tr th {\n",
       "        vertical-align: top;\n",
       "    }\n",
       "\n",
       "    .dataframe thead th {\n",
       "        text-align: right;\n",
       "    }\n",
       "</style>\n",
       "<table border=\"1\" class=\"dataframe\">\n",
       "  <thead>\n",
       "    <tr style=\"text-align: right;\">\n",
       "      <th></th>\n",
       "      <th>tweet_id</th>\n",
       "      <th>timestamp</th>\n",
       "      <th>text</th>\n",
       "      <th>rating_numerator</th>\n",
       "      <th>rating_denominator</th>\n",
       "      <th>name</th>\n",
       "      <th>dog_breed</th>\n",
       "    </tr>\n",
       "  </thead>\n",
       "  <tbody>\n",
       "    <tr>\n",
       "      <th>2355</th>\n",
       "      <td>666020888022790149</td>\n",
       "      <td>2015-11-15 22:32:08 +0000</td>\n",
       "      <td>Here we have a Japanese Irish Setter. Lost eye...</td>\n",
       "      <td>8</td>\n",
       "      <td>10</td>\n",
       "      <td>NaN</td>\n",
       "      <td>NaN</td>\n",
       "    </tr>\n",
       "    <tr>\n",
       "      <th>2354</th>\n",
       "      <td>666029285002620928</td>\n",
       "      <td>2015-11-15 23:05:30 +0000</td>\n",
       "      <td>This is a western brown Mitsubishi terrier. Up...</td>\n",
       "      <td>7</td>\n",
       "      <td>10</td>\n",
       "      <td>NaN</td>\n",
       "      <td>NaN</td>\n",
       "    </tr>\n",
       "    <tr>\n",
       "      <th>2353</th>\n",
       "      <td>666033412701032449</td>\n",
       "      <td>2015-11-15 23:21:54 +0000</td>\n",
       "      <td>Here is a very happy pup. Big fan of well-main...</td>\n",
       "      <td>9</td>\n",
       "      <td>10</td>\n",
       "      <td>NaN</td>\n",
       "      <td>NaN</td>\n",
       "    </tr>\n",
       "    <tr>\n",
       "      <th>2352</th>\n",
       "      <td>666044226329800704</td>\n",
       "      <td>2015-11-16 00:04:52 +0000</td>\n",
       "      <td>This is a purebred Piers Morgan. Loves to Netf...</td>\n",
       "      <td>6</td>\n",
       "      <td>10</td>\n",
       "      <td>NaN</td>\n",
       "      <td>NaN</td>\n",
       "    </tr>\n",
       "    <tr>\n",
       "      <th>2351</th>\n",
       "      <td>666049248165822465</td>\n",
       "      <td>2015-11-16 00:24:50 +0000</td>\n",
       "      <td>Here we have a 1949 1st generation vulpix. Enj...</td>\n",
       "      <td>5</td>\n",
       "      <td>10</td>\n",
       "      <td>NaN</td>\n",
       "      <td>NaN</td>\n",
       "    </tr>\n",
       "    <tr>\n",
       "      <th>...</th>\n",
       "      <td>...</td>\n",
       "      <td>...</td>\n",
       "      <td>...</td>\n",
       "      <td>...</td>\n",
       "      <td>...</td>\n",
       "      <td>...</td>\n",
       "      <td>...</td>\n",
       "    </tr>\n",
       "    <tr>\n",
       "      <th>4</th>\n",
       "      <td>891327558926688256</td>\n",
       "      <td>2017-07-29 16:00:24 +0000</td>\n",
       "      <td>This is Franklin. He would like you to stop ca...</td>\n",
       "      <td>12</td>\n",
       "      <td>10</td>\n",
       "      <td>Franklin</td>\n",
       "      <td>NaN</td>\n",
       "    </tr>\n",
       "    <tr>\n",
       "      <th>3</th>\n",
       "      <td>891689557279858688</td>\n",
       "      <td>2017-07-30 15:58:51 +0000</td>\n",
       "      <td>This is Darla. She commenced a snooze mid meal...</td>\n",
       "      <td>13</td>\n",
       "      <td>10</td>\n",
       "      <td>Darla</td>\n",
       "      <td>NaN</td>\n",
       "    </tr>\n",
       "    <tr>\n",
       "      <th>2</th>\n",
       "      <td>891815181378084864</td>\n",
       "      <td>2017-07-31 00:18:03 +0000</td>\n",
       "      <td>This is Archie. He is a rare Norwegian Pouncin...</td>\n",
       "      <td>12</td>\n",
       "      <td>10</td>\n",
       "      <td>Archie</td>\n",
       "      <td>NaN</td>\n",
       "    </tr>\n",
       "    <tr>\n",
       "      <th>1</th>\n",
       "      <td>892177421306343426</td>\n",
       "      <td>2017-08-01 00:17:27 +0000</td>\n",
       "      <td>This is Tilly. She's just checking pup on you....</td>\n",
       "      <td>13</td>\n",
       "      <td>10</td>\n",
       "      <td>Tilly</td>\n",
       "      <td>NaN</td>\n",
       "    </tr>\n",
       "    <tr>\n",
       "      <th>0</th>\n",
       "      <td>892420643555336193</td>\n",
       "      <td>2017-08-01 16:23:56 +0000</td>\n",
       "      <td>This is Phineas. He's a mystical boy. Only eve...</td>\n",
       "      <td>13</td>\n",
       "      <td>10</td>\n",
       "      <td>Phineas</td>\n",
       "      <td>NaN</td>\n",
       "    </tr>\n",
       "  </tbody>\n",
       "</table>\n",
       "<p>1971 rows × 7 columns</p>\n",
       "</div>"
      ],
      "text/plain": [
       "                tweet_id                  timestamp  \\\n",
       "2355  666020888022790149  2015-11-15 22:32:08 +0000   \n",
       "2354  666029285002620928  2015-11-15 23:05:30 +0000   \n",
       "2353  666033412701032449  2015-11-15 23:21:54 +0000   \n",
       "2352  666044226329800704  2015-11-16 00:04:52 +0000   \n",
       "2351  666049248165822465  2015-11-16 00:24:50 +0000   \n",
       "...                  ...                        ...   \n",
       "4     891327558926688256  2017-07-29 16:00:24 +0000   \n",
       "3     891689557279858688  2017-07-30 15:58:51 +0000   \n",
       "2     891815181378084864  2017-07-31 00:18:03 +0000   \n",
       "1     892177421306343426  2017-08-01 00:17:27 +0000   \n",
       "0     892420643555336193  2017-08-01 16:23:56 +0000   \n",
       "\n",
       "                                                   text  rating_numerator  \\\n",
       "2355  Here we have a Japanese Irish Setter. Lost eye...                 8   \n",
       "2354  This is a western brown Mitsubishi terrier. Up...                 7   \n",
       "2353  Here is a very happy pup. Big fan of well-main...                 9   \n",
       "2352  This is a purebred Piers Morgan. Loves to Netf...                 6   \n",
       "2351  Here we have a 1949 1st generation vulpix. Enj...                 5   \n",
       "...                                                 ...               ...   \n",
       "4     This is Franklin. He would like you to stop ca...                12   \n",
       "3     This is Darla. She commenced a snooze mid meal...                13   \n",
       "2     This is Archie. He is a rare Norwegian Pouncin...                12   \n",
       "1     This is Tilly. She's just checking pup on you....                13   \n",
       "0     This is Phineas. He's a mystical boy. Only eve...                13   \n",
       "\n",
       "      rating_denominator      name dog_breed  \n",
       "2355                  10       NaN       NaN  \n",
       "2354                  10       NaN       NaN  \n",
       "2353                  10       NaN       NaN  \n",
       "2352                  10       NaN       NaN  \n",
       "2351                  10       NaN       NaN  \n",
       "...                  ...       ...       ...  \n",
       "4                     10  Franklin       NaN  \n",
       "3                     10     Darla       NaN  \n",
       "2                     10    Archie       NaN  \n",
       "1                     10     Tilly       NaN  \n",
       "0                     10   Phineas       NaN  \n",
       "\n",
       "[1971 rows x 7 columns]"
      ]
     },
     "execution_count": 210,
     "metadata": {},
     "output_type": "execute_result"
    }
   ],
   "source": [
    "df1_cleaned"
   ]
  },
  {
   "cell_type": "code",
   "execution_count": 211,
   "metadata": {},
   "outputs": [
    {
     "data": {
      "text/html": [
       "<div>\n",
       "<style scoped>\n",
       "    .dataframe tbody tr th:only-of-type {\n",
       "        vertical-align: middle;\n",
       "    }\n",
       "\n",
       "    .dataframe tbody tr th {\n",
       "        vertical-align: top;\n",
       "    }\n",
       "\n",
       "    .dataframe thead th {\n",
       "        text-align: right;\n",
       "    }\n",
       "</style>\n",
       "<table border=\"1\" class=\"dataframe\">\n",
       "  <thead>\n",
       "    <tr style=\"text-align: right;\">\n",
       "      <th></th>\n",
       "      <th>rating_denominator</th>\n",
       "      <th>rating_numerator</th>\n",
       "      <th>name</th>\n",
       "    </tr>\n",
       "  </thead>\n",
       "  <tbody>\n",
       "    <tr>\n",
       "      <th>1779</th>\n",
       "      <td>120</td>\n",
       "      <td>144</td>\n",
       "      <td>NaN</td>\n",
       "    </tr>\n",
       "  </tbody>\n",
       "</table>\n",
       "</div>"
      ],
      "text/plain": [
       "      rating_denominator  rating_numerator name\n",
       "1779                 120               144  NaN"
      ]
     },
     "execution_count": 211,
     "metadata": {},
     "output_type": "execute_result"
    }
   ],
   "source": [
    "df1_cleaned.loc[(df1_cleaned.tweet_id ==  677716515794329600), ['rating_denominator','rating_numerator','name']]"
   ]
  },
  {
   "cell_type": "code",
   "execution_count": 212,
   "metadata": {},
   "outputs": [
    {
     "name": "stdout",
     "output_type": "stream",
     "text": [
      "<class 'pandas.core.frame.DataFrame'>\n",
      "Int64Index: 1971 entries, 2355 to 0\n",
      "Data columns (total 7 columns):\n",
      " #   Column              Non-Null Count  Dtype \n",
      "---  ------              --------------  ----- \n",
      " 0   tweet_id            1971 non-null   int64 \n",
      " 1   timestamp           1971 non-null   object\n",
      " 2   text                1971 non-null   object\n",
      " 3   rating_numerator    1971 non-null   int64 \n",
      " 4   rating_denominator  1971 non-null   int64 \n",
      " 5   name                1349 non-null   object\n",
      " 6   dog_breed           303 non-null    object\n",
      "dtypes: int64(3), object(4)\n",
      "memory usage: 123.2+ KB\n"
     ]
    }
   ],
   "source": [
    "df1_cleaned.info()"
   ]
  },
  {
   "cell_type": "code",
   "execution_count": 213,
   "metadata": {},
   "outputs": [],
   "source": [
    "#clean dataType\n",
    "df1_cleaned[\"timestamp\"]=pd.to_datetime(df1[\"timestamp\"])\n"
   ]
  },
  {
   "cell_type": "markdown",
   "metadata": {},
   "source": [
    "c_name"
   ]
  },
  {
   "cell_type": "code",
   "execution_count": 214,
   "metadata": {},
   "outputs": [
    {
     "name": "stdout",
     "output_type": "stream",
     "text": [
      "This is an Albanian 3 1/2 legged  Episcopalian. Loves well-polished hardwood flooring. Penis on the collar. 9/10 https://t.co/d9NcXFKwLv +++ 2 +++ 1\n",
      "Meet Sam. She smiles 24/7 &amp; secretly aspires to be a reindeer. \n",
      "Keep Sam smiling by clicking and sharing this link:\n",
      "https://t.co/98tB8y7y7t https://t.co/LouL5vdvxx +++ 7 +++ 24\n"
     ]
    },
    {
     "data": {
      "text/plain": [
       "2"
      ]
     },
     "execution_count": 214,
     "metadata": {},
     "output_type": "execute_result"
    }
   ],
   "source": [
    "#clean rating_denominator column\n",
    "lis=[]\n",
    "for index,row in df1_cleaned.iterrows(): \n",
    "    if row[\"rating_denominator\"]<10:\n",
    "        lis.append(row[\"tweet_id\"])\n",
    "        print(row[\"text\"],\"+++\",row[\"rating_denominator\"],\"+++\",row[\"rating_numerator\"])\n",
    "len(lis)\n",
    "#both denominator values r recorded wrong-> solve,manually"
   ]
  },
  {
   "cell_type": "code",
   "execution_count": 215,
   "metadata": {},
   "outputs": [],
   "source": [
    "df1_cleaned.loc[(df1_cleaned.tweet_id == lis[0]), 'rating_denominator']=10\n",
    "df1_cleaned.loc[(df1_cleaned.tweet_id == lis[0]), 'rating_numerator']=9\n",
    "df1_cleaned.loc[(df1_cleaned.tweet_id == lis[1]), 'rating_denominator']=np.nan\n",
    "df1_cleaned.loc[(df1_cleaned.tweet_id == lis[1]), 'rating_numerator']=np.nan"
   ]
  },
  {
   "cell_type": "code",
   "execution_count": 216,
   "metadata": {},
   "outputs": [
    {
     "data": {
      "text/html": [
       "<div>\n",
       "<style scoped>\n",
       "    .dataframe tbody tr th:only-of-type {\n",
       "        vertical-align: middle;\n",
       "    }\n",
       "\n",
       "    .dataframe tbody tr th {\n",
       "        vertical-align: top;\n",
       "    }\n",
       "\n",
       "    .dataframe thead th {\n",
       "        text-align: right;\n",
       "    }\n",
       "</style>\n",
       "<table border=\"1\" class=\"dataframe\">\n",
       "  <thead>\n",
       "    <tr style=\"text-align: right;\">\n",
       "      <th></th>\n",
       "      <th>tweet_id</th>\n",
       "      <th>timestamp</th>\n",
       "      <th>text</th>\n",
       "      <th>rating_numerator</th>\n",
       "      <th>rating_denominator</th>\n",
       "      <th>name</th>\n",
       "      <th>dog_breed</th>\n",
       "    </tr>\n",
       "  </thead>\n",
       "  <tbody>\n",
       "    <tr>\n",
       "      <th>2335</th>\n",
       "      <td>666287406224695296</td>\n",
       "      <td>2015-11-16 16:11:11+00:00</td>\n",
       "      <td>This is an Albanian 3 1/2 legged  Episcopalian...</td>\n",
       "      <td>$9.00</td>\n",
       "      <td>$10.00</td>\n",
       "      <td>NaN</td>\n",
       "      <td>NaN</td>\n",
       "    </tr>\n",
       "  </tbody>\n",
       "</table>\n",
       "</div>"
      ],
      "text/plain": [
       "                tweet_id                 timestamp  \\\n",
       "2335  666287406224695296 2015-11-16 16:11:11+00:00   \n",
       "\n",
       "                                                   text  rating_numerator  \\\n",
       "2335  This is an Albanian 3 1/2 legged  Episcopalian...             $9.00   \n",
       "\n",
       "      rating_denominator name dog_breed  \n",
       "2335              $10.00  NaN       NaN  "
      ]
     },
     "execution_count": 216,
     "metadata": {},
     "output_type": "execute_result"
    }
   ],
   "source": [
    "df1_cleaned.loc[(df1_cleaned.tweet_id == lis[0]),:]\n",
    "\n"
   ]
  },
  {
   "cell_type": "code",
   "execution_count": 217,
   "metadata": {},
   "outputs": [
    {
     "data": {
      "text/html": [
       "<div>\n",
       "<style scoped>\n",
       "    .dataframe tbody tr th:only-of-type {\n",
       "        vertical-align: middle;\n",
       "    }\n",
       "\n",
       "    .dataframe tbody tr th {\n",
       "        vertical-align: top;\n",
       "    }\n",
       "\n",
       "    .dataframe thead th {\n",
       "        text-align: right;\n",
       "    }\n",
       "</style>\n",
       "<table border=\"1\" class=\"dataframe\">\n",
       "  <thead>\n",
       "    <tr style=\"text-align: right;\">\n",
       "      <th></th>\n",
       "      <th>tweet_id</th>\n",
       "      <th>timestamp</th>\n",
       "      <th>text</th>\n",
       "      <th>rating_numerator</th>\n",
       "      <th>rating_denominator</th>\n",
       "      <th>name</th>\n",
       "      <th>dog_breed</th>\n",
       "    </tr>\n",
       "  </thead>\n",
       "  <tbody>\n",
       "    <tr>\n",
       "      <th>516</th>\n",
       "      <td>810984652412424192</td>\n",
       "      <td>2016-12-19 23:06:23+00:00</td>\n",
       "      <td>Meet Sam. She smiles 24/7 &amp;amp; secretly aspir...</td>\n",
       "      <td>$nan</td>\n",
       "      <td>$nan</td>\n",
       "      <td>Sam</td>\n",
       "      <td>NaN</td>\n",
       "    </tr>\n",
       "  </tbody>\n",
       "</table>\n",
       "</div>"
      ],
      "text/plain": [
       "               tweet_id                 timestamp  \\\n",
       "516  810984652412424192 2016-12-19 23:06:23+00:00   \n",
       "\n",
       "                                                  text  rating_numerator  \\\n",
       "516  Meet Sam. She smiles 24/7 &amp; secretly aspir...              $nan   \n",
       "\n",
       "     rating_denominator name dog_breed  \n",
       "516                $nan  Sam       NaN  "
      ]
     },
     "execution_count": 217,
     "metadata": {},
     "output_type": "execute_result"
    }
   ],
   "source": [
    "df1_cleaned.loc[(df1_cleaned.tweet_id == lis[1]),:]"
   ]
  },
  {
   "cell_type": "code",
   "execution_count": 218,
   "metadata": {},
   "outputs": [
    {
     "name": "stdout",
     "output_type": "stream",
     "text": [
      "Here we have an entire platoon of puppers. Total score: 88/80 would pet all at once https://t.co/y93p6FLvVw +++ 80.0 +++ 88.0 \n",
      "\n",
      "\n",
      "\n",
      "IT'S PUPPERGEDDON. Total of 144/120 ...I think https://t.co/ZanVtAtvIq +++ 120.0 +++ 144.0 \n",
      "\n",
      "\n",
      "\n",
      "This is Darrel. He just robbed a 7/11 and is in a high speed police chase. Was just spotted by the helicopter 10/10 https://t.co/7EsP8LmSp5 +++ 11.0 +++ 7.0 \n",
      "\n",
      "\n",
      "\n",
      "Someone help the girl is being mugged. Several are distracting her while two steal her shoes. Clever puppers 121/110 https://t.co/1zfnTJLt55 +++ 110.0 +++ 121.0 \n",
      "\n",
      "\n",
      "\n",
      "Happy Wednesday here's a bucket of pups. 44/40 would pet all at once https://t.co/HppvrYuamZ +++ 40.0 +++ 44.0 \n",
      "\n",
      "\n",
      "\n",
      "Here is a whole flock of puppers.  60/50 I'll take the lot https://t.co/9dpcw6MdWa +++ 50.0 +++ 60.0 \n",
      "\n",
      "\n",
      "\n",
      "From left to right:\n",
      "Cletus, Jerome, Alejandro, Burp, &amp; Titson\n",
      "None know where camera is. 45/50 would hug all at once https://t.co/sedre1ivTK +++ 50.0 +++ 45.0 \n",
      "\n",
      "\n",
      "\n",
      "Here's a brigade of puppers. All look very prepared for whatever happens next. 80/80 https://t.co/0eb7R1Om12 +++ 80.0 +++ 80.0 \n",
      "\n",
      "\n",
      "\n",
      "Happy Saturday here's 9 puppers on a bench. 99/90 good work everybody https://t.co/mpvaVxKmc1 +++ 90.0 +++ 99.0 \n",
      "\n",
      "\n",
      "\n",
      "This is Bluebert. He just saw that both #FinalFur match ups are split 50/50. Amazed af. 11/10 https://t.co/Kky1DPG4iq +++ 50.0 +++ 50.0 \n",
      "\n",
      "\n",
      "\n",
      "Happy 4/20 from the squad! 13/10 for all https://t.co/eV1diwds8a +++ 20.0 +++ 4.0 \n",
      "\n",
      "\n",
      "\n",
      "Say hello to this unbelievably well behaved squad of doggos. 204/170 would try to pet all at once https://t.co/yGQI3He3xv +++ 170.0 +++ 204.0 \n",
      "\n",
      "\n",
      "\n",
      "After so many requests, this is Bretagne. She was the last surviving 9/11 search dog, and our second ever 14/10. RIP https://t.co/XAVDNDaVgQ +++ 11.0 +++ 9.0 \n",
      "\n",
      "\n",
      "\n",
      "Why does this never happen at my front door... 165/150 https://t.co/HmwrdfEfUE +++ 150.0 +++ 165.0 \n",
      "\n",
      "\n",
      "\n",
      "The floofs have been released I repeat the floofs have been released. 84/70 https://t.co/NIYC820tmd +++ 70.0 +++ 84.0 \n",
      "\n",
      "\n",
      "\n"
     ]
    },
    {
     "data": {
      "text/plain": [
       "15"
      ]
     },
     "execution_count": 218,
     "metadata": {},
     "output_type": "execute_result"
    }
   ],
   "source": [
    "ls=[]\n",
    "for index,row in df1_cleaned.iterrows(): \n",
    "    if row[\"rating_denominator\"]>10:\n",
    "        ls.append(row[\"tweet_id\"])\n",
    "        print(row[\"text\"],\"+++\",row[\"rating_denominator\"],\"+++\",row[\"rating_numerator\"],\"\\n\\n\\n\")\n",
    "len(ls)\n"
   ]
  },
  {
   "cell_type": "code",
   "execution_count": 219,
   "metadata": {},
   "outputs": [],
   "source": [
    "df1_cleaned.loc[(df1_cleaned.tweet_id == ls[9]), 'rating_denominator']=10\n",
    "df1_cleaned.loc[(df1_cleaned.tweet_id == ls[9]), 'rating_numerator']=11\n",
    "df1_cleaned.loc[(df1_cleaned.tweet_id == ls[10]), 'rating_denominator']=10\n",
    "df1_cleaned.loc[(df1_cleaned.tweet_id == ls[10]), 'rating_numerator']=13\n",
    "df1_cleaned.loc[(df1_cleaned.tweet_id == ls[12]), 'rating_denominator']=10\n",
    "df1_cleaned.loc[(df1_cleaned.tweet_id == ls[12]), 'rating_numerator']=14\n",
    "#the rest ratings in ls are for many dogs so ok "
   ]
  },
  {
   "cell_type": "code",
   "execution_count": 220,
   "metadata": {},
   "outputs": [
    {
     "data": {
      "text/html": [
       "<div>\n",
       "<style scoped>\n",
       "    .dataframe tbody tr th:only-of-type {\n",
       "        vertical-align: middle;\n",
       "    }\n",
       "\n",
       "    .dataframe tbody tr th {\n",
       "        vertical-align: top;\n",
       "    }\n",
       "\n",
       "    .dataframe thead th {\n",
       "        text-align: right;\n",
       "    }\n",
       "</style>\n",
       "<table border=\"1\" class=\"dataframe\">\n",
       "  <thead>\n",
       "    <tr style=\"text-align: right;\">\n",
       "      <th></th>\n",
       "      <th>tweet_id</th>\n",
       "      <th>timestamp</th>\n",
       "      <th>text</th>\n",
       "      <th>rating_numerator</th>\n",
       "      <th>rating_denominator</th>\n",
       "      <th>name</th>\n",
       "      <th>dog_breed</th>\n",
       "    </tr>\n",
       "  </thead>\n",
       "  <tbody>\n",
       "    <tr>\n",
       "      <th>1202</th>\n",
       "      <td>716439118184652801</td>\n",
       "      <td>2016-04-03 01:36:11+00:00</td>\n",
       "      <td>This is Bluebert. He just saw that both #Final...</td>\n",
       "      <td>$11.00</td>\n",
       "      <td>$10.00</td>\n",
       "      <td>Bluebert</td>\n",
       "      <td>NaN</td>\n",
       "    </tr>\n",
       "  </tbody>\n",
       "</table>\n",
       "</div>"
      ],
      "text/plain": [
       "                tweet_id                 timestamp  \\\n",
       "1202  716439118184652801 2016-04-03 01:36:11+00:00   \n",
       "\n",
       "                                                   text  rating_numerator  \\\n",
       "1202  This is Bluebert. He just saw that both #Final...            $11.00   \n",
       "\n",
       "      rating_denominator      name dog_breed  \n",
       "1202              $10.00  Bluebert       NaN  "
      ]
     },
     "execution_count": 220,
     "metadata": {},
     "output_type": "execute_result"
    }
   ],
   "source": [
    "df1_cleaned.loc[(df1_cleaned.tweet_id == ls[9]),:]\n"
   ]
  },
  {
   "cell_type": "code",
   "execution_count": 221,
   "metadata": {},
   "outputs": [
    {
     "data": {
      "text/html": [
       "<div>\n",
       "<style scoped>\n",
       "    .dataframe tbody tr th:only-of-type {\n",
       "        vertical-align: middle;\n",
       "    }\n",
       "\n",
       "    .dataframe tbody tr th {\n",
       "        vertical-align: top;\n",
       "    }\n",
       "\n",
       "    .dataframe thead th {\n",
       "        text-align: right;\n",
       "    }\n",
       "</style>\n",
       "<table border=\"1\" class=\"dataframe\">\n",
       "  <thead>\n",
       "    <tr style=\"text-align: right;\">\n",
       "      <th></th>\n",
       "      <th>tweet_id</th>\n",
       "      <th>timestamp</th>\n",
       "      <th>text</th>\n",
       "      <th>rating_numerator</th>\n",
       "      <th>rating_denominator</th>\n",
       "      <th>name</th>\n",
       "      <th>dog_breed</th>\n",
       "    </tr>\n",
       "  </thead>\n",
       "  <tbody>\n",
       "    <tr>\n",
       "      <th>1068</th>\n",
       "      <td>740373189193256964</td>\n",
       "      <td>2016-06-08 02:41:38+00:00</td>\n",
       "      <td>After so many requests, this is Bretagne. She ...</td>\n",
       "      <td>$14.00</td>\n",
       "      <td>$10.00</td>\n",
       "      <td>NaN</td>\n",
       "      <td>NaN</td>\n",
       "    </tr>\n",
       "  </tbody>\n",
       "</table>\n",
       "</div>"
      ],
      "text/plain": [
       "                tweet_id                 timestamp  \\\n",
       "1068  740373189193256964 2016-06-08 02:41:38+00:00   \n",
       "\n",
       "                                                   text  rating_numerator  \\\n",
       "1068  After so many requests, this is Bretagne. She ...            $14.00   \n",
       "\n",
       "      rating_denominator name dog_breed  \n",
       "1068              $10.00  NaN       NaN  "
      ]
     },
     "execution_count": 221,
     "metadata": {},
     "output_type": "execute_result"
    }
   ],
   "source": [
    "df1_cleaned.loc[(df1_cleaned.tweet_id == ls[12]),:]"
   ]
  },
  {
   "cell_type": "code",
   "execution_count": 222,
   "metadata": {},
   "outputs": [
    {
     "data": {
      "text/plain": [
       "0"
      ]
     },
     "execution_count": 222,
     "metadata": {},
     "output_type": "execute_result"
    }
   ],
   "source": [
    "ljs=[]\n",
    "for index,row in df1_cleaned.iterrows(): \n",
    "    if row[\"rating_denominator\"]==0:\n",
    "        ljs.append(row[\"tweet_id\"])\n",
    "        print(row[\"text\"],\"+++\",row[\"rating_denominator\"],\"+++\",row[\"rating_numerator\"],\"\\n\\n\\n\")\n",
    "len(ljs)"
   ]
  },
  {
   "cell_type": "code",
   "execution_count": 223,
   "metadata": {},
   "outputs": [
    {
     "name": "stdout",
     "output_type": "stream",
     "text": [
      "When you're so blinded by your systematic plagiarism that you forget what day it is. 0/10 https://t.co/YbEJPkg4Ag +++ 10.0 +++ 0.0 \n",
      "\n",
      "1 835152434251116546\n"
     ]
    }
   ],
   "source": [
    "#clean rating_numerator column\n",
    "ljs=[]\n",
    "for index,row in df1_cleaned.iterrows(): \n",
    "    if row[\"rating_numerator\"]==0:\n",
    "        ljs.append(row[\"tweet_id\"])\n",
    "        print(row[\"text\"],\"+++\",row[\"rating_denominator\"],\"+++\",row[\"rating_numerator\"],\"\\n\")\n",
    "print (len(ljs),ljs[0])"
   ]
  },
  {
   "cell_type": "code",
   "execution_count": 224,
   "metadata": {},
   "outputs": [],
   "source": [
    "#delete this one cauz itis a meme :)\n",
    "#df1_cleaned.drop(df1_cleaned.tweet_id.isin(ljs),axis=0,inplace =True)\n",
    "df1_cleaned = df1_cleaned[df1_cleaned['tweet_id'] != ljs[0]]\n"
   ]
  },
  {
   "cell_type": "code",
   "execution_count": 225,
   "metadata": {},
   "outputs": [
    {
     "data": {
      "text/html": [
       "<div>\n",
       "<style scoped>\n",
       "    .dataframe tbody tr th:only-of-type {\n",
       "        vertical-align: middle;\n",
       "    }\n",
       "\n",
       "    .dataframe tbody tr th {\n",
       "        vertical-align: top;\n",
       "    }\n",
       "\n",
       "    .dataframe thead th {\n",
       "        text-align: right;\n",
       "    }\n",
       "</style>\n",
       "<table border=\"1\" class=\"dataframe\">\n",
       "  <thead>\n",
       "    <tr style=\"text-align: right;\">\n",
       "      <th></th>\n",
       "      <th>tweet_id</th>\n",
       "      <th>timestamp</th>\n",
       "      <th>text</th>\n",
       "      <th>rating_numerator</th>\n",
       "      <th>rating_denominator</th>\n",
       "      <th>name</th>\n",
       "      <th>dog_breed</th>\n",
       "    </tr>\n",
       "  </thead>\n",
       "  <tbody>\n",
       "  </tbody>\n",
       "</table>\n",
       "</div>"
      ],
      "text/plain": [
       "Empty DataFrame\n",
       "Columns: [tweet_id, timestamp, text, rating_numerator, rating_denominator, name, dog_breed]\n",
       "Index: []"
      ]
     },
     "execution_count": 225,
     "metadata": {},
     "output_type": "execute_result"
    }
   ],
   "source": [
    "df1_cleaned.loc[(df1_cleaned.rating_numerator == 0),:]"
   ]
  },
  {
   "cell_type": "code",
   "execution_count": 226,
   "metadata": {},
   "outputs": [
    {
     "name": "stdout",
     "output_type": "stream",
     "text": [
      "After so many requests... here you go.\n",
      "\n",
      "Good dogg. 420/10 https://t.co/yfAAo1gdeY +++ 10.0 +++ 420.0 \n",
      "\n",
      "Here we have an entire platoon of puppers. Total score: 88/80 would pet all at once https://t.co/y93p6FLvVw +++ 80.0 +++ 88.0 \n",
      "\n",
      "IT'S PUPPERGEDDON. Total of 144/120 ...I think https://t.co/ZanVtAtvIq +++ 120.0 +++ 144.0 \n",
      "\n",
      "Here we have uncovered an entire battalion of holiday puppers. Average of 11.26/10 https://t.co/eNm2S6p9BD +++ 10.0 +++ 26.0 \n",
      "\n",
      "Someone help the girl is being mugged. Several are distracting her while two steal her shoes. Clever puppers 121/110 https://t.co/1zfnTJLt55 +++ 110.0 +++ 121.0 \n",
      "\n",
      "Happy Wednesday here's a bucket of pups. 44/40 would pet all at once https://t.co/HppvrYuamZ +++ 40.0 +++ 44.0 \n",
      "\n",
      "Here is a whole flock of puppers.  60/50 I'll take the lot https://t.co/9dpcw6MdWa +++ 50.0 +++ 60.0 \n",
      "\n",
      "From left to right:\n",
      "Cletus, Jerome, Alejandro, Burp, &amp; Titson\n",
      "None know where camera is. 45/50 would hug all at once https://t.co/sedre1ivTK +++ 50.0 +++ 45.0 \n",
      "\n",
      "Here's a brigade of puppers. All look very prepared for whatever happens next. 80/80 https://t.co/0eb7R1Om12 +++ 80.0 +++ 80.0 \n",
      "\n",
      "Happy Saturday here's 9 puppers on a bench. 99/90 good work everybody https://t.co/mpvaVxKmc1 +++ 90.0 +++ 99.0 \n",
      "\n",
      "Say hello to this unbelievably well behaved squad of doggos. 204/170 would try to pet all at once https://t.co/yGQI3He3xv +++ 170.0 +++ 204.0 \n",
      "\n",
      "This is Atticus. He's quite simply America af. 1776/10 https://t.co/GRXwMxLBkh +++ 10.0 +++ 1776.0 \n",
      "\n",
      "Why does this never happen at my front door... 165/150 https://t.co/HmwrdfEfUE +++ 150.0 +++ 165.0 \n",
      "\n",
      "This is Sophie. She's a Jubilant Bush Pupper. Super h*ckin rare. Appears at random just to smile at the locals. 11.27/10 would smile back https://t.co/QFaUiIHxHq +++ 10.0 +++ 27.0 \n",
      "\n",
      "This is Logan, the Chow who lived. He solemnly swears he's up to lots of good. H*ckin magical af 9.75/10 https://t.co/yBO5wuqaPS +++ 10.0 +++ 75.0 \n",
      "\n",
      "The floofs have been released I repeat the floofs have been released. 84/70 https://t.co/NIYC820tmd +++ 70.0 +++ 84.0 \n",
      "\n",
      "16\n"
     ]
    }
   ],
   "source": [
    "lsg=[]\n",
    "for index,row in df1_cleaned.iterrows(): \n",
    "    if row[\"rating_numerator\"]>15:\n",
    "        lsg.append(row[\"tweet_id\"])\n",
    "        print(row[\"text\"],\"+++\",row[\"rating_denominator\"],\"+++\",row[\"rating_numerator\"],\"\\n\")\n",
    "print (len(lsg))"
   ]
  },
  {
   "cell_type": "code",
   "execution_count": 227,
   "metadata": {},
   "outputs": [
    {
     "name": "stdout",
     "output_type": "stream",
     "text": [
      "This is an odd dog. Hard on the outside but loving on the inside. Petting still fun. Doesn't play catch well. 2/10 https://t.co/v5A4vzSDdc +++ 10.0 +++ 2.0 \n",
      "\n",
      "Not familiar with this breed. No tail (weird). Only 2 legs. Doesn't bark. Surprisingly quick. Shits eggs. 1/10 https://t.co/Asgdc6kuLX +++ 10.0 +++ 1.0 \n",
      "\n",
      "This is a funny dog. Weird toes. Won't come down. Loves branch. Refuses to eat his food. Hard to cuddle with. 3/10 https://t.co/IIXis0zta0 +++ 10.0 +++ 3.0 \n",
      "\n",
      "This is quite the dog. Gets really excited when not in water. Not very soft tho. Bad at fetch. Can't do tricks. 2/10 https://t.co/aMCTNWO94t +++ 10.0 +++ 2.0 \n",
      "\n",
      "Cool dog. Enjoys couch. Low monotone bark. Very nice kicks. Pisses milk (must be rare). Can't go down stairs. 4/10 https://t.co/vXMKrJC81s +++ 10.0 +++ 4.0 \n",
      "\n",
      "Unfamiliar with this breed. Ears pointy af. Won't let go of seashell. Won't eat kibble. Not very fast. Bad dog 2/10 https://t.co/EIn5kElY1S +++ 10.0 +++ 2.0 \n",
      "\n",
      "My goodness. Very rare dog here. Large. Tail dangerous. Kinda fat. Only eats leaves. Doesn't come when called 3/10 https://t.co/xYGdBrMS9h +++ 10.0 +++ 3.0 \n",
      "\n",
      "These are strange dogs. All have toupees. Long neck for dogs. In a shed of sorts? Work in groups? 4/10 still petable https://t.co/PZxSarAfSN +++ 10.0 +++ 4.0 \n",
      "\n",
      "Never seen dog like this. Breathes heavy. Tilts head in a pattern. No bark. Shitty at fetch. Not even cordless. 1/10 https://t.co/i9iSGNn3fx +++ 10.0 +++ 1.0 \n",
      "\n",
      "This is Tedrick. He lives on the edge. Needs someone to hit the gas tho. Other than that he's a baller. 10&amp;2/10 https://t.co/LvP1TTYSCN +++ 10.0 +++ 2.0 \n",
      "\n",
      "This dog resembles a baked potato. Bed looks uncomfortable. No tail. Comes with butter tho. 3/10 petting still fun https://t.co/x89NSCEZCq +++ 10.0 +++ 3.0 \n",
      "\n",
      "This lil pup is Oliver. Hops around. Has wings but doesn't fly (lame). Annoying chirp. Won't catch tennis balls 2/10 https://t.co/DnhUw0aBM2 +++ 10.0 +++ 2.0 \n",
      "\n",
      "Here is a mother dog caring for her pups. Snazzy red mohawk. Doesn't wag tail. Pups look confused. Overall 4/10 https://t.co/YOHe6lf09m +++ 10.0 +++ 4.0 \n",
      "\n",
      "Fascinating dog here. Loves beach. Oddly long nose for dog. Massive ass paws. Hard to cuddle w. 3/10 would still pet https://t.co/IiSdmhkC5N +++ 10.0 +++ 3.0 \n",
      "\n",
      "Unique dog here. Oddly shaped tail. Long pink front legs. I don't think dogs breath underwater sos. 4/10 bad owner https://t.co/0EJXxE9UxW +++ 10.0 +++ 4.0 \n",
      "\n",
      "This is Bernie. He's taking his Halloween costume very seriously. Wants to be baked. 3/10 not a good idea Bernie smh https://t.co/1zBp1moFlX +++ 10.0 +++ 3.0 \n",
      "\n",
      "This is Tommy. He's a cool dog. Hard not to step on. Won't let go of seashell. Not fast by any means. 3/10 https://t.co/0gY6XTOpn3 +++ 10.0 +++ 3.0 \n",
      "\n",
      "Flamboyant pup here. Probably poisonous. Won't eat kibble. Doesn't bark. Slow af. Petting doesn't look fun. 1/10 https://t.co/jxukeh2BeO +++ 10.0 +++ 1.0 \n",
      "\n",
      "Scary dog here. Too many legs. Extra tail. Not soft, let alone fluffy. Won't bark. Moves sideways. Has weapon. 2/10 https://t.co/XOPXCSXiUT +++ 10.0 +++ 2.0 \n",
      "\n",
      "Pink dogs here. Unreasonably long necks. Left guy has only 1 leg. Quite nimble. Don't bark tho 4/10s would still pet https://t.co/QY5uvMmmQk +++ 10.0 +++ 4.0 \n",
      "\n",
      "Two miniature golden retrievers here. Webbed paws. Don't walk very efficiently. Can't catch a tennis ball. 4/10s https://t.co/WzVLdSHJU7 +++ 10.0 +++ 4.0 \n",
      "\n",
      "Large blue dog here. Cool shades. Flipping us off w both hands. Obviously a preteen. 3/10 for rude blue preteen pup https://t.co/mcPd5AFfhA +++ 10.0 +++ 3.0 \n",
      "\n",
      "This is a heavily opinionated dog. Loves walls. Nobody knows how the hair works. Always ready for a kiss. 4/10 https://t.co/dFiaKZ9cDl +++ 10.0 +++ 4.0 \n",
      "\n",
      "Guys I'm getting real tired of this. We only rate dogs. Please don't send in other things like this Bulbasaur. 3/10 https://t.co/t5rQHl6W8M +++ 10.0 +++ 3.0 \n",
      "\n",
      "Herd of wild dogs here. Not sure what they're trying to do. No real goals in life. 3/10 find your purpose puppers https://t.co/t5ih0VrK02 +++ 10.0 +++ 3.0 \n",
      "\n",
      "This is Henry. He's a shit dog. Short pointy ears. Leaves trail of pee. Not fluffy. Doesn't come when called. 2/10 https://t.co/Pu9RhfHDEQ +++ 10.0 +++ 2.0 \n",
      "\n",
      "Meet Patrick. He's an exotic pup. Jumps great distances for a dog. Always gets injured when I toss him a ball. 3/10 https://t.co/Unz1uNrOzo +++ 10.0 +++ 3.0 \n",
      "\n",
      "What kind of person sends in a picture without a dog in it? 1/10 just because that's a nice table https://t.co/RDXCfk8hK0 +++ 10.0 +++ 1.0 \n",
      "\n",
      "Extremely rare pup here. Very religious. Always praying. Too many legs. Not overwhelmingly fluffy. Won't bark. 3/10 https://t.co/REyE5YKVBb +++ 10.0 +++ 3.0 \n",
      "\n",
      "This is Crystal. She's a shitty fireman. No sense of urgency. People could be dying Crystal. 2/10 just irresponsible https://t.co/rtMtjSl9pz +++ 10.0 +++ 2.0 \n",
      "\n",
      "Exotic pup here. Tail long af. Throat looks swollen. Might breathe fire. Exceptionally unfluffy 2/10 would still pet https://t.co/a8SqCaSo2r +++ 10.0 +++ 2.0 \n",
      "\n",
      "This is Alice. She's an idiot. 4/10 https://t.co/VQXdwJfkyS +++ 10.0 +++ 4.0 \n",
      "\n",
      "This is Chuck. He's a neat dog. Very flexible. Trapped in a glass case of emotion. Devastatingly unfluffy 3/10 https://t.co/YqbU9xHV3p +++ 10.0 +++ 3.0 \n",
      "\n",
      "This is Bobby. He doesn't give a damn about personal space. Convinced he called shotgun first. 4/10 not the best dog https://t.co/b8XW69gSaU +++ 10.0 +++ 4.0 \n",
      "\n",
      "This is Hammond. He's a peculiar pup. Loves long walks. Bark barely audible. Too many legs. 3/10 must be rare https://t.co/NOIiRWr5Jf +++ 10.0 +++ 3.0 \n",
      "\n",
      "Meet Phil. He's big af. Currently destroying this nice family home. Completely uncalled for. 3/10 not a good pupper https://t.co/fShNNhBWYx +++ 10.0 +++ 3.0 \n",
      "\n",
      "This may be the greatest video I've ever been sent. 4/10 for Charles the puppy, 13/10 overall. (Vid by @stevenxx_) https://t.co/uaJmNgXR2P +++ 10.0 +++ 4.0 \n",
      "\n",
      "This is Charl. He's a bully. Chucks that dumbbell around like its nothing. Sharp neck. Exceptionally unfluffy. 3/10 https://t.co/VfLoDZecJ7 +++ 10.0 +++ 3.0 \n",
      "\n",
      "This is Elliot. He's blocking the roadway. Downright rude as hell. Doesn't care that you're already late. 3/10 https://t.co/FMUxir5pYu +++ 10.0 +++ 3.0 \n",
      "\n",
      "This is Keurig. He's a rare dog. Laughs like an idiot tho. Head is basically a weapon. Poorly maintained goatee 4/10 https://t.co/xOrUyj7K30 +++ 10.0 +++ 4.0 \n",
      "\n",
      "What hooligan sent in pictures w/out a dog in them? Churlish af. 3/10 just bc that's a neat fluffy bean bag chair https://t.co/wcwoGOkZvz +++ 10.0 +++ 3.0 \n",
      "\n",
      "This is Benedict. He's a feisty pup. Needs a brushing. Portable af. Looks very angry actually. 4/10 might not pet https://t.co/3oeFfHjv0Z +++ 10.0 +++ 4.0 \n",
      "\n",
      "This is Alexanderson. He's got a weird ass birth mark. Dreadful at fetch. Won't eat kibble. 3/10 wtf @Target https://t.co/FmxOpf2Sgl +++ 10.0 +++ 3.0 \n",
      "\n",
      "Viewer discretion is advised. This is a terrible attack in progress. Not even in water (tragic af). 4/10 bad sherk https://t.co/L3U0j14N5R +++ 10.0 +++ 4.0 \n",
      "\n",
      "Here's another picture without a dog in it. Idk why you guys keep sending these. 4/10 just because that's a neat rug https://t.co/mOmnL19Wsl +++ 10.0 +++ 4.0 \n",
      "\n",
      "This is Fido. He can tell the weather. Not good at fetch tho. Never comes when called. 4/10 would probably still pet https://t.co/4gOv2Q3iKP +++ 10.0 +++ 4.0 \n",
      "\n",
      "This is Wesley. He's clearly trespassing. Seems rather h*ckin violent too. Weaponized forehead. 3/10 wouldn't let in https://t.co/pL7wbMRW7M +++ 10.0 +++ 3.0 \n",
      "\n",
      "47\n"
     ]
    }
   ],
   "source": [
    "lgg=[]\n",
    "for index,row in df1_cleaned.iterrows(): \n",
    "    if row[\"rating_numerator\"]<5:\n",
    "        lgg.append(row[\"tweet_id\"])\n",
    "        print(row[\"text\"],\"+++\",row[\"rating_denominator\"],\"+++\",row[\"rating_numerator\"],\"\\n\")\n",
    "print (len(lgg))\n"
   ]
  },
  {
   "cell_type": "code",
   "execution_count": 228,
   "metadata": {},
   "outputs": [],
   "source": [
    "#all are n't dogs\n",
    "df1_cleaned= df1_cleaned.drop(df1_cleaned[df1_cleaned.tweet_id.isin(lgg)].index)"
   ]
  },
  {
   "cell_type": "code",
   "execution_count": 229,
   "metadata": {},
   "outputs": [
    {
     "data": {
      "text/plain": [
       "array([   8.,    7.,    9.,    6.,    5.,   10.,   11.,   12.,   13.,\n",
       "        420.,   88.,  144.,   26.,  121.,   14.,   44.,   60.,   45.,\n",
       "         80.,   99.,  204., 1776.,  165.,   27.,   75.,   nan,   84.])"
      ]
     },
     "execution_count": 229,
     "metadata": {},
     "output_type": "execute_result"
    }
   ],
   "source": [
    "for index,row in df1_cleaned.iterrows(): \n",
    "    if row[\"rating_numerator\"]<5:\n",
    "        Assert(row[\"text\"],\"+++\",row[\"rating_denominator\"],\"+++\",row[\"rating_numerator\"],\"\\n\")\n",
    "df1_cleaned.rating_numerator.unique()"
   ]
  },
  {
   "cell_type": "code",
   "execution_count": 230,
   "metadata": {},
   "outputs": [],
   "source": [
    "#for float num change num col & den col datatype to float \n",
    "df1_cleaned[['rating_numerator', 'rating_denominator']] = df1_cleaned[['rating_numerator','rating_denominator']].astype(float)"
   ]
  },
  {
   "cell_type": "code",
   "execution_count": 231,
   "metadata": {},
   "outputs": [],
   "source": [
    "#remove num values 420.0, 1776.0 rows(memes)\n",
    "#df1_cleaned.loc[(df1_cleaned.tweet_id == lsg[11]),:]\n",
    "df1_cleaned = df1_cleaned[df1_cleaned['tweet_id'] != lsg[0]]\n",
    "df1_cleaned = df1_cleaned[df1_cleaned['tweet_id'] != lsg[11]]\n"
   ]
  },
  {
   "cell_type": "code",
   "execution_count": 232,
   "metadata": {},
   "outputs": [
    {
     "data": {
      "text/html": [
       "<div>\n",
       "<style scoped>\n",
       "    .dataframe tbody tr th:only-of-type {\n",
       "        vertical-align: middle;\n",
       "    }\n",
       "\n",
       "    .dataframe tbody tr th {\n",
       "        vertical-align: top;\n",
       "    }\n",
       "\n",
       "    .dataframe thead th {\n",
       "        text-align: right;\n",
       "    }\n",
       "</style>\n",
       "<table border=\"1\" class=\"dataframe\">\n",
       "  <thead>\n",
       "    <tr style=\"text-align: right;\">\n",
       "      <th></th>\n",
       "      <th>tweet_id</th>\n",
       "      <th>timestamp</th>\n",
       "      <th>text</th>\n",
       "      <th>rating_numerator</th>\n",
       "      <th>rating_denominator</th>\n",
       "      <th>name</th>\n",
       "      <th>dog_breed</th>\n",
       "    </tr>\n",
       "  </thead>\n",
       "  <tbody>\n",
       "  </tbody>\n",
       "</table>\n",
       "</div>"
      ],
      "text/plain": [
       "Empty DataFrame\n",
       "Columns: [tweet_id, timestamp, text, rating_numerator, rating_denominator, name, dog_breed]\n",
       "Index: []"
      ]
     },
     "execution_count": 232,
     "metadata": {},
     "output_type": "execute_result"
    }
   ],
   "source": [
    "df1_cleaned.loc[(df1_cleaned.tweet_id == lsg[11]),:]"
   ]
  },
  {
   "cell_type": "code",
   "execution_count": 233,
   "metadata": {},
   "outputs": [],
   "source": [
    "#fix float num\n",
    "\n",
    "#df1_cleaned.loc[(df1_cleaned.tweet_id == lsg[14]),:]\n",
    "df1_cleaned.loc[(df1_cleaned.tweet_id == lsg[3]), 'rating_numerator']=11.26\n",
    "df1_cleaned.loc[(df1_cleaned.tweet_id == lsg[13]), 'rating_numerator']=11.27\n",
    "df1_cleaned.loc[(df1_cleaned.tweet_id == lsg[14]), 'rating_numerator']=9.79"
   ]
  },
  {
   "cell_type": "code",
   "execution_count": 234,
   "metadata": {},
   "outputs": [
    {
     "data": {
      "text/html": [
       "<div>\n",
       "<style scoped>\n",
       "    .dataframe tbody tr th:only-of-type {\n",
       "        vertical-align: middle;\n",
       "    }\n",
       "\n",
       "    .dataframe tbody tr th {\n",
       "        vertical-align: top;\n",
       "    }\n",
       "\n",
       "    .dataframe thead th {\n",
       "        text-align: right;\n",
       "    }\n",
       "</style>\n",
       "<table border=\"1\" class=\"dataframe\">\n",
       "  <thead>\n",
       "    <tr style=\"text-align: right;\">\n",
       "      <th></th>\n",
       "      <th>tweet_id</th>\n",
       "      <th>timestamp</th>\n",
       "      <th>text</th>\n",
       "      <th>rating_numerator</th>\n",
       "      <th>rating_denominator</th>\n",
       "      <th>name</th>\n",
       "      <th>dog_breed</th>\n",
       "    </tr>\n",
       "  </thead>\n",
       "  <tbody>\n",
       "    <tr>\n",
       "      <th>695</th>\n",
       "      <td>786709082849828864</td>\n",
       "      <td>2016-10-13 23:23:56+00:00</td>\n",
       "      <td>This is Logan, the Chow who lived. He solemnly...</td>\n",
       "      <td>$9.79</td>\n",
       "      <td>$10.00</td>\n",
       "      <td>Logan</td>\n",
       "      <td>NaN</td>\n",
       "    </tr>\n",
       "  </tbody>\n",
       "</table>\n",
       "</div>"
      ],
      "text/plain": [
       "               tweet_id                 timestamp  \\\n",
       "695  786709082849828864 2016-10-13 23:23:56+00:00   \n",
       "\n",
       "                                                  text  rating_numerator  \\\n",
       "695  This is Logan, the Chow who lived. He solemnly...             $9.79   \n",
       "\n",
       "     rating_denominator   name dog_breed  \n",
       "695              $10.00  Logan       NaN  "
      ]
     },
     "execution_count": 234,
     "metadata": {},
     "output_type": "execute_result"
    }
   ],
   "source": [
    "df1_cleaned.loc[(df1_cleaned.tweet_id == lsg[14]),:]"
   ]
  },
  {
   "cell_type": "code",
   "execution_count": 235,
   "metadata": {},
   "outputs": [
    {
     "data": {
      "text/html": [
       "<div>\n",
       "<style scoped>\n",
       "    .dataframe tbody tr th:only-of-type {\n",
       "        vertical-align: middle;\n",
       "    }\n",
       "\n",
       "    .dataframe tbody tr th {\n",
       "        vertical-align: top;\n",
       "    }\n",
       "\n",
       "    .dataframe thead th {\n",
       "        text-align: right;\n",
       "    }\n",
       "</style>\n",
       "<table border=\"1\" class=\"dataframe\">\n",
       "  <thead>\n",
       "    <tr style=\"text-align: right;\">\n",
       "      <th></th>\n",
       "      <th>tweet_id</th>\n",
       "      <th>timestamp</th>\n",
       "      <th>text</th>\n",
       "      <th>rating_numerator</th>\n",
       "      <th>rating_denominator</th>\n",
       "      <th>name</th>\n",
       "      <th>dog_breed</th>\n",
       "    </tr>\n",
       "  </thead>\n",
       "  <tbody>\n",
       "    <tr>\n",
       "      <th>2355</th>\n",
       "      <td>666020888022790149</td>\n",
       "      <td>2015-11-15 22:32:08+00:00</td>\n",
       "      <td>Here we have a Japanese Irish Setter. Lost eye...</td>\n",
       "      <td>$8.00</td>\n",
       "      <td>$10.00</td>\n",
       "      <td>NaN</td>\n",
       "      <td>NaN</td>\n",
       "    </tr>\n",
       "    <tr>\n",
       "      <th>2354</th>\n",
       "      <td>666029285002620928</td>\n",
       "      <td>2015-11-15 23:05:30+00:00</td>\n",
       "      <td>This is a western brown Mitsubishi terrier. Up...</td>\n",
       "      <td>$7.00</td>\n",
       "      <td>$10.00</td>\n",
       "      <td>NaN</td>\n",
       "      <td>NaN</td>\n",
       "    </tr>\n",
       "    <tr>\n",
       "      <th>2353</th>\n",
       "      <td>666033412701032449</td>\n",
       "      <td>2015-11-15 23:21:54+00:00</td>\n",
       "      <td>Here is a very happy pup. Big fan of well-main...</td>\n",
       "      <td>$9.00</td>\n",
       "      <td>$10.00</td>\n",
       "      <td>NaN</td>\n",
       "      <td>NaN</td>\n",
       "    </tr>\n",
       "    <tr>\n",
       "      <th>2352</th>\n",
       "      <td>666044226329800704</td>\n",
       "      <td>2015-11-16 00:04:52+00:00</td>\n",
       "      <td>This is a purebred Piers Morgan. Loves to Netf...</td>\n",
       "      <td>$6.00</td>\n",
       "      <td>$10.00</td>\n",
       "      <td>NaN</td>\n",
       "      <td>NaN</td>\n",
       "    </tr>\n",
       "    <tr>\n",
       "      <th>2351</th>\n",
       "      <td>666049248165822465</td>\n",
       "      <td>2015-11-16 00:24:50+00:00</td>\n",
       "      <td>Here we have a 1949 1st generation vulpix. Enj...</td>\n",
       "      <td>$5.00</td>\n",
       "      <td>$10.00</td>\n",
       "      <td>NaN</td>\n",
       "      <td>NaN</td>\n",
       "    </tr>\n",
       "  </tbody>\n",
       "</table>\n",
       "</div>"
      ],
      "text/plain": [
       "                tweet_id                 timestamp  \\\n",
       "2355  666020888022790149 2015-11-15 22:32:08+00:00   \n",
       "2354  666029285002620928 2015-11-15 23:05:30+00:00   \n",
       "2353  666033412701032449 2015-11-15 23:21:54+00:00   \n",
       "2352  666044226329800704 2015-11-16 00:04:52+00:00   \n",
       "2351  666049248165822465 2015-11-16 00:24:50+00:00   \n",
       "\n",
       "                                                   text  rating_numerator  \\\n",
       "2355  Here we have a Japanese Irish Setter. Lost eye...             $8.00   \n",
       "2354  This is a western brown Mitsubishi terrier. Up...             $7.00   \n",
       "2353  Here is a very happy pup. Big fan of well-main...             $9.00   \n",
       "2352  This is a purebred Piers Morgan. Loves to Netf...             $6.00   \n",
       "2351  Here we have a 1949 1st generation vulpix. Enj...             $5.00   \n",
       "\n",
       "      rating_denominator name dog_breed  \n",
       "2355              $10.00  NaN       NaN  \n",
       "2354              $10.00  NaN       NaN  \n",
       "2353              $10.00  NaN       NaN  \n",
       "2352              $10.00  NaN       NaN  \n",
       "2351              $10.00  NaN       NaN  "
      ]
     },
     "execution_count": 235,
     "metadata": {},
     "output_type": "execute_result"
    }
   ],
   "source": [
    "df1_cleaned.head()"
   ]
  },
  {
   "cell_type": "code",
   "execution_count": 236,
   "metadata": {},
   "outputs": [
    {
     "data": {
      "text/plain": [
       "(1921, 8)"
      ]
     },
     "execution_count": 236,
     "metadata": {},
     "output_type": "execute_result"
    }
   ],
   "source": [
    "#create overall rating column \n",
    "df1_cleaned['rating'] = 10 * df1_cleaned['rating_numerator'] / df1_cleaned['rating_denominator'].astype(float)\n",
    "df1_cleaned.shape"
   ]
  },
  {
   "cell_type": "code",
   "execution_count": 237,
   "metadata": {},
   "outputs": [
    {
     "data": {
      "text/html": [
       "<div>\n",
       "<style scoped>\n",
       "    .dataframe tbody tr th:only-of-type {\n",
       "        vertical-align: middle;\n",
       "    }\n",
       "\n",
       "    .dataframe tbody tr th {\n",
       "        vertical-align: top;\n",
       "    }\n",
       "\n",
       "    .dataframe thead th {\n",
       "        text-align: right;\n",
       "    }\n",
       "</style>\n",
       "<table border=\"1\" class=\"dataframe\">\n",
       "  <thead>\n",
       "    <tr style=\"text-align: right;\">\n",
       "      <th></th>\n",
       "      <th>tweet_id</th>\n",
       "      <th>timestamp</th>\n",
       "      <th>text</th>\n",
       "      <th>rating_numerator</th>\n",
       "      <th>rating_denominator</th>\n",
       "      <th>name</th>\n",
       "      <th>dog_breed</th>\n",
       "      <th>rating</th>\n",
       "    </tr>\n",
       "  </thead>\n",
       "  <tbody>\n",
       "    <tr>\n",
       "      <th>2355</th>\n",
       "      <td>666020888022790149</td>\n",
       "      <td>2015-11-15 22:32:08+00:00</td>\n",
       "      <td>Here we have a Japanese Irish Setter. Lost eye...</td>\n",
       "      <td>$8.00</td>\n",
       "      <td>$10.00</td>\n",
       "      <td>NaN</td>\n",
       "      <td>NaN</td>\n",
       "      <td>$8.00</td>\n",
       "    </tr>\n",
       "    <tr>\n",
       "      <th>2354</th>\n",
       "      <td>666029285002620928</td>\n",
       "      <td>2015-11-15 23:05:30+00:00</td>\n",
       "      <td>This is a western brown Mitsubishi terrier. Up...</td>\n",
       "      <td>$7.00</td>\n",
       "      <td>$10.00</td>\n",
       "      <td>NaN</td>\n",
       "      <td>NaN</td>\n",
       "      <td>$7.00</td>\n",
       "    </tr>\n",
       "    <tr>\n",
       "      <th>2353</th>\n",
       "      <td>666033412701032449</td>\n",
       "      <td>2015-11-15 23:21:54+00:00</td>\n",
       "      <td>Here is a very happy pup. Big fan of well-main...</td>\n",
       "      <td>$9.00</td>\n",
       "      <td>$10.00</td>\n",
       "      <td>NaN</td>\n",
       "      <td>NaN</td>\n",
       "      <td>$9.00</td>\n",
       "    </tr>\n",
       "    <tr>\n",
       "      <th>2352</th>\n",
       "      <td>666044226329800704</td>\n",
       "      <td>2015-11-16 00:04:52+00:00</td>\n",
       "      <td>This is a purebred Piers Morgan. Loves to Netf...</td>\n",
       "      <td>$6.00</td>\n",
       "      <td>$10.00</td>\n",
       "      <td>NaN</td>\n",
       "      <td>NaN</td>\n",
       "      <td>$6.00</td>\n",
       "    </tr>\n",
       "    <tr>\n",
       "      <th>2351</th>\n",
       "      <td>666049248165822465</td>\n",
       "      <td>2015-11-16 00:24:50+00:00</td>\n",
       "      <td>Here we have a 1949 1st generation vulpix. Enj...</td>\n",
       "      <td>$5.00</td>\n",
       "      <td>$10.00</td>\n",
       "      <td>NaN</td>\n",
       "      <td>NaN</td>\n",
       "      <td>$5.00</td>\n",
       "    </tr>\n",
       "  </tbody>\n",
       "</table>\n",
       "</div>"
      ],
      "text/plain": [
       "                tweet_id                 timestamp  \\\n",
       "2355  666020888022790149 2015-11-15 22:32:08+00:00   \n",
       "2354  666029285002620928 2015-11-15 23:05:30+00:00   \n",
       "2353  666033412701032449 2015-11-15 23:21:54+00:00   \n",
       "2352  666044226329800704 2015-11-16 00:04:52+00:00   \n",
       "2351  666049248165822465 2015-11-16 00:24:50+00:00   \n",
       "\n",
       "                                                   text  rating_numerator  \\\n",
       "2355  Here we have a Japanese Irish Setter. Lost eye...             $8.00   \n",
       "2354  This is a western brown Mitsubishi terrier. Up...             $7.00   \n",
       "2353  Here is a very happy pup. Big fan of well-main...             $9.00   \n",
       "2352  This is a purebred Piers Morgan. Loves to Netf...             $6.00   \n",
       "2351  Here we have a 1949 1st generation vulpix. Enj...             $5.00   \n",
       "\n",
       "      rating_denominator name dog_breed  rating  \n",
       "2355              $10.00  NaN       NaN   $8.00  \n",
       "2354              $10.00  NaN       NaN   $7.00  \n",
       "2353              $10.00  NaN       NaN   $9.00  \n",
       "2352              $10.00  NaN       NaN   $6.00  \n",
       "2351              $10.00  NaN       NaN   $5.00  "
      ]
     },
     "execution_count": 237,
     "metadata": {},
     "output_type": "execute_result"
    }
   ],
   "source": [
    "pred_ids=list(df1_cleaned.tweet_id.unique())\n",
    "df1_cleaned.head()"
   ]
  },
  {
   "cell_type": "markdown",
   "metadata": {},
   "source": [
    "<h2> Clean Predictive_Images </h2>"
   ]
  },
  {
   "cell_type": "code",
   "execution_count": 238,
   "metadata": {},
   "outputs": [
    {
     "data": {
      "text/plain": [
       "(1921, 12)"
      ]
     },
     "execution_count": 238,
     "metadata": {},
     "output_type": "execute_result"
    }
   ],
   "source": [
    "#remove dups + prepare tweet_id columns\n",
    "df2_cleaned=df2_cleaned[df2_cleaned.tweet_id.isin(pred_ids)]\n",
    "df2_cleaned.shape"
   ]
  },
  {
   "cell_type": "code",
   "execution_count": 239,
   "metadata": {},
   "outputs": [],
   "source": [
    "df2_cleaned= df2_cleaned.drop_duplicates(subset=['jpg_url'], keep='last')"
   ]
  },
  {
   "cell_type": "code",
   "execution_count": 240,
   "metadata": {},
   "outputs": [
    {
     "data": {
      "text/plain": [
       "(1921, 12)"
      ]
     },
     "execution_count": 240,
     "metadata": {},
     "output_type": "execute_result"
    }
   ],
   "source": [
    "df2_cleaned.shape"
   ]
  },
  {
   "cell_type": "code",
   "execution_count": 241,
   "metadata": {},
   "outputs": [
    {
     "data": {
      "text/html": [
       "<div>\n",
       "<style scoped>\n",
       "    .dataframe tbody tr th:only-of-type {\n",
       "        vertical-align: middle;\n",
       "    }\n",
       "\n",
       "    .dataframe tbody tr th {\n",
       "        vertical-align: top;\n",
       "    }\n",
       "\n",
       "    .dataframe thead th {\n",
       "        text-align: right;\n",
       "    }\n",
       "</style>\n",
       "<table border=\"1\" class=\"dataframe\">\n",
       "  <thead>\n",
       "    <tr style=\"text-align: right;\">\n",
       "      <th></th>\n",
       "      <th>tweet_id</th>\n",
       "      <th>jpg_url</th>\n",
       "      <th>img_num</th>\n",
       "      <th>p1</th>\n",
       "      <th>p1_conf</th>\n",
       "      <th>p1_dog</th>\n",
       "      <th>p2</th>\n",
       "      <th>p2_conf</th>\n",
       "      <th>p2_dog</th>\n",
       "      <th>p3</th>\n",
       "      <th>p3_conf</th>\n",
       "      <th>p3_dog</th>\n",
       "    </tr>\n",
       "  </thead>\n",
       "  <tbody>\n",
       "    <tr>\n",
       "      <th>0</th>\n",
       "      <td>666020888022790149</td>\n",
       "      <td>https://pbs.twimg.com/media/CT4udn0WwAA0aMy.jpg</td>\n",
       "      <td>1</td>\n",
       "      <td>Welsh_springer_spaniel</td>\n",
       "      <td>$0.47</td>\n",
       "      <td>True</td>\n",
       "      <td>collie</td>\n",
       "      <td>$0.16</td>\n",
       "      <td>True</td>\n",
       "      <td>Shetland_sheepdog</td>\n",
       "      <td>$0.06</td>\n",
       "      <td>True</td>\n",
       "    </tr>\n",
       "    <tr>\n",
       "      <th>1</th>\n",
       "      <td>666029285002620928</td>\n",
       "      <td>https://pbs.twimg.com/media/CT42GRgUYAA5iDo.jpg</td>\n",
       "      <td>1</td>\n",
       "      <td>redbone</td>\n",
       "      <td>$0.51</td>\n",
       "      <td>True</td>\n",
       "      <td>miniature_pinscher</td>\n",
       "      <td>$0.07</td>\n",
       "      <td>True</td>\n",
       "      <td>Rhodesian_ridgeback</td>\n",
       "      <td>$0.07</td>\n",
       "      <td>True</td>\n",
       "    </tr>\n",
       "    <tr>\n",
       "      <th>2</th>\n",
       "      <td>666033412701032449</td>\n",
       "      <td>https://pbs.twimg.com/media/CT4521TWwAEvMyu.jpg</td>\n",
       "      <td>1</td>\n",
       "      <td>German_shepherd</td>\n",
       "      <td>$0.60</td>\n",
       "      <td>True</td>\n",
       "      <td>malinois</td>\n",
       "      <td>$0.14</td>\n",
       "      <td>True</td>\n",
       "      <td>bloodhound</td>\n",
       "      <td>$0.12</td>\n",
       "      <td>True</td>\n",
       "    </tr>\n",
       "    <tr>\n",
       "      <th>3</th>\n",
       "      <td>666044226329800704</td>\n",
       "      <td>https://pbs.twimg.com/media/CT5Dr8HUEAA-lEu.jpg</td>\n",
       "      <td>1</td>\n",
       "      <td>Rhodesian_ridgeback</td>\n",
       "      <td>$0.41</td>\n",
       "      <td>True</td>\n",
       "      <td>redbone</td>\n",
       "      <td>$0.36</td>\n",
       "      <td>True</td>\n",
       "      <td>miniature_pinscher</td>\n",
       "      <td>$0.22</td>\n",
       "      <td>True</td>\n",
       "    </tr>\n",
       "    <tr>\n",
       "      <th>4</th>\n",
       "      <td>666049248165822465</td>\n",
       "      <td>https://pbs.twimg.com/media/CT5IQmsXIAAKY4A.jpg</td>\n",
       "      <td>1</td>\n",
       "      <td>miniature_pinscher</td>\n",
       "      <td>$0.56</td>\n",
       "      <td>True</td>\n",
       "      <td>Rottweiler</td>\n",
       "      <td>$0.24</td>\n",
       "      <td>True</td>\n",
       "      <td>Doberman</td>\n",
       "      <td>$0.15</td>\n",
       "      <td>True</td>\n",
       "    </tr>\n",
       "    <tr>\n",
       "      <th>5</th>\n",
       "      <td>666050758794694657</td>\n",
       "      <td>https://pbs.twimg.com/media/CT5Jof1WUAEuVxN.jpg</td>\n",
       "      <td>1</td>\n",
       "      <td>Bernese_mountain_dog</td>\n",
       "      <td>$0.65</td>\n",
       "      <td>True</td>\n",
       "      <td>English_springer</td>\n",
       "      <td>$0.26</td>\n",
       "      <td>True</td>\n",
       "      <td>Greater_Swiss_Mountain_dog</td>\n",
       "      <td>$0.02</td>\n",
       "      <td>True</td>\n",
       "    </tr>\n",
       "    <tr>\n",
       "      <th>6</th>\n",
       "      <td>666051853826850816</td>\n",
       "      <td>https://pbs.twimg.com/media/CT5KoJ1WoAAJash.jpg</td>\n",
       "      <td>1</td>\n",
       "      <td>box_turtle</td>\n",
       "      <td>$0.93</td>\n",
       "      <td>False</td>\n",
       "      <td>mud_turtle</td>\n",
       "      <td>$0.05</td>\n",
       "      <td>False</td>\n",
       "      <td>terrapin</td>\n",
       "      <td>$0.02</td>\n",
       "      <td>False</td>\n",
       "    </tr>\n",
       "    <tr>\n",
       "      <th>7</th>\n",
       "      <td>666055525042405380</td>\n",
       "      <td>https://pbs.twimg.com/media/CT5N9tpXIAAifs1.jpg</td>\n",
       "      <td>1</td>\n",
       "      <td>chow</td>\n",
       "      <td>$0.69</td>\n",
       "      <td>True</td>\n",
       "      <td>Tibetan_mastiff</td>\n",
       "      <td>$0.06</td>\n",
       "      <td>True</td>\n",
       "      <td>fur_coat</td>\n",
       "      <td>$0.05</td>\n",
       "      <td>False</td>\n",
       "    </tr>\n",
       "    <tr>\n",
       "      <th>8</th>\n",
       "      <td>666057090499244032</td>\n",
       "      <td>https://pbs.twimg.com/media/CT5PY90WoAAQGLo.jpg</td>\n",
       "      <td>1</td>\n",
       "      <td>shopping_cart</td>\n",
       "      <td>$0.96</td>\n",
       "      <td>False</td>\n",
       "      <td>shopping_basket</td>\n",
       "      <td>$0.01</td>\n",
       "      <td>False</td>\n",
       "      <td>golden_retriever</td>\n",
       "      <td>$0.01</td>\n",
       "      <td>True</td>\n",
       "    </tr>\n",
       "    <tr>\n",
       "      <th>9</th>\n",
       "      <td>666058600524156928</td>\n",
       "      <td>https://pbs.twimg.com/media/CT5Qw94XAAA_2dP.jpg</td>\n",
       "      <td>1</td>\n",
       "      <td>miniature_poodle</td>\n",
       "      <td>$0.20</td>\n",
       "      <td>True</td>\n",
       "      <td>komondor</td>\n",
       "      <td>$0.19</td>\n",
       "      <td>True</td>\n",
       "      <td>soft-coated_wheaten_terrier</td>\n",
       "      <td>$0.08</td>\n",
       "      <td>True</td>\n",
       "    </tr>\n",
       "  </tbody>\n",
       "</table>\n",
       "</div>"
      ],
      "text/plain": [
       "             tweet_id                                          jpg_url  \\\n",
       "0  666020888022790149  https://pbs.twimg.com/media/CT4udn0WwAA0aMy.jpg   \n",
       "1  666029285002620928  https://pbs.twimg.com/media/CT42GRgUYAA5iDo.jpg   \n",
       "2  666033412701032449  https://pbs.twimg.com/media/CT4521TWwAEvMyu.jpg   \n",
       "3  666044226329800704  https://pbs.twimg.com/media/CT5Dr8HUEAA-lEu.jpg   \n",
       "4  666049248165822465  https://pbs.twimg.com/media/CT5IQmsXIAAKY4A.jpg   \n",
       "5  666050758794694657  https://pbs.twimg.com/media/CT5Jof1WUAEuVxN.jpg   \n",
       "6  666051853826850816  https://pbs.twimg.com/media/CT5KoJ1WoAAJash.jpg   \n",
       "7  666055525042405380  https://pbs.twimg.com/media/CT5N9tpXIAAifs1.jpg   \n",
       "8  666057090499244032  https://pbs.twimg.com/media/CT5PY90WoAAQGLo.jpg   \n",
       "9  666058600524156928  https://pbs.twimg.com/media/CT5Qw94XAAA_2dP.jpg   \n",
       "\n",
       "   img_num                      p1  p1_conf  p1_dog                  p2  \\\n",
       "0        1  Welsh_springer_spaniel    $0.47    True              collie   \n",
       "1        1                 redbone    $0.51    True  miniature_pinscher   \n",
       "2        1         German_shepherd    $0.60    True            malinois   \n",
       "3        1     Rhodesian_ridgeback    $0.41    True             redbone   \n",
       "4        1      miniature_pinscher    $0.56    True          Rottweiler   \n",
       "5        1    Bernese_mountain_dog    $0.65    True    English_springer   \n",
       "6        1              box_turtle    $0.93   False          mud_turtle   \n",
       "7        1                    chow    $0.69    True     Tibetan_mastiff   \n",
       "8        1           shopping_cart    $0.96   False     shopping_basket   \n",
       "9        1        miniature_poodle    $0.20    True            komondor   \n",
       "\n",
       "   p2_conf  p2_dog                           p3  p3_conf  p3_dog  \n",
       "0    $0.16    True            Shetland_sheepdog    $0.06    True  \n",
       "1    $0.07    True          Rhodesian_ridgeback    $0.07    True  \n",
       "2    $0.14    True                   bloodhound    $0.12    True  \n",
       "3    $0.36    True           miniature_pinscher    $0.22    True  \n",
       "4    $0.24    True                     Doberman    $0.15    True  \n",
       "5    $0.26    True   Greater_Swiss_Mountain_dog    $0.02    True  \n",
       "6    $0.05   False                     terrapin    $0.02   False  \n",
       "7    $0.06    True                     fur_coat    $0.05   False  \n",
       "8    $0.01   False             golden_retriever    $0.01    True  \n",
       "9    $0.19    True  soft-coated_wheaten_terrier    $0.08    True  "
      ]
     },
     "execution_count": 241,
     "metadata": {},
     "output_type": "execute_result"
    }
   ],
   "source": [
    "df2.head(10)"
   ]
  },
  {
   "cell_type": "code",
   "execution_count": 242,
   "metadata": {},
   "outputs": [
    {
     "data": {
      "text/plain": [
       "Index(['tweet_id', 'timestamp', 'text', 'rating_numerator',\n",
       "       'rating_denominator', 'name', 'dog_breed', 'rating', 'jpg_url',\n",
       "       'img_num', 'p1', 'p1_conf', 'p1_dog', 'p2', 'p2_conf', 'p2_dog', 'p3',\n",
       "       'p3_conf', 'p3_dog'],\n",
       "      dtype='object')"
      ]
     },
     "execution_count": 242,
     "metadata": {},
     "output_type": "execute_result"
    }
   ],
   "source": [
    "mergeDf1_Df2 = df1_cleaned.merge(df2_cleaned, on='tweet_id')\n",
    "mergeDf1_Df2.keys()"
   ]
  },
  {
   "cell_type": "code",
   "execution_count": 243,
   "metadata": {},
   "outputs": [],
   "source": [
    "id_var=['tweet_id', 'timestamp', 'text', 'rating_numerator',\n",
    "       'rating_denominator', 'name', 'dog_breed', 'rating', 'jpg_url','img_num']\n",
    "                    "
   ]
  },
  {
   "cell_type": "code",
   "execution_count": 244,
   "metadata": {},
   "outputs": [
    {
     "data": {
      "text/html": [
       "<div>\n",
       "<style scoped>\n",
       "    .dataframe tbody tr th:only-of-type {\n",
       "        vertical-align: middle;\n",
       "    }\n",
       "\n",
       "    .dataframe tbody tr th {\n",
       "        vertical-align: top;\n",
       "    }\n",
       "\n",
       "    .dataframe thead th {\n",
       "        text-align: right;\n",
       "    }\n",
       "</style>\n",
       "<table border=\"1\" class=\"dataframe\">\n",
       "  <thead>\n",
       "    <tr style=\"text-align: right;\">\n",
       "      <th></th>\n",
       "      <th>tweet_id</th>\n",
       "      <th>timestamp</th>\n",
       "      <th>text</th>\n",
       "      <th>rating_numerator</th>\n",
       "      <th>rating_denominator</th>\n",
       "      <th>name</th>\n",
       "      <th>dog_breed</th>\n",
       "      <th>rating</th>\n",
       "      <th>jpg_url</th>\n",
       "      <th>img_num</th>\n",
       "      <th>Prediction_Algorithms</th>\n",
       "      <th>Prediction_Algorithm_Name</th>\n",
       "    </tr>\n",
       "  </thead>\n",
       "  <tbody>\n",
       "    <tr>\n",
       "      <th>0</th>\n",
       "      <td>666020888022790149</td>\n",
       "      <td>2015-11-15 22:32:08+00:00</td>\n",
       "      <td>Here we have a Japanese Irish Setter. Lost eye...</td>\n",
       "      <td>$8.00</td>\n",
       "      <td>$10.00</td>\n",
       "      <td>NaN</td>\n",
       "      <td>NaN</td>\n",
       "      <td>$8.00</td>\n",
       "      <td>https://pbs.twimg.com/media/CT4udn0WwAA0aMy.jpg</td>\n",
       "      <td>1</td>\n",
       "      <td>p1</td>\n",
       "      <td>Welsh_springer_spaniel</td>\n",
       "    </tr>\n",
       "    <tr>\n",
       "      <th>3842</th>\n",
       "      <td>666020888022790149</td>\n",
       "      <td>2015-11-15 22:32:08+00:00</td>\n",
       "      <td>Here we have a Japanese Irish Setter. Lost eye...</td>\n",
       "      <td>$8.00</td>\n",
       "      <td>$10.00</td>\n",
       "      <td>NaN</td>\n",
       "      <td>NaN</td>\n",
       "      <td>$8.00</td>\n",
       "      <td>https://pbs.twimg.com/media/CT4udn0WwAA0aMy.jpg</td>\n",
       "      <td>1</td>\n",
       "      <td>p3</td>\n",
       "      <td>Shetland_sheepdog</td>\n",
       "    </tr>\n",
       "    <tr>\n",
       "      <th>1921</th>\n",
       "      <td>666020888022790149</td>\n",
       "      <td>2015-11-15 22:32:08+00:00</td>\n",
       "      <td>Here we have a Japanese Irish Setter. Lost eye...</td>\n",
       "      <td>$8.00</td>\n",
       "      <td>$10.00</td>\n",
       "      <td>NaN</td>\n",
       "      <td>NaN</td>\n",
       "      <td>$8.00</td>\n",
       "      <td>https://pbs.twimg.com/media/CT4udn0WwAA0aMy.jpg</td>\n",
       "      <td>1</td>\n",
       "      <td>p2</td>\n",
       "      <td>collie</td>\n",
       "    </tr>\n",
       "    <tr>\n",
       "      <th>1</th>\n",
       "      <td>666029285002620928</td>\n",
       "      <td>2015-11-15 23:05:30+00:00</td>\n",
       "      <td>This is a western brown Mitsubishi terrier. Up...</td>\n",
       "      <td>$7.00</td>\n",
       "      <td>$10.00</td>\n",
       "      <td>NaN</td>\n",
       "      <td>NaN</td>\n",
       "      <td>$7.00</td>\n",
       "      <td>https://pbs.twimg.com/media/CT42GRgUYAA5iDo.jpg</td>\n",
       "      <td>1</td>\n",
       "      <td>p1</td>\n",
       "      <td>redbone</td>\n",
       "    </tr>\n",
       "    <tr>\n",
       "      <th>3843</th>\n",
       "      <td>666029285002620928</td>\n",
       "      <td>2015-11-15 23:05:30+00:00</td>\n",
       "      <td>This is a western brown Mitsubishi terrier. Up...</td>\n",
       "      <td>$7.00</td>\n",
       "      <td>$10.00</td>\n",
       "      <td>NaN</td>\n",
       "      <td>NaN</td>\n",
       "      <td>$7.00</td>\n",
       "      <td>https://pbs.twimg.com/media/CT42GRgUYAA5iDo.jpg</td>\n",
       "      <td>1</td>\n",
       "      <td>p3</td>\n",
       "      <td>Rhodesian_ridgeback</td>\n",
       "    </tr>\n",
       "  </tbody>\n",
       "</table>\n",
       "</div>"
      ],
      "text/plain": [
       "                tweet_id                 timestamp  \\\n",
       "0     666020888022790149 2015-11-15 22:32:08+00:00   \n",
       "3842  666020888022790149 2015-11-15 22:32:08+00:00   \n",
       "1921  666020888022790149 2015-11-15 22:32:08+00:00   \n",
       "1     666029285002620928 2015-11-15 23:05:30+00:00   \n",
       "3843  666029285002620928 2015-11-15 23:05:30+00:00   \n",
       "\n",
       "                                                   text  rating_numerator  \\\n",
       "0     Here we have a Japanese Irish Setter. Lost eye...             $8.00   \n",
       "3842  Here we have a Japanese Irish Setter. Lost eye...             $8.00   \n",
       "1921  Here we have a Japanese Irish Setter. Lost eye...             $8.00   \n",
       "1     This is a western brown Mitsubishi terrier. Up...             $7.00   \n",
       "3843  This is a western brown Mitsubishi terrier. Up...             $7.00   \n",
       "\n",
       "      rating_denominator name dog_breed  rating  \\\n",
       "0                 $10.00  NaN       NaN   $8.00   \n",
       "3842              $10.00  NaN       NaN   $8.00   \n",
       "1921              $10.00  NaN       NaN   $8.00   \n",
       "1                 $10.00  NaN       NaN   $7.00   \n",
       "3843              $10.00  NaN       NaN   $7.00   \n",
       "\n",
       "                                              jpg_url  img_num  \\\n",
       "0     https://pbs.twimg.com/media/CT4udn0WwAA0aMy.jpg        1   \n",
       "3842  https://pbs.twimg.com/media/CT4udn0WwAA0aMy.jpg        1   \n",
       "1921  https://pbs.twimg.com/media/CT4udn0WwAA0aMy.jpg        1   \n",
       "1     https://pbs.twimg.com/media/CT42GRgUYAA5iDo.jpg        1   \n",
       "3843  https://pbs.twimg.com/media/CT42GRgUYAA5iDo.jpg        1   \n",
       "\n",
       "     Prediction_Algorithms Prediction_Algorithm_Name  \n",
       "0                       p1    Welsh_springer_spaniel  \n",
       "3842                    p3         Shetland_sheepdog  \n",
       "1921                    p2                    collie  \n",
       "1                       p1                   redbone  \n",
       "3843                    p3       Rhodesian_ridgeback  "
      ]
     },
     "execution_count": 244,
     "metadata": {},
     "output_type": "execute_result"
    }
   ],
   "source": [
    "dfalgos = pd.melt(frame=mergeDf1_Df2,id_vars=id_var,value_vars=[\"p1\",\"p2\",\"p3\"], var_name=\"Prediction_Algorithms\", value_name=\"Prediction_Algorithm_Name\")\n",
    "dfalgos.sort_values(by='tweet_id', inplace=True, ascending=True)\n",
    "dfalgos.head()"
   ]
  },
  {
   "cell_type": "code",
   "execution_count": 245,
   "metadata": {},
   "outputs": [
    {
     "data": {
      "text/html": [
       "<div>\n",
       "<style scoped>\n",
       "    .dataframe tbody tr th:only-of-type {\n",
       "        vertical-align: middle;\n",
       "    }\n",
       "\n",
       "    .dataframe tbody tr th {\n",
       "        vertical-align: top;\n",
       "    }\n",
       "\n",
       "    .dataframe thead th {\n",
       "        text-align: right;\n",
       "    }\n",
       "</style>\n",
       "<table border=\"1\" class=\"dataframe\">\n",
       "  <thead>\n",
       "    <tr style=\"text-align: right;\">\n",
       "      <th></th>\n",
       "      <th>tweet_id</th>\n",
       "      <th>timestamp</th>\n",
       "      <th>text</th>\n",
       "      <th>rating_numerator</th>\n",
       "      <th>rating_denominator</th>\n",
       "      <th>name</th>\n",
       "      <th>dog_breed</th>\n",
       "      <th>rating</th>\n",
       "      <th>jpg_url</th>\n",
       "      <th>img_num</th>\n",
       "      <th>Prediction_Algorithms</th>\n",
       "      <th>Prediction_Algorithm_Name</th>\n",
       "    </tr>\n",
       "  </thead>\n",
       "  <tbody>\n",
       "    <tr>\n",
       "      <th>0</th>\n",
       "      <td>666020888022790149</td>\n",
       "      <td>2015-11-15 22:32:08+00:00</td>\n",
       "      <td>Here we have a Japanese Irish Setter. Lost eye...</td>\n",
       "      <td>$8.00</td>\n",
       "      <td>$10.00</td>\n",
       "      <td>NaN</td>\n",
       "      <td>NaN</td>\n",
       "      <td>$8.00</td>\n",
       "      <td>https://pbs.twimg.com/media/CT4udn0WwAA0aMy.jpg</td>\n",
       "      <td>1</td>\n",
       "      <td>p1</td>\n",
       "      <td>Welsh_springer_spaniel</td>\n",
       "    </tr>\n",
       "    <tr>\n",
       "      <th>3842</th>\n",
       "      <td>666020888022790149</td>\n",
       "      <td>2015-11-15 22:32:08+00:00</td>\n",
       "      <td>Here we have a Japanese Irish Setter. Lost eye...</td>\n",
       "      <td>$8.00</td>\n",
       "      <td>$10.00</td>\n",
       "      <td>NaN</td>\n",
       "      <td>NaN</td>\n",
       "      <td>$8.00</td>\n",
       "      <td>https://pbs.twimg.com/media/CT4udn0WwAA0aMy.jpg</td>\n",
       "      <td>1</td>\n",
       "      <td>p3</td>\n",
       "      <td>Shetland_sheepdog</td>\n",
       "    </tr>\n",
       "    <tr>\n",
       "      <th>1921</th>\n",
       "      <td>666020888022790149</td>\n",
       "      <td>2015-11-15 22:32:08+00:00</td>\n",
       "      <td>Here we have a Japanese Irish Setter. Lost eye...</td>\n",
       "      <td>$8.00</td>\n",
       "      <td>$10.00</td>\n",
       "      <td>NaN</td>\n",
       "      <td>NaN</td>\n",
       "      <td>$8.00</td>\n",
       "      <td>https://pbs.twimg.com/media/CT4udn0WwAA0aMy.jpg</td>\n",
       "      <td>1</td>\n",
       "      <td>p2</td>\n",
       "      <td>collie</td>\n",
       "    </tr>\n",
       "    <tr>\n",
       "      <th>1</th>\n",
       "      <td>666029285002620928</td>\n",
       "      <td>2015-11-15 23:05:30+00:00</td>\n",
       "      <td>This is a western brown Mitsubishi terrier. Up...</td>\n",
       "      <td>$7.00</td>\n",
       "      <td>$10.00</td>\n",
       "      <td>NaN</td>\n",
       "      <td>NaN</td>\n",
       "      <td>$7.00</td>\n",
       "      <td>https://pbs.twimg.com/media/CT42GRgUYAA5iDo.jpg</td>\n",
       "      <td>1</td>\n",
       "      <td>p1</td>\n",
       "      <td>redbone</td>\n",
       "    </tr>\n",
       "    <tr>\n",
       "      <th>3843</th>\n",
       "      <td>666029285002620928</td>\n",
       "      <td>2015-11-15 23:05:30+00:00</td>\n",
       "      <td>This is a western brown Mitsubishi terrier. Up...</td>\n",
       "      <td>$7.00</td>\n",
       "      <td>$10.00</td>\n",
       "      <td>NaN</td>\n",
       "      <td>NaN</td>\n",
       "      <td>$7.00</td>\n",
       "      <td>https://pbs.twimg.com/media/CT42GRgUYAA5iDo.jpg</td>\n",
       "      <td>1</td>\n",
       "      <td>p3</td>\n",
       "      <td>Rhodesian_ridgeback</td>\n",
       "    </tr>\n",
       "  </tbody>\n",
       "</table>\n",
       "</div>"
      ],
      "text/plain": [
       "                tweet_id                 timestamp  \\\n",
       "0     666020888022790149 2015-11-15 22:32:08+00:00   \n",
       "3842  666020888022790149 2015-11-15 22:32:08+00:00   \n",
       "1921  666020888022790149 2015-11-15 22:32:08+00:00   \n",
       "1     666029285002620928 2015-11-15 23:05:30+00:00   \n",
       "3843  666029285002620928 2015-11-15 23:05:30+00:00   \n",
       "\n",
       "                                                   text  rating_numerator  \\\n",
       "0     Here we have a Japanese Irish Setter. Lost eye...             $8.00   \n",
       "3842  Here we have a Japanese Irish Setter. Lost eye...             $8.00   \n",
       "1921  Here we have a Japanese Irish Setter. Lost eye...             $8.00   \n",
       "1     This is a western brown Mitsubishi terrier. Up...             $7.00   \n",
       "3843  This is a western brown Mitsubishi terrier. Up...             $7.00   \n",
       "\n",
       "      rating_denominator name dog_breed  rating  \\\n",
       "0                 $10.00  NaN       NaN   $8.00   \n",
       "3842              $10.00  NaN       NaN   $8.00   \n",
       "1921              $10.00  NaN       NaN   $8.00   \n",
       "1                 $10.00  NaN       NaN   $7.00   \n",
       "3843              $10.00  NaN       NaN   $7.00   \n",
       "\n",
       "                                              jpg_url  img_num  \\\n",
       "0     https://pbs.twimg.com/media/CT4udn0WwAA0aMy.jpg        1   \n",
       "3842  https://pbs.twimg.com/media/CT4udn0WwAA0aMy.jpg        1   \n",
       "1921  https://pbs.twimg.com/media/CT4udn0WwAA0aMy.jpg        1   \n",
       "1     https://pbs.twimg.com/media/CT42GRgUYAA5iDo.jpg        1   \n",
       "3843  https://pbs.twimg.com/media/CT42GRgUYAA5iDo.jpg        1   \n",
       "\n",
       "     Prediction_Algorithms Prediction_Algorithm_Name  \n",
       "0                       p1    Welsh_springer_spaniel  \n",
       "3842                    p3         Shetland_sheepdog  \n",
       "1921                    p2                    collie  \n",
       "1                       p1                   redbone  \n",
       "3843                    p3       Rhodesian_ridgeback  "
      ]
     },
     "execution_count": 245,
     "metadata": {},
     "output_type": "execute_result"
    }
   ],
   "source": [
    "dfalgos.head(5)\n"
   ]
  },
  {
   "cell_type": "code",
   "execution_count": 246,
   "metadata": {},
   "outputs": [],
   "source": [
    "dfrank = pd.melt(frame=mergeDf1_Df2,id_vars=\"tweet_id\",value_vars=[\"p1_conf\",\"p2_conf\",\"p3_conf\"], var_name=\"ConfidenceLevel\", value_name=\"confidence_level\")"
   ]
  },
  {
   "cell_type": "code",
   "execution_count": 247,
   "metadata": {},
   "outputs": [
    {
     "data": {
      "text/html": [
       "<div>\n",
       "<style scoped>\n",
       "    .dataframe tbody tr th:only-of-type {\n",
       "        vertical-align: middle;\n",
       "    }\n",
       "\n",
       "    .dataframe tbody tr th {\n",
       "        vertical-align: top;\n",
       "    }\n",
       "\n",
       "    .dataframe thead th {\n",
       "        text-align: right;\n",
       "    }\n",
       "</style>\n",
       "<table border=\"1\" class=\"dataframe\">\n",
       "  <thead>\n",
       "    <tr style=\"text-align: right;\">\n",
       "      <th></th>\n",
       "      <th>tweet_id</th>\n",
       "      <th>ConfidenceLevel</th>\n",
       "      <th>confidence_level</th>\n",
       "    </tr>\n",
       "  </thead>\n",
       "  <tbody>\n",
       "    <tr>\n",
       "      <th>0</th>\n",
       "      <td>666020888022790149</td>\n",
       "      <td>p1_conf</td>\n",
       "      <td>$0.47</td>\n",
       "    </tr>\n",
       "    <tr>\n",
       "      <th>3842</th>\n",
       "      <td>666020888022790149</td>\n",
       "      <td>p3_conf</td>\n",
       "      <td>$0.06</td>\n",
       "    </tr>\n",
       "    <tr>\n",
       "      <th>1921</th>\n",
       "      <td>666020888022790149</td>\n",
       "      <td>p2_conf</td>\n",
       "      <td>$0.16</td>\n",
       "    </tr>\n",
       "    <tr>\n",
       "      <th>1</th>\n",
       "      <td>666029285002620928</td>\n",
       "      <td>p1_conf</td>\n",
       "      <td>$0.51</td>\n",
       "    </tr>\n",
       "    <tr>\n",
       "      <th>3843</th>\n",
       "      <td>666029285002620928</td>\n",
       "      <td>p3_conf</td>\n",
       "      <td>$0.07</td>\n",
       "    </tr>\n",
       "  </tbody>\n",
       "</table>\n",
       "</div>"
      ],
      "text/plain": [
       "                tweet_id ConfidenceLevel  confidence_level\n",
       "0     666020888022790149         p1_conf             $0.47\n",
       "3842  666020888022790149         p3_conf             $0.06\n",
       "1921  666020888022790149         p2_conf             $0.16\n",
       "1     666029285002620928         p1_conf             $0.51\n",
       "3843  666029285002620928         p3_conf             $0.07"
      ]
     },
     "execution_count": 247,
     "metadata": {},
     "output_type": "execute_result"
    }
   ],
   "source": [
    "dfrank.sort_values(by='tweet_id', inplace=True, ascending=True)\n",
    "dfrank .head()\n"
   ]
  },
  {
   "cell_type": "code",
   "execution_count": 248,
   "metadata": {},
   "outputs": [
    {
     "name": "stdout",
     "output_type": "stream",
     "text": [
      "(5763, 3)\n"
     ]
    }
   ],
   "source": [
    "print(dfrank.shape)"
   ]
  },
  {
   "cell_type": "code",
   "execution_count": 249,
   "metadata": {},
   "outputs": [],
   "source": [
    "dfDorB = pd.melt(frame=mergeDf1_Df2,id_vars=\"tweet_id\",value_vars=[\"p1_dog\",\"p2_dog\",\"p3_dog\"], var_name=\"Dog_Breed\", value_name=\"The_animal_is_Dog\")"
   ]
  },
  {
   "cell_type": "code",
   "execution_count": 250,
   "metadata": {},
   "outputs": [],
   "source": [
    "dfDorB.sort_values(by='tweet_id', inplace=True, ascending=True)"
   ]
  },
  {
   "cell_type": "code",
   "execution_count": 251,
   "metadata": {},
   "outputs": [
    {
     "data": {
      "text/html": [
       "<div>\n",
       "<style scoped>\n",
       "    .dataframe tbody tr th:only-of-type {\n",
       "        vertical-align: middle;\n",
       "    }\n",
       "\n",
       "    .dataframe tbody tr th {\n",
       "        vertical-align: top;\n",
       "    }\n",
       "\n",
       "    .dataframe thead th {\n",
       "        text-align: right;\n",
       "    }\n",
       "</style>\n",
       "<table border=\"1\" class=\"dataframe\">\n",
       "  <thead>\n",
       "    <tr style=\"text-align: right;\">\n",
       "      <th></th>\n",
       "      <th>tweet_id</th>\n",
       "      <th>Dog_Breed</th>\n",
       "      <th>The_animal_is_Dog</th>\n",
       "    </tr>\n",
       "  </thead>\n",
       "  <tbody>\n",
       "    <tr>\n",
       "      <th>0</th>\n",
       "      <td>666020888022790149</td>\n",
       "      <td>p1_dog</td>\n",
       "      <td>True</td>\n",
       "    </tr>\n",
       "    <tr>\n",
       "      <th>3842</th>\n",
       "      <td>666020888022790149</td>\n",
       "      <td>p3_dog</td>\n",
       "      <td>True</td>\n",
       "    </tr>\n",
       "    <tr>\n",
       "      <th>1921</th>\n",
       "      <td>666020888022790149</td>\n",
       "      <td>p2_dog</td>\n",
       "      <td>True</td>\n",
       "    </tr>\n",
       "    <tr>\n",
       "      <th>1</th>\n",
       "      <td>666029285002620928</td>\n",
       "      <td>p1_dog</td>\n",
       "      <td>True</td>\n",
       "    </tr>\n",
       "    <tr>\n",
       "      <th>3843</th>\n",
       "      <td>666029285002620928</td>\n",
       "      <td>p3_dog</td>\n",
       "      <td>True</td>\n",
       "    </tr>\n",
       "  </tbody>\n",
       "</table>\n",
       "</div>"
      ],
      "text/plain": [
       "                tweet_id Dog_Breed  The_animal_is_Dog\n",
       "0     666020888022790149    p1_dog               True\n",
       "3842  666020888022790149    p3_dog               True\n",
       "1921  666020888022790149    p2_dog               True\n",
       "1     666029285002620928    p1_dog               True\n",
       "3843  666029285002620928    p3_dog               True"
      ]
     },
     "execution_count": 251,
     "metadata": {},
     "output_type": "execute_result"
    }
   ],
   "source": [
    "dfDorB.head(5)\n"
   ]
  },
  {
   "cell_type": "code",
   "execution_count": 252,
   "metadata": {},
   "outputs": [],
   "source": [
    "dfalgos[\"confidence_level\"]=dfrank.confidence_level\n",
    "dfalgos[\"the_animal_is_dog\"]=dfDorB.The_animal_is_Dog"
   ]
  },
  {
   "cell_type": "code",
   "execution_count": 253,
   "metadata": {},
   "outputs": [
    {
     "data": {
      "text/plain": [
       "Index(['tweet_id', 'timestamp', 'text', 'rating_numerator',\n",
       "       'rating_denominator', 'name', 'dog_breed', 'rating', 'jpg_url',\n",
       "       'img_num', 'Prediction_Algorithms', 'Prediction_Algorithm_Name',\n",
       "       'confidence_level', 'the_animal_is_dog'],\n",
       "      dtype='object')"
      ]
     },
     "execution_count": 253,
     "metadata": {},
     "output_type": "execute_result"
    }
   ],
   "source": [
    "dfalgos.keys()\n"
   ]
  },
  {
   "cell_type": "code",
   "execution_count": 254,
   "metadata": {},
   "outputs": [
    {
     "data": {
      "text/plain": [
       "(5763, 14)"
      ]
     },
     "execution_count": 254,
     "metadata": {},
     "output_type": "execute_result"
    }
   ],
   "source": [
    "dfalgos.shape"
   ]
  },
  {
   "cell_type": "code",
   "execution_count": 255,
   "metadata": {},
   "outputs": [],
   "source": [
    "dfalgos.drop([\"Prediction_Algorithms\"],axis=1,inplace=True)"
   ]
  },
  {
   "cell_type": "code",
   "execution_count": 256,
   "metadata": {},
   "outputs": [
    {
     "data": {
      "text/html": [
       "<div>\n",
       "<style scoped>\n",
       "    .dataframe tbody tr th:only-of-type {\n",
       "        vertical-align: middle;\n",
       "    }\n",
       "\n",
       "    .dataframe tbody tr th {\n",
       "        vertical-align: top;\n",
       "    }\n",
       "\n",
       "    .dataframe thead th {\n",
       "        text-align: right;\n",
       "    }\n",
       "</style>\n",
       "<table border=\"1\" class=\"dataframe\">\n",
       "  <thead>\n",
       "    <tr style=\"text-align: right;\">\n",
       "      <th></th>\n",
       "      <th>tweet_id</th>\n",
       "      <th>timestamp</th>\n",
       "      <th>text</th>\n",
       "      <th>rating_numerator</th>\n",
       "      <th>rating_denominator</th>\n",
       "      <th>name</th>\n",
       "      <th>dog_breed</th>\n",
       "      <th>rating</th>\n",
       "      <th>jpg_url</th>\n",
       "      <th>img_num</th>\n",
       "      <th>Prediction_Algorithm_Name</th>\n",
       "      <th>confidence_level</th>\n",
       "      <th>the_animal_is_dog</th>\n",
       "    </tr>\n",
       "  </thead>\n",
       "  <tbody>\n",
       "    <tr>\n",
       "      <th>0</th>\n",
       "      <td>666020888022790149</td>\n",
       "      <td>2015-11-15 22:32:08+00:00</td>\n",
       "      <td>Here we have a Japanese Irish Setter. Lost eye...</td>\n",
       "      <td>$8.00</td>\n",
       "      <td>$10.00</td>\n",
       "      <td>NaN</td>\n",
       "      <td>NaN</td>\n",
       "      <td>$8.00</td>\n",
       "      <td>https://pbs.twimg.com/media/CT4udn0WwAA0aMy.jpg</td>\n",
       "      <td>1</td>\n",
       "      <td>Welsh_springer_spaniel</td>\n",
       "      <td>$0.47</td>\n",
       "      <td>True</td>\n",
       "    </tr>\n",
       "    <tr>\n",
       "      <th>3842</th>\n",
       "      <td>666020888022790149</td>\n",
       "      <td>2015-11-15 22:32:08+00:00</td>\n",
       "      <td>Here we have a Japanese Irish Setter. Lost eye...</td>\n",
       "      <td>$8.00</td>\n",
       "      <td>$10.00</td>\n",
       "      <td>NaN</td>\n",
       "      <td>NaN</td>\n",
       "      <td>$8.00</td>\n",
       "      <td>https://pbs.twimg.com/media/CT4udn0WwAA0aMy.jpg</td>\n",
       "      <td>1</td>\n",
       "      <td>Shetland_sheepdog</td>\n",
       "      <td>$0.06</td>\n",
       "      <td>True</td>\n",
       "    </tr>\n",
       "    <tr>\n",
       "      <th>1921</th>\n",
       "      <td>666020888022790149</td>\n",
       "      <td>2015-11-15 22:32:08+00:00</td>\n",
       "      <td>Here we have a Japanese Irish Setter. Lost eye...</td>\n",
       "      <td>$8.00</td>\n",
       "      <td>$10.00</td>\n",
       "      <td>NaN</td>\n",
       "      <td>NaN</td>\n",
       "      <td>$8.00</td>\n",
       "      <td>https://pbs.twimg.com/media/CT4udn0WwAA0aMy.jpg</td>\n",
       "      <td>1</td>\n",
       "      <td>collie</td>\n",
       "      <td>$0.16</td>\n",
       "      <td>True</td>\n",
       "    </tr>\n",
       "    <tr>\n",
       "      <th>1</th>\n",
       "      <td>666029285002620928</td>\n",
       "      <td>2015-11-15 23:05:30+00:00</td>\n",
       "      <td>This is a western brown Mitsubishi terrier. Up...</td>\n",
       "      <td>$7.00</td>\n",
       "      <td>$10.00</td>\n",
       "      <td>NaN</td>\n",
       "      <td>NaN</td>\n",
       "      <td>$7.00</td>\n",
       "      <td>https://pbs.twimg.com/media/CT42GRgUYAA5iDo.jpg</td>\n",
       "      <td>1</td>\n",
       "      <td>redbone</td>\n",
       "      <td>$0.51</td>\n",
       "      <td>True</td>\n",
       "    </tr>\n",
       "    <tr>\n",
       "      <th>3843</th>\n",
       "      <td>666029285002620928</td>\n",
       "      <td>2015-11-15 23:05:30+00:00</td>\n",
       "      <td>This is a western brown Mitsubishi terrier. Up...</td>\n",
       "      <td>$7.00</td>\n",
       "      <td>$10.00</td>\n",
       "      <td>NaN</td>\n",
       "      <td>NaN</td>\n",
       "      <td>$7.00</td>\n",
       "      <td>https://pbs.twimg.com/media/CT42GRgUYAA5iDo.jpg</td>\n",
       "      <td>1</td>\n",
       "      <td>Rhodesian_ridgeback</td>\n",
       "      <td>$0.07</td>\n",
       "      <td>True</td>\n",
       "    </tr>\n",
       "  </tbody>\n",
       "</table>\n",
       "</div>"
      ],
      "text/plain": [
       "                tweet_id                 timestamp  \\\n",
       "0     666020888022790149 2015-11-15 22:32:08+00:00   \n",
       "3842  666020888022790149 2015-11-15 22:32:08+00:00   \n",
       "1921  666020888022790149 2015-11-15 22:32:08+00:00   \n",
       "1     666029285002620928 2015-11-15 23:05:30+00:00   \n",
       "3843  666029285002620928 2015-11-15 23:05:30+00:00   \n",
       "\n",
       "                                                   text  rating_numerator  \\\n",
       "0     Here we have a Japanese Irish Setter. Lost eye...             $8.00   \n",
       "3842  Here we have a Japanese Irish Setter. Lost eye...             $8.00   \n",
       "1921  Here we have a Japanese Irish Setter. Lost eye...             $8.00   \n",
       "1     This is a western brown Mitsubishi terrier. Up...             $7.00   \n",
       "3843  This is a western brown Mitsubishi terrier. Up...             $7.00   \n",
       "\n",
       "      rating_denominator name dog_breed  rating  \\\n",
       "0                 $10.00  NaN       NaN   $8.00   \n",
       "3842              $10.00  NaN       NaN   $8.00   \n",
       "1921              $10.00  NaN       NaN   $8.00   \n",
       "1                 $10.00  NaN       NaN   $7.00   \n",
       "3843              $10.00  NaN       NaN   $7.00   \n",
       "\n",
       "                                              jpg_url  img_num  \\\n",
       "0     https://pbs.twimg.com/media/CT4udn0WwAA0aMy.jpg        1   \n",
       "3842  https://pbs.twimg.com/media/CT4udn0WwAA0aMy.jpg        1   \n",
       "1921  https://pbs.twimg.com/media/CT4udn0WwAA0aMy.jpg        1   \n",
       "1     https://pbs.twimg.com/media/CT42GRgUYAA5iDo.jpg        1   \n",
       "3843  https://pbs.twimg.com/media/CT42GRgUYAA5iDo.jpg        1   \n",
       "\n",
       "     Prediction_Algorithm_Name  confidence_level  the_animal_is_dog  \n",
       "0       Welsh_springer_spaniel             $0.47               True  \n",
       "3842         Shetland_sheepdog             $0.06               True  \n",
       "1921                    collie             $0.16               True  \n",
       "1                      redbone             $0.51               True  \n",
       "3843       Rhodesian_ridgeback             $0.07               True  "
      ]
     },
     "execution_count": 256,
     "metadata": {},
     "output_type": "execute_result"
    }
   ],
   "source": [
    "dfalgos.head()"
   ]
  },
  {
   "cell_type": "markdown",
   "metadata": {},
   "source": [
    "<h2>Clean_Api_Data </h2>\n"
   ]
  },
  {
   "cell_type": "code",
   "execution_count": 257,
   "metadata": {},
   "outputs": [],
   "source": [
    "df3=df3.rename(columns={\"id\":\"tweet_id\"})\n",
    "df3=df3[df3.tweet_id.isin(pred_ids)]"
   ]
  },
  {
   "cell_type": "code",
   "execution_count": 258,
   "metadata": {},
   "outputs": [
    {
     "name": "stdout",
     "output_type": "stream",
     "text": [
      "<class 'pandas.core.frame.DataFrame'>\n",
      "Int64Index: 1914 entries, 0 to 2330\n",
      "Data columns (total 3 columns):\n",
      " #   Column          Non-Null Count  Dtype\n",
      "---  ------          --------------  -----\n",
      " 0   tweet_id        1914 non-null   int64\n",
      " 1   retweets_count  1914 non-null   int64\n",
      " 2   favorite_count  1914 non-null   int64\n",
      "dtypes: int64(3)\n",
      "memory usage: 59.8 KB\n"
     ]
    }
   ],
   "source": [
    "df3.info()"
   ]
  },
  {
   "cell_type": "markdown",
   "metadata": {},
   "source": [
    "### Final DataFrame"
   ]
  },
  {
   "cell_type": "code",
   "execution_count": 259,
   "metadata": {},
   "outputs": [],
   "source": [
    "df_final = pd.merge(left=dfalgos, right=df3, how='left', left_on='tweet_id', right_on='tweet_id')"
   ]
  },
  {
   "cell_type": "code",
   "execution_count": 260,
   "metadata": {},
   "outputs": [
    {
     "data": {
      "text/plain": [
       "(5763, 15)"
      ]
     },
     "execution_count": 260,
     "metadata": {},
     "output_type": "execute_result"
    }
   ],
   "source": [
    "df_final.shape"
   ]
  },
  {
   "cell_type": "code",
   "execution_count": 261,
   "metadata": {},
   "outputs": [
    {
     "data": {
      "text/html": [
       "<div>\n",
       "<style scoped>\n",
       "    .dataframe tbody tr th:only-of-type {\n",
       "        vertical-align: middle;\n",
       "    }\n",
       "\n",
       "    .dataframe tbody tr th {\n",
       "        vertical-align: top;\n",
       "    }\n",
       "\n",
       "    .dataframe thead th {\n",
       "        text-align: right;\n",
       "    }\n",
       "</style>\n",
       "<table border=\"1\" class=\"dataframe\">\n",
       "  <thead>\n",
       "    <tr style=\"text-align: right;\">\n",
       "      <th></th>\n",
       "      <th>tweet_id</th>\n",
       "      <th>timestamp</th>\n",
       "      <th>text</th>\n",
       "      <th>rating_numerator</th>\n",
       "      <th>rating_denominator</th>\n",
       "      <th>name</th>\n",
       "      <th>dog_breed</th>\n",
       "      <th>rating</th>\n",
       "      <th>jpg_url</th>\n",
       "      <th>img_num</th>\n",
       "      <th>Prediction_Algorithm_Name</th>\n",
       "      <th>confidence_level</th>\n",
       "      <th>the_animal_is_dog</th>\n",
       "      <th>retweets_count</th>\n",
       "      <th>favorite_count</th>\n",
       "    </tr>\n",
       "  </thead>\n",
       "  <tbody>\n",
       "    <tr>\n",
       "      <th>2159</th>\n",
       "      <td>689275259254616065</td>\n",
       "      <td>2016-01-19 02:36:42+00:00</td>\n",
       "      <td>Meet Lucky. He was showing his friends an extr...</td>\n",
       "      <td>$10.00</td>\n",
       "      <td>$10.00</td>\n",
       "      <td>Lucky</td>\n",
       "      <td>NaN</td>\n",
       "      <td>$10.00</td>\n",
       "      <td>https://pbs.twimg.com/media/CZDMMY0WEAAQYjQ.jpg</td>\n",
       "      <td>1</td>\n",
       "      <td>American_Staffordshire_terrier</td>\n",
       "      <td>$0.22</td>\n",
       "      <td>True</td>\n",
       "      <td>$235.00</td>\n",
       "      <td>$1,108.00</td>\n",
       "    </tr>\n",
       "    <tr>\n",
       "      <th>1658</th>\n",
       "      <td>679503373272485890</td>\n",
       "      <td>2015-12-23 03:26:43+00:00</td>\n",
       "      <td>This is Dwight. He's a pointy pupper. Very doc...</td>\n",
       "      <td>$8.00</td>\n",
       "      <td>$10.00</td>\n",
       "      <td>Dwight</td>\n",
       "      <td>pupper</td>\n",
       "      <td>$8.00</td>\n",
       "      <td>https://pbs.twimg.com/media/CW4UtmYWsAAEjqA.jpg</td>\n",
       "      <td>1</td>\n",
       "      <td>echidna</td>\n",
       "      <td>$0.00</td>\n",
       "      <td>False</td>\n",
       "      <td>$1,402.00</td>\n",
       "      <td>$3,050.00</td>\n",
       "    </tr>\n",
       "    <tr>\n",
       "      <th>5593</th>\n",
       "      <td>879862464715927552</td>\n",
       "      <td>2017-06-28 00:42:13+00:00</td>\n",
       "      <td>This is Romeo. He would like to do an entrance...</td>\n",
       "      <td>$13.00</td>\n",
       "      <td>$10.00</td>\n",
       "      <td>Romeo</td>\n",
       "      <td>NaN</td>\n",
       "      <td>$13.00</td>\n",
       "      <td>https://pbs.twimg.com/media/DDXmPrbWAAEKMvy.jpg</td>\n",
       "      <td>3</td>\n",
       "      <td>cocker_spaniel</td>\n",
       "      <td>$0.01</td>\n",
       "      <td>True</td>\n",
       "      <td>$3,071.00</td>\n",
       "      <td>$20,455.00</td>\n",
       "    </tr>\n",
       "    <tr>\n",
       "      <th>5744</th>\n",
       "      <td>890971913173991426</td>\n",
       "      <td>2017-07-28 16:27:12+00:00</td>\n",
       "      <td>Meet Jax. He enjoys ice cream so much he gets ...</td>\n",
       "      <td>$13.00</td>\n",
       "      <td>$10.00</td>\n",
       "      <td>Jax</td>\n",
       "      <td>NaN</td>\n",
       "      <td>$13.00</td>\n",
       "      <td>https://pbs.twimg.com/media/DF1eOmZXUAALUcq.jpg</td>\n",
       "      <td>1</td>\n",
       "      <td>Border_collie</td>\n",
       "      <td>$0.20</td>\n",
       "      <td>True</td>\n",
       "      <td>$1,776.00</td>\n",
       "      <td>$10,771.00</td>\n",
       "    </tr>\n",
       "    <tr>\n",
       "      <th>5269</th>\n",
       "      <td>851224888060895234</td>\n",
       "      <td>2017-04-10 00:06:42+00:00</td>\n",
       "      <td>Meet Snoop. His number one passion is sticking...</td>\n",
       "      <td>$13.00</td>\n",
       "      <td>$10.00</td>\n",
       "      <td>Snoop</td>\n",
       "      <td>NaN</td>\n",
       "      <td>$13.00</td>\n",
       "      <td>https://pbs.twimg.com/media/C9AohFoWsAUmxDs.jpg</td>\n",
       "      <td>3</td>\n",
       "      <td>standard_poodle</td>\n",
       "      <td>$0.01</td>\n",
       "      <td>True</td>\n",
       "      <td>$5,444.00</td>\n",
       "      <td>$19,819.00</td>\n",
       "    </tr>\n",
       "    <tr>\n",
       "      <th>792</th>\n",
       "      <td>671163268581498880</td>\n",
       "      <td>2015-11-30 03:06:07+00:00</td>\n",
       "      <td>Pack of horned dogs here. Very team-oriented b...</td>\n",
       "      <td>$8.00</td>\n",
       "      <td>$10.00</td>\n",
       "      <td>NaN</td>\n",
       "      <td>NaN</td>\n",
       "      <td>$8.00</td>\n",
       "      <td>https://pbs.twimg.com/media/CVBzbWsWsAEyNMA.jpg</td>\n",
       "      <td>1</td>\n",
       "      <td>plow</td>\n",
       "      <td>$0.12</td>\n",
       "      <td>False</td>\n",
       "      <td>$1,018.00</td>\n",
       "      <td>$1,532.00</td>\n",
       "    </tr>\n",
       "    <tr>\n",
       "      <th>4131</th>\n",
       "      <td>778624900596654080</td>\n",
       "      <td>2016-09-21 16:00:17+00:00</td>\n",
       "      <td>This is Penny. She's a sailor pup. 11/10 would...</td>\n",
       "      <td>$11.00</td>\n",
       "      <td>$10.00</td>\n",
       "      <td>Penny</td>\n",
       "      <td>NaN</td>\n",
       "      <td>$11.00</td>\n",
       "      <td>https://pbs.twimg.com/media/Cs47N3eWcAEmgiW.jpg</td>\n",
       "      <td>2</td>\n",
       "      <td>Lakeland_terrier</td>\n",
       "      <td>$0.01</td>\n",
       "      <td>True</td>\n",
       "      <td>$993.00</td>\n",
       "      <td>$4,546.00</td>\n",
       "    </tr>\n",
       "    <tr>\n",
       "      <th>5576</th>\n",
       "      <td>878776093423087618</td>\n",
       "      <td>2017-06-25 00:45:22+00:00</td>\n",
       "      <td>This is Snoopy. He's a proud #PrideMonthPuppo....</td>\n",
       "      <td>$13.00</td>\n",
       "      <td>$10.00</td>\n",
       "      <td>Snoopy</td>\n",
       "      <td>puppo</td>\n",
       "      <td>$13.00</td>\n",
       "      <td>https://pbs.twimg.com/media/DDIKMXzW0AEibje.jpg</td>\n",
       "      <td>2</td>\n",
       "      <td>Ibizan_hound</td>\n",
       "      <td>$0.04</td>\n",
       "      <td>True</td>\n",
       "      <td>$3,616.00</td>\n",
       "      <td>$17,740.00</td>\n",
       "    </tr>\n",
       "    <tr>\n",
       "      <th>5707</th>\n",
       "      <td>888554962724278272</td>\n",
       "      <td>2017-07-22 00:23:06+00:00</td>\n",
       "      <td>This is Ralphus. He's powering up. Attempting ...</td>\n",
       "      <td>$13.00</td>\n",
       "      <td>$10.00</td>\n",
       "      <td>Ralphus</td>\n",
       "      <td>NaN</td>\n",
       "      <td>$13.00</td>\n",
       "      <td>https://pbs.twimg.com/media/DFTH_O-UQAACu20.jpg</td>\n",
       "      <td>3</td>\n",
       "      <td>Eskimo_dog</td>\n",
       "      <td>$0.17</td>\n",
       "      <td>True</td>\n",
       "      <td>$3,043.00</td>\n",
       "      <td>$18,007.00</td>\n",
       "    </tr>\n",
       "    <tr>\n",
       "      <th>3739</th>\n",
       "      <td>755110668769038337</td>\n",
       "      <td>2016-07-18 18:43:07+00:00</td>\n",
       "      <td>This is Watson. He trust falls on command. 13/...</td>\n",
       "      <td>$13.00</td>\n",
       "      <td>$10.00</td>\n",
       "      <td>Watson</td>\n",
       "      <td>NaN</td>\n",
       "      <td>$13.00</td>\n",
       "      <td>https://pbs.twimg.com/ext_tw_video_thumb/75511...</td>\n",
       "      <td>1</td>\n",
       "      <td>golden_retriever</td>\n",
       "      <td>$0.11</td>\n",
       "      <td>True</td>\n",
       "      <td>$10,791.00</td>\n",
       "      <td>$20,678.00</td>\n",
       "    </tr>\n",
       "    <tr>\n",
       "      <th>3542</th>\n",
       "      <td>747594051852075008</td>\n",
       "      <td>2016-06-28 00:54:46+00:00</td>\n",
       "      <td>Again w the sharks guys. This week is about do...</td>\n",
       "      <td>$11.00</td>\n",
       "      <td>$10.00</td>\n",
       "      <td>NaN</td>\n",
       "      <td>NaN</td>\n",
       "      <td>$11.00</td>\n",
       "      <td>https://pbs.twimg.com/media/Cl_80k5WkAEbo9m.jpg</td>\n",
       "      <td>1</td>\n",
       "      <td>basenji</td>\n",
       "      <td>$0.39</td>\n",
       "      <td>True</td>\n",
       "      <td>$1,017.00</td>\n",
       "      <td>$3,566.00</td>\n",
       "    </tr>\n",
       "    <tr>\n",
       "      <th>4663</th>\n",
       "      <td>813127251579564032</td>\n",
       "      <td>2016-12-25 21:00:18+00:00</td>\n",
       "      <td>Here's an anonymous doggo that appears to be v...</td>\n",
       "      <td>$11.00</td>\n",
       "      <td>$10.00</td>\n",
       "      <td>NaN</td>\n",
       "      <td>doggo</td>\n",
       "      <td>$11.00</td>\n",
       "      <td>https://pbs.twimg.com/media/C0jO6aBWEAAM28r.jpg</td>\n",
       "      <td>1</td>\n",
       "      <td>Siberian_husky</td>\n",
       "      <td>$0.03</td>\n",
       "      <td>True</td>\n",
       "      <td>$3,065.00</td>\n",
       "      <td>$11,684.00</td>\n",
       "    </tr>\n",
       "    <tr>\n",
       "      <th>1359</th>\n",
       "      <td>675531475945709568</td>\n",
       "      <td>2015-12-12 04:23:49+00:00</td>\n",
       "      <td>This is Ellie AKA Queen Slayer of the Orbs. Ve...</td>\n",
       "      <td>$10.00</td>\n",
       "      <td>$10.00</td>\n",
       "      <td>Ellie</td>\n",
       "      <td>NaN</td>\n",
       "      <td>$10.00</td>\n",
       "      <td>https://pbs.twimg.com/media/CV_4ShmUYAA3wNu.jpg</td>\n",
       "      <td>1</td>\n",
       "      <td>Pembroke</td>\n",
       "      <td>$0.92</td>\n",
       "      <td>True</td>\n",
       "      <td>$358.00</td>\n",
       "      <td>$1,117.00</td>\n",
       "    </tr>\n",
       "    <tr>\n",
       "      <th>1224</th>\n",
       "      <td>674436901579923456</td>\n",
       "      <td>2015-12-09 03:54:22+00:00</td>\n",
       "      <td>Meet Bailey. She plays with her food. Very chi...</td>\n",
       "      <td>$9.00</td>\n",
       "      <td>$10.00</td>\n",
       "      <td>Bailey</td>\n",
       "      <td>NaN</td>\n",
       "      <td>$9.00</td>\n",
       "      <td>https://pbs.twimg.com/media/CVwUyM9WwAAGDjv.jpg</td>\n",
       "      <td>1</td>\n",
       "      <td>acorn_squash</td>\n",
       "      <td>$0.38</td>\n",
       "      <td>False</td>\n",
       "      <td>$363.00</td>\n",
       "      <td>$1,042.00</td>\n",
       "    </tr>\n",
       "    <tr>\n",
       "      <th>1079</th>\n",
       "      <td>673345638550134785</td>\n",
       "      <td>2015-12-06 03:38:05+00:00</td>\n",
       "      <td>This is Gerald. He's a fluffy lil yellow pup. ...</td>\n",
       "      <td>$7.00</td>\n",
       "      <td>$10.00</td>\n",
       "      <td>Gerald</td>\n",
       "      <td>NaN</td>\n",
       "      <td>$7.00</td>\n",
       "      <td>https://pbs.twimg.com/media/CVg0SVRWEAAsBrS.jpg</td>\n",
       "      <td>1</td>\n",
       "      <td>hamster</td>\n",
       "      <td>$0.76</td>\n",
       "      <td>False</td>\n",
       "      <td>$1,170.00</td>\n",
       "      <td>$2,347.00</td>\n",
       "    </tr>\n",
       "    <tr>\n",
       "      <th>3176</th>\n",
       "      <td>726887082820554753</td>\n",
       "      <td>2016-05-01 21:32:40+00:00</td>\n",
       "      <td>This is Blitz. He's a new dad struggling to co...</td>\n",
       "      <td>$10.00</td>\n",
       "      <td>$10.00</td>\n",
       "      <td>Blitz</td>\n",
       "      <td>NaN</td>\n",
       "      <td>$10.00</td>\n",
       "      <td>https://pbs.twimg.com/media/ChZr8SdWIAAVQKt.jpg</td>\n",
       "      <td>1</td>\n",
       "      <td>Irish_terrier</td>\n",
       "      <td>$0.16</td>\n",
       "      <td>True</td>\n",
       "      <td>$1,451.00</td>\n",
       "      <td>$3,695.00</td>\n",
       "    </tr>\n",
       "    <tr>\n",
       "      <th>1827</th>\n",
       "      <td>682047327939461121</td>\n",
       "      <td>2015-12-30 03:55:29+00:00</td>\n",
       "      <td>We normally don't rate bears but this one seem...</td>\n",
       "      <td>$10.00</td>\n",
       "      <td>$10.00</td>\n",
       "      <td>NaN</td>\n",
       "      <td>NaN</td>\n",
       "      <td>$10.00</td>\n",
       "      <td>https://pbs.twimg.com/media/CXcebTeWsAUQJ-J.jpg</td>\n",
       "      <td>1</td>\n",
       "      <td>teddy</td>\n",
       "      <td>$0.36</td>\n",
       "      <td>False</td>\n",
       "      <td>$900.00</td>\n",
       "      <td>$3,082.00</td>\n",
       "    </tr>\n",
       "    <tr>\n",
       "      <th>3688</th>\n",
       "      <td>752334515931054080</td>\n",
       "      <td>2016-07-11 02:51:40+00:00</td>\n",
       "      <td>Here's a doggo trying to catch some fish. 8/10...</td>\n",
       "      <td>$8.00</td>\n",
       "      <td>$10.00</td>\n",
       "      <td>NaN</td>\n",
       "      <td>doggo</td>\n",
       "      <td>$8.00</td>\n",
       "      <td>https://pbs.twimg.com/ext_tw_video_thumb/75233...</td>\n",
       "      <td>1</td>\n",
       "      <td>wire-haired_fox_terrier</td>\n",
       "      <td>$0.08</td>\n",
       "      <td>True</td>\n",
       "      <td>$1,068.00</td>\n",
       "      <td>$3,723.00</td>\n",
       "    </tr>\n",
       "    <tr>\n",
       "      <th>751</th>\n",
       "      <td>670823764196741120</td>\n",
       "      <td>2015-11-29 04:37:03+00:00</td>\n",
       "      <td>This is Remington. He's a man dime. 12/10 http...</td>\n",
       "      <td>$12.00</td>\n",
       "      <td>$10.00</td>\n",
       "      <td>Remington</td>\n",
       "      <td>NaN</td>\n",
       "      <td>$12.00</td>\n",
       "      <td>https://pbs.twimg.com/media/CU8-puBWwAAR8Xl.jpg</td>\n",
       "      <td>1</td>\n",
       "      <td>Weimaraner</td>\n",
       "      <td>$0.02</td>\n",
       "      <td>True</td>\n",
       "      <td>$172.00</td>\n",
       "      <td>$726.00</td>\n",
       "    </tr>\n",
       "    <tr>\n",
       "      <th>1760</th>\n",
       "      <td>680889648562991104</td>\n",
       "      <td>2015-12-26 23:15:17+00:00</td>\n",
       "      <td>This is Cheesy. It's her birthday. She's patie...</td>\n",
       "      <td>$9.00</td>\n",
       "      <td>$10.00</td>\n",
       "      <td>Cheesy</td>\n",
       "      <td>NaN</td>\n",
       "      <td>$9.00</td>\n",
       "      <td>https://pbs.twimg.com/media/CXMBhXfWEAA4mMI.jpg</td>\n",
       "      <td>1</td>\n",
       "      <td>collie</td>\n",
       "      <td>$0.08</td>\n",
       "      <td>True</td>\n",
       "      <td>$353.00</td>\n",
       "      <td>$1,700.00</td>\n",
       "    </tr>\n",
       "  </tbody>\n",
       "</table>\n",
       "</div>"
      ],
      "text/plain": [
       "                tweet_id                 timestamp  \\\n",
       "2159  689275259254616065 2016-01-19 02:36:42+00:00   \n",
       "1658  679503373272485890 2015-12-23 03:26:43+00:00   \n",
       "5593  879862464715927552 2017-06-28 00:42:13+00:00   \n",
       "5744  890971913173991426 2017-07-28 16:27:12+00:00   \n",
       "5269  851224888060895234 2017-04-10 00:06:42+00:00   \n",
       "792   671163268581498880 2015-11-30 03:06:07+00:00   \n",
       "4131  778624900596654080 2016-09-21 16:00:17+00:00   \n",
       "5576  878776093423087618 2017-06-25 00:45:22+00:00   \n",
       "5707  888554962724278272 2017-07-22 00:23:06+00:00   \n",
       "3739  755110668769038337 2016-07-18 18:43:07+00:00   \n",
       "3542  747594051852075008 2016-06-28 00:54:46+00:00   \n",
       "4663  813127251579564032 2016-12-25 21:00:18+00:00   \n",
       "1359  675531475945709568 2015-12-12 04:23:49+00:00   \n",
       "1224  674436901579923456 2015-12-09 03:54:22+00:00   \n",
       "1079  673345638550134785 2015-12-06 03:38:05+00:00   \n",
       "3176  726887082820554753 2016-05-01 21:32:40+00:00   \n",
       "1827  682047327939461121 2015-12-30 03:55:29+00:00   \n",
       "3688  752334515931054080 2016-07-11 02:51:40+00:00   \n",
       "751   670823764196741120 2015-11-29 04:37:03+00:00   \n",
       "1760  680889648562991104 2015-12-26 23:15:17+00:00   \n",
       "\n",
       "                                                   text  rating_numerator  \\\n",
       "2159  Meet Lucky. He was showing his friends an extr...            $10.00   \n",
       "1658  This is Dwight. He's a pointy pupper. Very doc...             $8.00   \n",
       "5593  This is Romeo. He would like to do an entrance...            $13.00   \n",
       "5744  Meet Jax. He enjoys ice cream so much he gets ...            $13.00   \n",
       "5269  Meet Snoop. His number one passion is sticking...            $13.00   \n",
       "792   Pack of horned dogs here. Very team-oriented b...             $8.00   \n",
       "4131  This is Penny. She's a sailor pup. 11/10 would...            $11.00   \n",
       "5576  This is Snoopy. He's a proud #PrideMonthPuppo....            $13.00   \n",
       "5707  This is Ralphus. He's powering up. Attempting ...            $13.00   \n",
       "3739  This is Watson. He trust falls on command. 13/...            $13.00   \n",
       "3542  Again w the sharks guys. This week is about do...            $11.00   \n",
       "4663  Here's an anonymous doggo that appears to be v...            $11.00   \n",
       "1359  This is Ellie AKA Queen Slayer of the Orbs. Ve...            $10.00   \n",
       "1224  Meet Bailey. She plays with her food. Very chi...             $9.00   \n",
       "1079  This is Gerald. He's a fluffy lil yellow pup. ...             $7.00   \n",
       "3176  This is Blitz. He's a new dad struggling to co...            $10.00   \n",
       "1827  We normally don't rate bears but this one seem...            $10.00   \n",
       "3688  Here's a doggo trying to catch some fish. 8/10...             $8.00   \n",
       "751   This is Remington. He's a man dime. 12/10 http...            $12.00   \n",
       "1760  This is Cheesy. It's her birthday. She's patie...             $9.00   \n",
       "\n",
       "      rating_denominator       name dog_breed  rating  \\\n",
       "2159              $10.00      Lucky       NaN  $10.00   \n",
       "1658              $10.00     Dwight    pupper   $8.00   \n",
       "5593              $10.00      Romeo       NaN  $13.00   \n",
       "5744              $10.00        Jax       NaN  $13.00   \n",
       "5269              $10.00      Snoop       NaN  $13.00   \n",
       "792               $10.00        NaN       NaN   $8.00   \n",
       "4131              $10.00      Penny       NaN  $11.00   \n",
       "5576              $10.00     Snoopy     puppo  $13.00   \n",
       "5707              $10.00    Ralphus       NaN  $13.00   \n",
       "3739              $10.00     Watson       NaN  $13.00   \n",
       "3542              $10.00        NaN       NaN  $11.00   \n",
       "4663              $10.00        NaN     doggo  $11.00   \n",
       "1359              $10.00      Ellie       NaN  $10.00   \n",
       "1224              $10.00     Bailey       NaN   $9.00   \n",
       "1079              $10.00     Gerald       NaN   $7.00   \n",
       "3176              $10.00      Blitz       NaN  $10.00   \n",
       "1827              $10.00        NaN       NaN  $10.00   \n",
       "3688              $10.00        NaN     doggo   $8.00   \n",
       "751               $10.00  Remington       NaN  $12.00   \n",
       "1760              $10.00     Cheesy       NaN   $9.00   \n",
       "\n",
       "                                                jpg_url  img_num  \\\n",
       "2159    https://pbs.twimg.com/media/CZDMMY0WEAAQYjQ.jpg        1   \n",
       "1658    https://pbs.twimg.com/media/CW4UtmYWsAAEjqA.jpg        1   \n",
       "5593    https://pbs.twimg.com/media/DDXmPrbWAAEKMvy.jpg        3   \n",
       "5744    https://pbs.twimg.com/media/DF1eOmZXUAALUcq.jpg        1   \n",
       "5269    https://pbs.twimg.com/media/C9AohFoWsAUmxDs.jpg        3   \n",
       "792     https://pbs.twimg.com/media/CVBzbWsWsAEyNMA.jpg        1   \n",
       "4131    https://pbs.twimg.com/media/Cs47N3eWcAEmgiW.jpg        2   \n",
       "5576    https://pbs.twimg.com/media/DDIKMXzW0AEibje.jpg        2   \n",
       "5707    https://pbs.twimg.com/media/DFTH_O-UQAACu20.jpg        3   \n",
       "3739  https://pbs.twimg.com/ext_tw_video_thumb/75511...        1   \n",
       "3542    https://pbs.twimg.com/media/Cl_80k5WkAEbo9m.jpg        1   \n",
       "4663    https://pbs.twimg.com/media/C0jO6aBWEAAM28r.jpg        1   \n",
       "1359    https://pbs.twimg.com/media/CV_4ShmUYAA3wNu.jpg        1   \n",
       "1224    https://pbs.twimg.com/media/CVwUyM9WwAAGDjv.jpg        1   \n",
       "1079    https://pbs.twimg.com/media/CVg0SVRWEAAsBrS.jpg        1   \n",
       "3176    https://pbs.twimg.com/media/ChZr8SdWIAAVQKt.jpg        1   \n",
       "1827    https://pbs.twimg.com/media/CXcebTeWsAUQJ-J.jpg        1   \n",
       "3688  https://pbs.twimg.com/ext_tw_video_thumb/75233...        1   \n",
       "751     https://pbs.twimg.com/media/CU8-puBWwAAR8Xl.jpg        1   \n",
       "1760    https://pbs.twimg.com/media/CXMBhXfWEAA4mMI.jpg        1   \n",
       "\n",
       "           Prediction_Algorithm_Name  confidence_level  the_animal_is_dog  \\\n",
       "2159  American_Staffordshire_terrier             $0.22               True   \n",
       "1658                         echidna             $0.00              False   \n",
       "5593                  cocker_spaniel             $0.01               True   \n",
       "5744                   Border_collie             $0.20               True   \n",
       "5269                 standard_poodle             $0.01               True   \n",
       "792                             plow             $0.12              False   \n",
       "4131                Lakeland_terrier             $0.01               True   \n",
       "5576                    Ibizan_hound             $0.04               True   \n",
       "5707                      Eskimo_dog             $0.17               True   \n",
       "3739                golden_retriever             $0.11               True   \n",
       "3542                         basenji             $0.39               True   \n",
       "4663                  Siberian_husky             $0.03               True   \n",
       "1359                        Pembroke             $0.92               True   \n",
       "1224                    acorn_squash             $0.38              False   \n",
       "1079                         hamster             $0.76              False   \n",
       "3176                   Irish_terrier             $0.16               True   \n",
       "1827                           teddy             $0.36              False   \n",
       "3688         wire-haired_fox_terrier             $0.08               True   \n",
       "751                       Weimaraner             $0.02               True   \n",
       "1760                          collie             $0.08               True   \n",
       "\n",
       "      retweets_count  favorite_count  \n",
       "2159         $235.00       $1,108.00  \n",
       "1658       $1,402.00       $3,050.00  \n",
       "5593       $3,071.00      $20,455.00  \n",
       "5744       $1,776.00      $10,771.00  \n",
       "5269       $5,444.00      $19,819.00  \n",
       "792        $1,018.00       $1,532.00  \n",
       "4131         $993.00       $4,546.00  \n",
       "5576       $3,616.00      $17,740.00  \n",
       "5707       $3,043.00      $18,007.00  \n",
       "3739      $10,791.00      $20,678.00  \n",
       "3542       $1,017.00       $3,566.00  \n",
       "4663       $3,065.00      $11,684.00  \n",
       "1359         $358.00       $1,117.00  \n",
       "1224         $363.00       $1,042.00  \n",
       "1079       $1,170.00       $2,347.00  \n",
       "3176       $1,451.00       $3,695.00  \n",
       "1827         $900.00       $3,082.00  \n",
       "3688       $1,068.00       $3,723.00  \n",
       "751          $172.00         $726.00  \n",
       "1760         $353.00       $1,700.00  "
      ]
     },
     "execution_count": 261,
     "metadata": {},
     "output_type": "execute_result"
    }
   ],
   "source": [
    "df_final.sample(20)"
   ]
  },
  {
   "cell_type": "code",
   "execution_count": 262,
   "metadata": {},
   "outputs": [
    {
     "data": {
      "text/html": [
       "<div>\n",
       "<style scoped>\n",
       "    .dataframe tbody tr th:only-of-type {\n",
       "        vertical-align: middle;\n",
       "    }\n",
       "\n",
       "    .dataframe tbody tr th {\n",
       "        vertical-align: top;\n",
       "    }\n",
       "\n",
       "    .dataframe thead th {\n",
       "        text-align: right;\n",
       "    }\n",
       "</style>\n",
       "<table border=\"1\" class=\"dataframe\">\n",
       "  <thead>\n",
       "    <tr style=\"text-align: right;\">\n",
       "      <th></th>\n",
       "      <th>tweet_id</th>\n",
       "      <th>timestamp</th>\n",
       "      <th>text</th>\n",
       "      <th>rating_numerator</th>\n",
       "      <th>rating_denominator</th>\n",
       "      <th>name</th>\n",
       "      <th>dog_breed</th>\n",
       "      <th>rating</th>\n",
       "      <th>jpg_url</th>\n",
       "      <th>img_num</th>\n",
       "      <th>Prediction_Algorithm_Name</th>\n",
       "      <th>confidence_level</th>\n",
       "      <th>the_animal_is_dog</th>\n",
       "      <th>retweets_count</th>\n",
       "      <th>favorite_count</th>\n",
       "    </tr>\n",
       "  </thead>\n",
       "  <tbody>\n",
       "    <tr>\n",
       "      <th>5758</th>\n",
       "      <td>892177421306343426</td>\n",
       "      <td>2017-08-01 00:17:27+00:00</td>\n",
       "      <td>This is Tilly. She's just checking pup on you....</td>\n",
       "      <td>$13.00</td>\n",
       "      <td>$10.00</td>\n",
       "      <td>Tilly</td>\n",
       "      <td>NaN</td>\n",
       "      <td>$13.00</td>\n",
       "      <td>https://pbs.twimg.com/media/DGGmoV4XsAAUL6n.jpg</td>\n",
       "      <td>1</td>\n",
       "      <td>Chihuahua</td>\n",
       "      <td>$0.32</td>\n",
       "      <td>True</td>\n",
       "      <td>$5,522.00</td>\n",
       "      <td>$30,461.00</td>\n",
       "    </tr>\n",
       "    <tr>\n",
       "      <th>5759</th>\n",
       "      <td>892177421306343426</td>\n",
       "      <td>2017-08-01 00:17:27+00:00</td>\n",
       "      <td>This is Tilly. She's just checking pup on you....</td>\n",
       "      <td>$13.00</td>\n",
       "      <td>$10.00</td>\n",
       "      <td>Tilly</td>\n",
       "      <td>NaN</td>\n",
       "      <td>$13.00</td>\n",
       "      <td>https://pbs.twimg.com/media/DGGmoV4XsAAUL6n.jpg</td>\n",
       "      <td>1</td>\n",
       "      <td>Pekinese</td>\n",
       "      <td>$0.09</td>\n",
       "      <td>True</td>\n",
       "      <td>$5,522.00</td>\n",
       "      <td>$30,461.00</td>\n",
       "    </tr>\n",
       "    <tr>\n",
       "      <th>5760</th>\n",
       "      <td>892420643555336193</td>\n",
       "      <td>2017-08-01 16:23:56+00:00</td>\n",
       "      <td>This is Phineas. He's a mystical boy. Only eve...</td>\n",
       "      <td>$13.00</td>\n",
       "      <td>$10.00</td>\n",
       "      <td>Phineas</td>\n",
       "      <td>NaN</td>\n",
       "      <td>$13.00</td>\n",
       "      <td>https://pbs.twimg.com/media/DGKD1-bXoAAIAUK.jpg</td>\n",
       "      <td>1</td>\n",
       "      <td>bagel</td>\n",
       "      <td>$0.09</td>\n",
       "      <td>False</td>\n",
       "      <td>$7,425.00</td>\n",
       "      <td>$35,194.00</td>\n",
       "    </tr>\n",
       "    <tr>\n",
       "      <th>5761</th>\n",
       "      <td>892420643555336193</td>\n",
       "      <td>2017-08-01 16:23:56+00:00</td>\n",
       "      <td>This is Phineas. He's a mystical boy. Only eve...</td>\n",
       "      <td>$13.00</td>\n",
       "      <td>$10.00</td>\n",
       "      <td>Phineas</td>\n",
       "      <td>NaN</td>\n",
       "      <td>$13.00</td>\n",
       "      <td>https://pbs.twimg.com/media/DGKD1-bXoAAIAUK.jpg</td>\n",
       "      <td>1</td>\n",
       "      <td>orange</td>\n",
       "      <td>$0.10</td>\n",
       "      <td>False</td>\n",
       "      <td>$7,425.00</td>\n",
       "      <td>$35,194.00</td>\n",
       "    </tr>\n",
       "    <tr>\n",
       "      <th>5762</th>\n",
       "      <td>892420643555336193</td>\n",
       "      <td>2017-08-01 16:23:56+00:00</td>\n",
       "      <td>This is Phineas. He's a mystical boy. Only eve...</td>\n",
       "      <td>$13.00</td>\n",
       "      <td>$10.00</td>\n",
       "      <td>Phineas</td>\n",
       "      <td>NaN</td>\n",
       "      <td>$13.00</td>\n",
       "      <td>https://pbs.twimg.com/media/DGKD1-bXoAAIAUK.jpg</td>\n",
       "      <td>1</td>\n",
       "      <td>banana</td>\n",
       "      <td>$0.08</td>\n",
       "      <td>False</td>\n",
       "      <td>$7,425.00</td>\n",
       "      <td>$35,194.00</td>\n",
       "    </tr>\n",
       "  </tbody>\n",
       "</table>\n",
       "</div>"
      ],
      "text/plain": [
       "                tweet_id                 timestamp  \\\n",
       "5758  892177421306343426 2017-08-01 00:17:27+00:00   \n",
       "5759  892177421306343426 2017-08-01 00:17:27+00:00   \n",
       "5760  892420643555336193 2017-08-01 16:23:56+00:00   \n",
       "5761  892420643555336193 2017-08-01 16:23:56+00:00   \n",
       "5762  892420643555336193 2017-08-01 16:23:56+00:00   \n",
       "\n",
       "                                                   text  rating_numerator  \\\n",
       "5758  This is Tilly. She's just checking pup on you....            $13.00   \n",
       "5759  This is Tilly. She's just checking pup on you....            $13.00   \n",
       "5760  This is Phineas. He's a mystical boy. Only eve...            $13.00   \n",
       "5761  This is Phineas. He's a mystical boy. Only eve...            $13.00   \n",
       "5762  This is Phineas. He's a mystical boy. Only eve...            $13.00   \n",
       "\n",
       "      rating_denominator     name dog_breed  rating  \\\n",
       "5758              $10.00    Tilly       NaN  $13.00   \n",
       "5759              $10.00    Tilly       NaN  $13.00   \n",
       "5760              $10.00  Phineas       NaN  $13.00   \n",
       "5761              $10.00  Phineas       NaN  $13.00   \n",
       "5762              $10.00  Phineas       NaN  $13.00   \n",
       "\n",
       "                                              jpg_url  img_num  \\\n",
       "5758  https://pbs.twimg.com/media/DGGmoV4XsAAUL6n.jpg        1   \n",
       "5759  https://pbs.twimg.com/media/DGGmoV4XsAAUL6n.jpg        1   \n",
       "5760  https://pbs.twimg.com/media/DGKD1-bXoAAIAUK.jpg        1   \n",
       "5761  https://pbs.twimg.com/media/DGKD1-bXoAAIAUK.jpg        1   \n",
       "5762  https://pbs.twimg.com/media/DGKD1-bXoAAIAUK.jpg        1   \n",
       "\n",
       "     Prediction_Algorithm_Name  confidence_level  the_animal_is_dog  \\\n",
       "5758                 Chihuahua             $0.32               True   \n",
       "5759                  Pekinese             $0.09               True   \n",
       "5760                     bagel             $0.09              False   \n",
       "5761                    orange             $0.10              False   \n",
       "5762                    banana             $0.08              False   \n",
       "\n",
       "      retweets_count  favorite_count  \n",
       "5758       $5,522.00      $30,461.00  \n",
       "5759       $5,522.00      $30,461.00  \n",
       "5760       $7,425.00      $35,194.00  \n",
       "5761       $7,425.00      $35,194.00  \n",
       "5762       $7,425.00      $35,194.00  "
      ]
     },
     "execution_count": 262,
     "metadata": {},
     "output_type": "execute_result"
    }
   ],
   "source": [
    "df_final.tail(5)"
   ]
  },
  {
   "cell_type": "code",
   "execution_count": 263,
   "metadata": {},
   "outputs": [],
   "source": [
    "df_final.to_csv('twitter_archive_master.csv',index=False)"
   ]
  },
  {
   "cell_type": "code",
   "execution_count": 264,
   "metadata": {},
   "outputs": [
    {
     "data": {
      "text/plain": [
       "<matplotlib.axes._subplots.AxesSubplot at 0x20545c26b00>"
      ]
     },
     "execution_count": 264,
     "metadata": {},
     "output_type": "execute_result"
    },
    {
     "data": {
      "image/png": "[encoded data removed]",
      "text/plain": [
       "<Figure size 432x288 with 1 Axes>"
      ]
     },
     "metadata": {
      "needs_background": "light"
     },
     "output_type": "display_data"
    }
   ],
   "source": [
    "df_final.dog_breed.value_counts().plot(kind='bar')"
   ]
  },
  {
   "cell_type": "code",
   "execution_count": 277,
   "metadata": {},
   "outputs": [
    {
     "data": {
      "image/png": "[encoded data removed]",
      "text/plain": [
       "<Figure size 432x288 with 1 Axes>"
      ]
     },
     "metadata": {
      "needs_background": "light"
     },
     "output_type": "display_data"
    }
   ],
   "source": [
    "\n",
    "df_final.plot(x='retweets_count', y='rating', kind='scatter')\n",
    "plt.xlabel('Retweet Counts')\n",
    "plt.ylabel('Ratings')\n",
    "fig = plt.gcf()\n",
    "fig.savefig('output1.png',bbox_inches='tight');"
   ]
  },
  {
   "cell_type": "code",
   "execution_count": 278,
   "metadata": {},
   "outputs": [
    {
     "data": {
      "image/png": "[encoded data removed]",
      "text/plain": [
       "<Figure size 432x288 with 1 Axes>"
      ]
     },
     "metadata": {
      "needs_background": "light"
     },
     "output_type": "display_data"
    }
   ],
   "source": [
    "df_final.plot(x='favorite_count', y='rating', kind='scatter')\n",
    "plt.xlabel('Favorite_count Counts')\n",
    "plt.ylabel('Ratings')\n",
    "fig = plt.gcf()\n",
    "fig.savefig('outputs2.png',bbox_inches='tight')"
   ]
  },
  {
   "cell_type": "code",
   "execution_count": 267,
   "metadata": {},
   "outputs": [
    {
     "data": {
      "text/plain": [
       "array([nan, 'pupper', 'floofer', 'doggo', 'doggo_pupper', 'puppo',\n",
       "       'doggo_floofer', 'doggo_puppo'], dtype=object)"
      ]
     },
     "execution_count": 267,
     "metadata": {},
     "output_type": "execute_result"
    }
   ],
   "source": [
    "df_final.dog_breed.unique()"
   ]
  },
  {
   "cell_type": "code",
   "execution_count": 268,
   "metadata": {},
   "outputs": [
    {
     "name": "stdout",
     "output_type": "stream",
     "text": [
      "[6534.72, 11711.42857142857, 18063.920634920636, 13259.5, 20380.136363636364, 15452.0, 43419.0]\n"
     ]
    }
   ],
   "source": [
    "B=(df_final.query('dog_breed == \"pupper\"')).favorite_count.sum()/(df_final.query('dog_breed == \"pupper\"')).count()[\"tweet_id\"]\n",
    "C=(df_final.query('dog_breed == \"floofer\"')).favorite_count.sum()/(df_final.query('dog_breed == \"floofer\"')).count()[\"tweet_id\"]\n",
    "D=(df_final.query('dog_breed == \"doggo\"')).favorite_count.sum()/(df_final.query('dog_breed == \"doggo\"')).count()[\"tweet_id\"]\n",
    "E=(df_final.query('dog_breed == \"doggo_pupper\"')).favorite_count.sum()/(df_final.query('dog_breed == \"doggo_pupper\"')).count()[\"tweet_id\"]\n",
    "F=(df_final.query('dog_breed == \"puppo\"')).favorite_count.sum()/(df_final.query('dog_breed == \"puppo\"')).count()[\"tweet_id\"]\n",
    "G=(df_final.query('dog_breed == \"doggo_floofer\"')).favorite_count.sum()/(df_final.query('dog_breed == \"doggo_floofer\"')).count()[\"tweet_id\"]\n",
    "A=(df_final.query('dog_breed == \"doggo_puppo\"')).favorite_count.sum()/(df_final.query('dog_breed == \"doggo_puppo\"')).count()[\"tweet_id\"]\n",
    "\n",
    "print([B,C,D,E,F,G,A])"
   ]
  },
  {
   "cell_type": "code",
   "execution_count": 269,
   "metadata": {},
   "outputs": [
    {
     "data": {
      "text/plain": [
       "600"
      ]
     },
     "execution_count": 269,
     "metadata": {},
     "output_type": "execute_result"
    }
   ],
   "source": [
    "df_final.query('dog_breed == \"pupper\"').count().tweet_id"
   ]
  },
  {
   "cell_type": "code",
   "execution_count": 270,
   "metadata": {},
   "outputs": [
    {
     "data": {
      "image/png": "[encoded data removed]",
      "text/plain": [
       "<Figure size 432x288 with 1 Axes>"
      ]
     },
     "metadata": {
      "needs_background": "light"
     },
     "output_type": "display_data"
    }
   ],
   "source": [
    "fig = plt.figure()\n",
    "ax = fig.add_axes([0,0,1,1])\n",
    "langs = ['pupper', 'floofer', 'doggo', 'doggo_pupper', 'puppo',\n",
    "       'doggo_floofer', 'doggo_puppo']\n",
    "students = [B,C,D,E,F,G,A]\n",
    "ax.bar(langs,students)\n",
    "ax.set_ylabel('Favorite_count Counts')\n",
    "ax.set_xlabel('Dog_Breed')\n",
    "plt.show()"
   ]
  },
  {
   "cell_type": "code",
   "execution_count": 271,
   "metadata": {},
   "outputs": [],
   "source": [
    "b=(df_final.query('dog_breed == \"pupper\"')).rating.sum()/(df_final.query('dog_breed == \"pupper\"')).count()[\"tweet_id\"]\n",
    "c=(df_final.query('dog_breed == \"floofer\"')).rating.sum()/(df_final.query('dog_breed == \"floofer\"')).count()[\"tweet_id\"]\n",
    "d=(df_final.query('dog_breed == \"doggo\"')).rating.sum()/(df_final.query('dog_breed == \"doggo\"')).count()[\"tweet_id\"]\n",
    "e=(df_final.query('dog_breed == \"doggo_pupper\"')).rating.sum()/(df_final.query('dog_breed == \"doggo_pupper\"')).count()[\"tweet_id\"]\n",
    "f=(df_final.query('dog_breed == \"puppo\"')).rating.sum()/(df_final.query('dog_breed == \"puppo\"')).count()[\"tweet_id\"]\n",
    "g=(df_final.query('dog_breed == \"doggo_floofer\"')).rating.sum()/(df_final.query('dog_breed == \"doggo_floofer\"')).count()[\"tweet_id\"]\n",
    "a=(df_final.query('dog_breed == \"doggo_puppo\"')).rating.sum()/(df_final.query('dog_breed == \"doggo_puppo\"')).count()[\"tweet_id\"]"
   ]
  },
  {
   "cell_type": "code",
   "execution_count": 272,
   "metadata": {},
   "outputs": [
    {
     "data": {
      "image/png": "[encoded data removed]",
      "text/plain": [
       "<Figure size 432x288 with 1 Axes>"
      ]
     },
     "metadata": {
      "needs_background": "light"
     },
     "output_type": "display_data"
    }
   ],
   "source": [
    "fig = plt.figure()\n",
    "ax = fig.add_axes([0,0,1,1])\n",
    "langs = ['pupper', 'floofer', 'doggo', 'doggo_pupper', 'puppo',\n",
    "       'doggo_floofer', 'doggo_puppo']\n",
    "students = [b,c,d,e,f,g,a]\n",
    "ax.bar(langs,students)\n",
    "ax.set_ylabel('Ratings')\n",
    "ax.set_xlabel('Dog_Breed')\n",
    "plt.show()"
   ]
  },
  {
   "cell_type": "code",
   "execution_count": 273,
   "metadata": {},
   "outputs": [
    {
     "data": {
      "image/png": "[encoded data removed]",
      "text/plain": [
       "<Figure size 432x288 with 1 Axes>"
      ]
     },
     "metadata": {
      "needs_background": "light"
     },
     "output_type": "display_data"
    }
   ],
   "source": [
    "df_final.plot(x='favorite_count', y='rating', kind='scatter')\n",
    "plt.xlabel('Favorite_count Counts')\n",
    "plt.ylabel('Ratings')\n",
    "plt.title('Favorite by Ratings Scatter Plot')\n",
    "fig = plt.gcf()\n"
   ]
  },
  {
   "cell_type": "code",
   "execution_count": 274,
   "metadata": {},
   "outputs": [
    {
     "data": {
      "text/plain": [
       "13.0"
      ]
     },
     "execution_count": 274,
     "metadata": {},
     "output_type": "execute_result"
    }
   ],
   "source": [
    "#checks on visualization\n",
    "df_final[df_final['dog_breed'] == \"doggo_puppo\"][\"rating\"].mean()"
   ]
  },
  {
   "cell_type": "code",
   "execution_count": 275,
   "metadata": {},
   "outputs": [
    {
     "data": {
      "text/plain": [
       "11.88888888888889"
      ]
     },
     "execution_count": 275,
     "metadata": {},
     "output_type": "execute_result"
    }
   ],
   "source": [
    "df_final[df_final['dog_breed'] == \"doggo\"][\"rating\"].mean()"
   ]
  },
  {
   "cell_type": "code",
   "execution_count": 276,
   "metadata": {},
   "outputs": [
    {
     "data": {
      "text/plain": [
       "$12.00     1338\n",
       "$10.00     1251\n",
       "$11.00     1179\n",
       "$13.00      762\n",
       "$9.00       450\n",
       "$8.00       285\n",
       "$7.00       156\n",
       "$14.00      102\n",
       "$5.00        99\n",
       "$6.00        96\n",
       "$11.26        3\n",
       "$80.00        3\n",
       "$60.00        3\n",
       "$44.00        3\n",
       "$84.00        3\n",
       "$144.00       3\n",
       "$88.00        3\n",
       "$11.27        3\n",
       "$121.00       3\n",
       "$9.79         3\n",
       "$45.00        3\n",
       "$99.00        3\n",
       "$165.00       3\n",
       "$204.00       3\n",
       "Name: rating_numerator, dtype: int64"
      ]
     },
     "execution_count": 276,
     "metadata": {},
     "output_type": "execute_result"
    }
   ],
   "source": [
    "df_final['rating_numerator'].value_counts()"
   ]
  },
  {
   "cell_type": "code",
   "execution_count": null,
   "metadata": {},
   "outputs": [],
   "source": []
  }
 ],
 "metadata": {
  "kernelspec": {
   "display_name": "Python 3",
   "language": "python",
   "name": "python3"
  },
  "language_info": {
   "codemirror_mode": {
    "name": "ipython",
    "version": 3
   },
   "file_extension": ".py",
   "mimetype": "text/x-python",
   "name": "python",
   "nbconvert_exporter": "python",
   "pygments_lexer": "ipython3",
   "version": "3.7.3"
  }
 },
 "nbformat": 4,
 "nbformat_minor": 4
}
